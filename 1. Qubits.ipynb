{
 "cells": [
  {
   "cell_type": "markdown",
   "id": "ac606f77",
   "metadata": {
    "slideshow": {
     "slide_type": "slide"
    }
   },
   "source": [
    "# 1.1. Información clásica\n",
    "\n",
    "La unidad más pequeña de información clásica es el **bit**. El cual es normalmente expresado como un símbolo que puede tomar 2 valores diferentes:\n",
    "\n",
    "\\begin{align*}\n",
    "\\mathbf{b} \\in \\{0, 1\\}\n",
    "\\end{align*}"
   ]
  },
  {
   "cell_type": "markdown",
   "id": "3a196755",
   "metadata": {
    "slideshow": {
     "slide_type": "fragment"
    }
   },
   "source": [
    "Conjuntos de $n$ **bits** se representan como cadenas de $n$ símbolos:\n",
    "\\begin{align*}\n",
    "\\mathbf{b}^n \\in \\{0, 1\\}^n\n",
    "\\end{align*}"
   ]
  },
  {
   "cell_type": "markdown",
   "id": "98f34687",
   "metadata": {
    "slideshow": {
     "slide_type": "fragment"
    }
   },
   "source": [
    "Por ejemplo, con $3$ **bits** podemos representar cualquiera de los siguientes $8$ elementos:\n",
    "\n",
    "\\begin{align*}\n",
    "\\mathbf{b}^3 = \\{000,001, 010, 011, 100, 101, 110, 111\\}\n",
    "\\end{align*}"
   ]
  },
  {
   "cell_type": "code",
   "execution_count": 1,
   "id": "6e2fdb6c",
   "metadata": {
    "scrolled": true,
    "slideshow": {
     "slide_type": "subslide"
    }
   },
   "outputs": [
    {
     "data": {
      "text/plain": [
       "['000', '001', '010', '011', '100', '101', '110', '111']"
      ]
     },
     "execution_count": 1,
     "metadata": {},
     "output_type": "execute_result"
    }
   ],
   "source": [
    "n = 3\n",
    "[format(i, '0'+str(n)+'b') for i in range(1<<n)]"
   ]
  },
  {
   "cell_type": "markdown",
   "id": "9f74342b",
   "metadata": {
    "slideshow": {
     "slide_type": "subslide"
    }
   },
   "source": [
    "Crucialmente, dado que cada **bit** sólo puede estar en uno de los dos estados $0$ o $1$, entonces $n$ **bits** pueden representar sólo **uno** de los $2^n$ elementos del conjunto $\\{0, 1\\}^n$."
   ]
  },
  {
   "cell_type": "markdown",
   "id": "ebf7e09c",
   "metadata": {
    "slideshow": {
     "slide_type": "skip"
    }
   },
   "source": [
    "---"
   ]
  },
  {
   "cell_type": "markdown",
   "id": "09a4e273",
   "metadata": {
    "slideshow": {
     "slide_type": "slide"
    }
   },
   "source": [
    "# 1.2. Información cuántica\n",
    "\n",
    "La unidad más pequeña de información cuántica es el **qubit**. El cual es expresado como un vector que vive en $\\mathbb{C}^2$:\n",
    "\\begin{align*}\n",
    "v = \\begin{bmatrix} \\alpha_0 \\\\ \\alpha_1 \\end{bmatrix}, \\space \\space \\space \\alpha_0, \\alpha_1 \\in \\mathbb{C}\n",
    "\\end{align*}\n",
    "\n",
    "**¿Por qué un vector de números complejos?**\n",
    "<div class=\"alert alert-block alert-success\">\n",
    "    <b>💡 Recuerda 💡</b>\n",
    "    <br>\n",
    "    Un <b>qubit</b> es un sistema cuántico simple de dos estados (o dos niveles), el cual se rige por las leyes de la mecánica cuántica.\n",
    "</div>"
   ]
  },
  {
   "cell_type": "markdown",
   "id": "5cd4ab00",
   "metadata": {
    "slideshow": {
     "slide_type": "subslide"
    }
   },
   "source": [
    "## 1.2.1. Notación de Dirac\n",
    "\n",
    "Los físicos usan una notación especial para escribir los vectores columna, llamados **ket**, y los vectores fila, llamados **bra**:\n",
    "\\begin{align*}\n",
    "\\mathcal{v} = \\begin{bmatrix} \\alpha_0 \\\\ \\alpha_1 \\end{bmatrix} = |v\\rangle,\n",
    "\\space \\space \\space\n",
    "\\mathcal{v}^* = \\begin{bmatrix} \\alpha_0^* & \\alpha_1^* \\end{bmatrix} = \\langle v|\n",
    "\\end{align*}"
   ]
  },
  {
   "cell_type": "markdown",
   "id": "e1b290c7",
   "metadata": {
    "slideshow": {
     "slide_type": "subslide"
    }
   },
   "source": [
    "Esta notación tiene las siguientes ventajas:\n",
    "1. El producto interno de dos vectores se puede escribir de forma abreviada como un **bra-ket**:\n",
    "\\begin{align*}\n",
    "\\space \\space \\space \\langle v_0| |v_1\\rangle =  \\langle v_0 | v_1 \\rangle\n",
    "\\end{align*}\n",
    "3. Si $\\mathbf{A}$ es una matriz unitaria diagonalizable, entonces:\n",
    "\\begin{align*}\n",
    "\\mathbf{A} = \\sum_i \\lambda_i |v_i\\rangle \\langle v_i|,\n",
    "\\end{align*}\n",
    "donde $\\{ v_i \\}$ es un conjunto ortonormal de autovectores.\n",
    "4. El conjugado complejo simplemente convierte un **bra** en un **ket**, o viceversa:\n",
    "\\begin{align*}\n",
    "( |v\\rangle \\otimes |u\\rangle )^* &= \\langle u| \\otimes \\langle v| \\space \\space ,\n",
    "\\\\\n",
    "( \\mathbf{U} | \\mathcal{v} \\rangle )^* &= \\langle v |\\mathbf{U}^*\n",
    "\\end{align*}"
   ]
  },
  {
   "cell_type": "markdown",
   "id": "e42fe3c0",
   "metadata": {
    "slideshow": {
     "slide_type": "skip"
    }
   },
   "source": [
    "---"
   ]
  },
  {
   "cell_type": "markdown",
   "id": "aeb5169d",
   "metadata": {
    "slideshow": {
     "slide_type": "slide"
    }
   },
   "source": [
    "# 1.3. Postulados de la mecánica cuántica (versión resumida)\n",
    "\n",
    "En resumen:\n",
    "> Un estado cuántico es una **superposición** de estados clásicos escrito como un vector de **amplitudes**, el cual se puede **medir** o se le puede aplicar (o evoluciona de acuerdo a) un **operador unitario**. "
   ]
  },
  {
   "cell_type": "markdown",
   "id": "3f8e4deb",
   "metadata": {
    "slideshow": {
     "slide_type": "subslide"
    }
   },
   "source": [
    "## 1.3.1. Superposición\n",
    "Imaginemos un sistema que puede estar en $\\mathit{N}$ estados clásicos distintos y mutuamente exclusivos: $|0\\rangle, |1 \\rangle, |2 \\rangle, \\space \\dots \\space, |N-1 \\rangle$. Entonces el estado cuántico (puro) $|\\psi \\rangle$, es una superposición de estos estados clásicos:\n",
    "\\begin{align*}\n",
    "|\\psi\\rangle = \\alpha_0 |0 \\rangle + \\alpha_1 |1 \\rangle + \\alpha_2 |2 \\rangle + \\space \\dots \\space + \\alpha_{N-1} |N-1 \\rangle\n",
    "\\end{align*}\n",
    "\n",
    "O, dicho de otra manera, $|\\psi\\rangle$ es una combinación lineal de los estados clásicos $\\{ |0 \\rangle, \\dots, |N-1 \\rangle \\}$ (los cuales forman una base ortonormal del espacio de Hilbert de $\\mathit{N}$ dimensiones, un espacio vectorial en $\\mathbb{C}^d$ con un producto interno).\n",
    "\n",
    "Los números complejos $\\alpha_0, \\alpha_1, \\dots, \\alpha_{N-1}$ son las **amplitudes** de cada estado $|i\\rangle$.\n",
    "\n",
    "<div class=\"alert alert-block alert-success\">\n",
    "    <b>💡 Recuerda 💡</b>\n",
    "    <br>\n",
    "    Un estado cuántico es una <b>superposición</b> de estados clásicos escrito como un vector de <b>amplitudes</b>.\n",
    "</div>"
   ]
  },
  {
   "cell_type": "markdown",
   "id": "6642a3bc",
   "metadata": {
    "slideshow": {
     "slide_type": "subslide"
    }
   },
   "source": [
    "## 1.3.2. Medición\n",
    "\n",
    "Ya que no podemos acceder o ver la información cuántica en superposición, si queremos saber en cuál de los $\\mathit{N}$ estados clásicos se encuentra $|\\psi\\rangle$, debemos medirlo. Al observarlo, veremos uno (y **sólo uno**) de los estados clásicos $|i \\rangle$. Cuál de los estados clásicos obtendremos no está determinado, lo único que sabemos es que la probabilidad de ver el estado $|i \\rangle$ está determinado por $|\\alpha_i|^2$, es decir la **norma cuadrada** o **absoluto cuadrado** de la amplitud correspondiente (conocida como la Regla de Born).\n",
    "\n",
    "Así, observar o medir un estado cuántico induce una distribución de probabilidad sobre los estados clásicos, dada por la norma al cuadrado de sus amplitudes. O, en otras palabras:\n",
    "\n",
    "\\begin{align*}\n",
    "\\sum_{i=0}^{N-1} |\\alpha_i|^2 = 1\n",
    "\\end{align*}\n",
    "\n",
    "Al medir un estado cuántico $|\\psi\\rangle$ lo destruimos para extraer información clásica. Después de esto la información cuántica se pierde y el estado resultante es simplemente uno de los estados clásicos $|i \\rangle$. Es por ello que se dice que observar un estado cuántico lo **colapsa**."
   ]
  },
  {
   "cell_type": "markdown",
   "id": "e0981ecb",
   "metadata": {
    "slideshow": {
     "slide_type": "subslide"
    }
   },
   "source": [
    "Una consecuencia de la Regla de Born es que el producto interno de un estado cuántico puro, es decir $ \\langle \\psi | \\psi \\rangle$, es 1:\n",
    "\n",
    "\\begin{align*}\n",
    " \\langle \\psi | \\psi \\rangle =\n",
    "\\begin{bmatrix} \\alpha_0^*, \\dots, \\alpha_{N-1}^* \\end{bmatrix}\n",
    "\\begin{bmatrix} \\alpha_0 \\\\ \\vdots \\\\ \\alpha_{N-1} \\end{bmatrix} =\n",
    "\\sum_{i=0}^{N-1} \\alpha_i^* \\alpha_i = \\sum_{i=0}^{N-1} |\\alpha_i|^2 = 1\n",
    "\\end{align*}\n",
    "\n",
    "Así, el producto interno de dos estados cuánticos $ \\langle \\psi | \\phi \\rangle$ se puede usar como una forma para medir qué tan cercano es $|\\psi\\rangle$ a $|\\phi \\rangle$, donde $\\mathbf{1}$ indica que los estados son idénticos, y $\\mathbf{0}$ nos dice que son ortogonales.\n",
    "\n",
    "Por otro lado, dado que el valor absoluto de un número complejo de la forma $r e^{i \\theta}$ es simplemente $r$, entonces medir un estado cuántico $e^{i \\theta}|\\psi\\rangle$ nos da una distribución de probabilidad exactamente igual a medir $|\\psi \\rangle$. Es por esto que se dice que un factor de fase global no tiene significancia física para un estado cuántico."
   ]
  },
  {
   "cell_type": "markdown",
   "id": "f2e8f126",
   "metadata": {
    "slideshow": {
     "slide_type": "fragment"
    }
   },
   "source": [
    "<div class=\"alert alert-block alert-success\">\n",
    "    <b>💡 Recuerda 💡</b>\n",
    "    <br>\n",
    "    Al <b>medir</b> un estado cuántico en superposición $|\\psi\\rangle = \\alpha_0 |0 \\rangle + \\space \\dots \\space + \\alpha_{N-1} |N-1 \\rangle$, obtenemos el resultado $|i \\rangle$ con probabilidad $|\\alpha_0|^2$, y $|\\psi \\rangle$ <b>colapsa</b> en el estado clásico $|i \\rangle$.\n",
    "</div>"
   ]
  },
  {
   "cell_type": "markdown",
   "id": "27f3c761",
   "metadata": {
    "slideshow": {
     "slide_type": "subslide"
    }
   },
   "source": [
    "## 1.3.3. Evolución unitaria\n",
    "\n",
    "También podemos aplicar operaciones a los estados cuánticos para transformarlos: $|\\psi_\\alpha\\rangle \\rightarrow |\\psi_\\beta \\rangle$. Si $|\\psi_\\alpha \\rangle$ es un vector de $N$ números complejos, entonces el operador de transformación es simplemente una matriz compleja  $U$ de tamaño $N \\times N$ que multiplica a $|\\psi_\\alpha \\rangle$:\n",
    "\n",
    "\\begin{align*}\n",
    "U |\\psi_\\alpha\\rangle = U \\begin{bmatrix} \\alpha_0 \\\\ \\vdots \\\\ \\alpha_{N-1} \\end{bmatrix} =\n",
    "\\begin{bmatrix} \\beta_0 \\\\ \\vdots \\\\ \\beta_{N-1} \\end{bmatrix} = |\\psi_\\beta\\rangle\n",
    "\\end{align*}"
   ]
  },
  {
   "cell_type": "markdown",
   "id": "59fcde9c",
   "metadata": {
    "slideshow": {
     "slide_type": "fragment"
    }
   },
   "source": [
    "La mecánica cuántica sólo admite operadores lineales. Así que, por linearidad, podemos escribir:\n",
    "\\begin{align*}\n",
    "U |\\psi_\\alpha\\rangle = U \\biggl( \\sum_i \\alpha_i |i \\rangle \\biggr) = \\sum_i \\alpha_i U |i \\rangle \n",
    "\\end{align*}"
   ]
  },
  {
   "cell_type": "markdown",
   "id": "471f2aa0",
   "metadata": {
    "slideshow": {
     "slide_type": "subslide"
    }
   },
   "source": [
    "Además, dado que el nuevo estado $|\\psi_\\beta\\rangle$ debe también ser un estado válido donde $\\sum_{i=0}^{N-1} |\\beta_i|^2 = 1$, entonces sabemos que el operador $U$ debe preservar la norma de cualquier vector, así que debe ser una transformación **unitaria**.\n",
    "\n",
    "Una matriz es unitaria si su inverso $U^{-1}$ es igual a su transpuesta conjugada $U^\\dagger$. Entonces, una matriz unitaria es siempre reversible y satisface:\n",
    "\n",
    "\\begin{align*}\n",
    "U U^\\dagger = U^\\dagger U = I \n",
    "\\end{align*}"
   ]
  },
  {
   "cell_type": "markdown",
   "id": "b149f04b",
   "metadata": {
    "slideshow": {
     "slide_type": "fragment"
    }
   },
   "source": [
    "<div class=\"alert alert-block alert-success\">\n",
    "    <b>💡 Recuerda 💡</b>\n",
    "    <br>\n",
    "    Los estados cuánticos se transforman mediante la aplicación de operadores <b>unitarios</b>. Cualquier operación (excepto la medición) sobre un estado cuántico es <b>reversible</b> y preserva la norma del estado. \n",
    "</div>"
   ]
  },
  {
   "cell_type": "markdown",
   "id": "f9a461a1",
   "metadata": {
    "slideshow": {
     "slide_type": "subslide"
    }
   },
   "source": [
    "### Slido 1\n",
    "\n",
    "| link | código |\n",
    "| --- | --- |\n",
    "| [https://app.sli.do/event/kV61xBvs157G5aFw6VTsWP](https://app.sli.do/event/kV61xBvs157G5aFw6VTsWP) | **2078 830** |"
   ]
  },
  {
   "cell_type": "markdown",
   "id": "de808e33",
   "metadata": {
    "slideshow": {
     "slide_type": "skip"
    }
   },
   "source": [
    "---"
   ]
  },
  {
   "cell_type": "markdown",
   "id": "8991f3ff",
   "metadata": {
    "slideshow": {
     "slide_type": "slide"
    }
   },
   "source": [
    "# 1.4. Qubits y registros cuánticos\n",
    "\n",
    "Aunque podemos usar cualquier base ortonormal para escribir el estado de un qubit, en el cómputo cuántico normalmente usamos la llamada **base computacional** formada por los estados $|0\\rangle$ y $|1 \\rangle$:\n",
    "\n",
    "\\begin{align*}\n",
    "|0\\rangle = \\begin{bmatrix} 1 \\\\ 0 \\end{bmatrix}; \\space \\space \\space |1 \\rangle = \\begin{bmatrix} 0 \\\\ 1 \\end{bmatrix}\n",
    "\\end{align*}\n",
    "\n",
    "Con los cuales podemos escribir cualquier qubit $|\\psi\\rangle$ como:\n",
    "\n",
    "\\begin{align*}\n",
    "|\\psi\\rangle = \\alpha_0 |0 \\rangle + \\alpha_1 |1 \\rangle =\n",
    "\\alpha_0 \\begin{bmatrix} 1 \\\\ 0 \\end{bmatrix} +\n",
    "\\alpha_1 \\begin{bmatrix} 0 \\\\ 1 \\end{bmatrix} =\n",
    "\\begin{bmatrix} \\alpha_0 \\\\ \\alpha_1 \\end{bmatrix}\n",
    "\\end{align*}"
   ]
  },
  {
   "cell_type": "code",
   "execution_count": 2,
   "id": "dd0a5fd9",
   "metadata": {
    "slideshow": {
     "slide_type": "subslide"
    }
   },
   "outputs": [
    {
     "data": {
      "text/plain": [
       "array([[0.81649658],\n",
       "       [0.57735027]])"
      ]
     },
     "execution_count": 2,
     "metadata": {},
     "output_type": "execute_result"
    }
   ],
   "source": [
    "import numpy as np\n",
    "import math\n",
    "\n",
    "# Estados de la base computacional\n",
    "base_computacional = {\n",
    "    \"|0>\" : np.array([[1], [0]]),\n",
    "    \"|1>\" : np.array([[0], [1]]),\n",
    "}\n",
    "    \n",
    "# Amplitudes del qubit\n",
    "alpha_0 = np.sqrt(2/3)\n",
    "alpha_1 = np.sqrt(1/3)\n",
    "\n",
    "# La condición de normalización para las amplitudes debe cumplirse\n",
    "amplitudes = [alpha_0, alpha_1]\n",
    "assert math.isclose(np.sum([x**2 for x in map(np.abs, amplitudes)]), 1.0)\n",
    "\n",
    "# Qubit\n",
    "qubit_psi = alpha_0*base_computacional[\"|0>\"] + alpha_1*base_computacional[\"|1>\"]\n",
    "qubit_psi"
   ]
  },
  {
   "cell_type": "markdown",
   "id": "4cec1601",
   "metadata": {
    "slideshow": {
     "slide_type": "subslide"
    }
   },
   "source": [
    "Un sistema de 2 qubits arbitrario es una superposición $2^2 = 4$ estados base, que podríamos representar con estados enteros $|i\\rangle$:\n",
    "\\begin{align*}\n",
    "|\\psi_{AB} \\rangle = \\alpha_0 |0\\rangle + \\alpha_1 |1 \\rangle + \\alpha_2 |2 \\rangle + \\alpha_4 |4 \\rangle  \n",
    "\\end{align*}\n",
    "\n",
    "Cada uno de estos $|i\\rangle$ es de hecho un estado base que se forma del producto tensorial ($\\otimes$) de 2 qubits:\n",
    "\\begin{align*}\n",
    "|0\\rangle \\otimes |0 \\rangle &= |0 \\rangle |0 \\rangle = |0,0 \\rangle = |00 \\rangle = |0 \\rangle\n",
    "\\\\\n",
    "|0\\rangle \\otimes |1 \\rangle &= |0 \\rangle |1 \\rangle = |0,1 \\rangle = |01 \\rangle = |1 \\rangle\n",
    "\\\\\n",
    "|1\\rangle \\otimes |0 \\rangle &= |1 \\rangle |0 \\rangle = |1,0 \\rangle = |10 \\rangle = |2 \\rangle\n",
    "\\\\\n",
    "|1\\rangle \\otimes |1 \\rangle &= |1 \\rangle |1 \\rangle = |1,1 \\rangle = |11 \\rangle = |3 \\rangle\n",
    "\\end{align*}"
   ]
  },
  {
   "cell_type": "code",
   "execution_count": 3,
   "id": "26e85c5a",
   "metadata": {
    "slideshow": {
     "slide_type": "subslide"
    }
   },
   "outputs": [
    {
     "data": {
      "text/plain": [
       "{'|00>': array([[1],\n",
       "        [0],\n",
       "        [0],\n",
       "        [0]]),\n",
       " '|01>': array([[0],\n",
       "        [1],\n",
       "        [0],\n",
       "        [0]]),\n",
       " '|10>': array([[0],\n",
       "        [0],\n",
       "        [1],\n",
       "        [0]]),\n",
       " '|11>': array([[0],\n",
       "        [0],\n",
       "        [0],\n",
       "        [1]])}"
      ]
     },
     "execution_count": 3,
     "metadata": {},
     "output_type": "execute_result"
    }
   ],
   "source": [
    "# Podemos obtener cada uno de los 4 estados base que forman el espacio vectorial de 2 qubits\n",
    "# usando el producto tensorial (np.kron())\n",
    "ket_0 = base_computacional[\"|0>\"]\n",
    "ket_1 = base_computacional[\"|1>\"]\n",
    "base_2_qubits = {\n",
    "    \"|00>\": np.kron(ket_0, ket_0),\n",
    "    \"|01>\": np.kron(ket_0, ket_1),\n",
    "    \"|10>\": np.kron(ket_1, ket_0),\n",
    "    \"|11>\": np.kron(ket_1, ket_1),\n",
    "}\n",
    "base_2_qubits"
   ]
  },
  {
   "cell_type": "code",
   "execution_count": null,
   "id": "4bb641f2",
   "metadata": {
    "slideshow": {
     "slide_type": "subslide"
    }
   },
   "outputs": [],
   "source": [
    "# Un estado cuántico de 2 qubits se puede crear especificando directamente las amplitudes\n",
    "# de los 4 estados base\n",
    "# Nota que la amplitud en este caso es 1/2 para cada uno de los cuatro estados, pues\n",
    "# la suma de la norma cuadradada de las amplitudes debe ser igual a 1:\n",
    "# (|1/2|^2)*4 = 1\n",
    "estados_base = list(base_2_qubits.values())\n",
    "psi_AB_a = 1/2*(estados_base[0] + estados_base[1] + estados_base[2] + estados_base[3]) \n",
    "\n",
    "# O se puede crear usando el producto tensorial (np,kron()) de los qubits A y B\n",
    "qubit_A = ket_0/np.sqrt(2) + ket_1/np.sqrt(2)\n",
    "qubit_B = ket_0/np.sqrt(2) + ket_1/np.sqrt(2)\n",
    "psi_AB_b = np.kron(qubit_A, qubit_B)\n",
    "assert np.allclose(psi_AB_a, psi_AB_b)"
   ]
  },
  {
   "cell_type": "markdown",
   "id": "9f5dabce",
   "metadata": {
    "slideshow": {
     "slide_type": "subslide"
    }
   },
   "source": [
    "En general, un registro de $n$ qubits tiene $2^n$ estados base de la forma:\n",
    "\\begin{align*}\n",
    "|b_1 b_2 \\dots b_n \\rangle = |b_1\\rangle \\otimes |b_2 \\rangle \\otimes \\dots \\otimes |b_n \\rangle, \\space \\space \\space b_i \\in \\{0, 1\\}\n",
    "\\end{align*}\n",
    "\n",
    "Y puede estar en cualquier superposición de dichos estados base:\n",
    "\\begin{align*}\n",
    "|\\psi\\rangle = \\alpha_0 |0 \\rangle + \\alpha_1 |1 \\rangle + \\dots + \\alpha_{2^n - 1} |2^n - 1 \\rangle  \n",
    "\\end{align*}"
   ]
  },
  {
   "cell_type": "markdown",
   "id": "03fc9dc8",
   "metadata": {
    "slideshow": {
     "slide_type": "fragment"
    }
   },
   "source": [
    "<div class=\"alert alert-block alert-info\">\n",
    "    <b>📝 Ejercicio 1.4.e1 📝</b><br>\n",
    "    Escribe una función que recibe el diccionario <code>base_computacional</code> y un entero ($\\geq 2$) que indica el número de qubits, y regresa un diccionario (de la forma de <code>base_2_qubits</code>) con los $2^n$ vectores que son la base del espacio vectorial formado por $n$ qubits en la base computacional.\n",
    "</div>"
   ]
  },
  {
   "cell_type": "code",
   "execution_count": null,
   "id": "a6127bf2",
   "metadata": {
    "slideshow": {
     "slide_type": "subslide"
    }
   },
   "outputs": [],
   "source": [
    "from typing import Dict\n",
    "\n",
    "def estados_base_n_qubits(\n",
    "    base_computacional: Dict[str, np.ndarray],\n",
    "    n_qubits: int\n",
    ") -> Dict[str, np.ndarray]:\n",
    "    assert n_qubits >= 2, \"n_qubits debe ser mayor o igual a 2\"\n",
    "\n",
    "    # Escribe tu código aquí\n",
    "    pass\n",
    "\n",
    "estados_base_n_qubits(base_computacional, 3)"
   ]
  },
  {
   "cell_type": "markdown",
   "id": "88faab2e",
   "metadata": {
    "slideshow": {
     "slide_type": "slide"
    }
   },
   "source": [
    "# 1.5. Entrelazamiento cuántico\n",
    "\n",
    "Si creamos estados cuánticos válidos de 2 qubits aleatoriamente, pronto nos percataremos que existen algunos que tienen una característica especial. Tomemos por ejemplo:\n",
    "\\begin{align*}\n",
    "\\frac{1}{\\sqrt{2}} |00\\rangle + \\frac{1}{\\sqrt{2}} |11 \\rangle =\n",
    "\\frac{1}{\\sqrt{2}} \\bigl( |0_1 0_2 \\rangle + |1_1 1_2 \\rangle \\bigr)\n",
    "\\end{align*}\n",
    "\n",
    "Lo primero que notamos es que el registro está en una superposición equitativa. Así que si midiéramos cualquiera de los dos qubits por separado, obtendríamos $|0\\rangle$ o $|1 \\rangle$ con una probabilidad de $|\\frac{1}{\\sqrt{2}}|^2 = \\frac{1}{2}$ (50%)."
   ]
  },
  {
   "cell_type": "markdown",
   "id": "b5109a9b",
   "metadata": {
    "slideshow": {
     "slide_type": "subslide"
    }
   },
   "source": [
    "Sin embargo los qubits parecen estar correlacionados de tal forma que, al medir uno de ellos, determinamos inmediatamente el estado del otro. Por ejemplo, supongamos que medimos el segundo qubit y observamos que está en $|1\\rangle$, entonces el estado conjunto colapsa a $|1_1 1_2 \\rangle$ e **instantáneamente** sabemos que el primer qubit está también en el estado $|1 \\rangle$.\n",
    "\n",
    "Dado que los qubits pueden estar separados físicamente por cualquier distancia, esta acción instantánea parece violar la ley de que nada puede viajar más rápido que la velocidad de la luz. Einstein llamó a esto *\"spooky action at a distance\"*.\n",
    "\n",
    "En general, un sistema de 2 (o más) qubits está entrelazado si no se puede escribir como el producto tensorial de los qubits individuales:\n",
    "\\begin{align*}\n",
    "|\\Phi_{AB} \\rangle \\neq |\\Phi_A\\rangle \\otimes |\\Phi_B \\rangle\n",
    "\\end{align*}"
   ]
  },
  {
   "cell_type": "markdown",
   "id": "b56e9b34",
   "metadata": {
    "slideshow": {
     "slide_type": "subslide"
    }
   },
   "source": [
    "<div class=\"alert alert-block alert-success\">\n",
    "    <b>💡 Recuerda 💡</b>\n",
    "    <br>\n",
    "    Un sistema cuántico está <b>entrelazado</b> si no se puede expresar como el producto tensorial de los qubits que lo conforman.</div>"
   ]
  },
  {
   "cell_type": "markdown",
   "id": "2eba04a5",
   "metadata": {
    "slideshow": {
     "slide_type": "subslide"
    }
   },
   "source": [
    "### Slido 2\n",
    "\n",
    "| link | código |\n",
    "| --- | --- |\n",
    "| [https://app.sli.do/event/s6ducAgiWSmXkRVbi6ifxD](https://app.sli.do/event/s6ducAgiWSmXkRVbi6ifxD) | **5492 913** |"
   ]
  },
  {
   "cell_type": "markdown",
   "id": "e0a27a55",
   "metadata": {
    "slideshow": {
     "slide_type": "skip"
    }
   },
   "source": [
    "---"
   ]
  },
  {
   "cell_type": "markdown",
   "id": "dde14875",
   "metadata": {
    "slideshow": {
     "slide_type": "slide"
    }
   },
   "source": [
    "# 1.6. Compuertas cuánticas\n",
    "\n",
    "A los operadores cuánticos también se les llama **compuertas cuánticas**, y se pueden pensar como análogas de las compuertas lógicas clásicas como $NOT$, $OR$, o $AND$ (con la diferencia claro de que en el caso cuántico, todas las compuertas son invertibles). Por ejemplo, el operador análogo al $NOT$, que cambia un qubit de $|0\\rangle$ a $|1 \\rangle$ y viceversa es la compuerta $X$:\n",
    "\n",
    "\\begin{align*}\n",
    "X = \n",
    "\\begin{bmatrix}\n",
    "0 & 1\n",
    "\\\\\n",
    "1 & 0\n",
    "\\end{bmatrix}\n",
    "\\end{align*}"
   ]
  },
  {
   "cell_type": "markdown",
   "id": "c4b19f55",
   "metadata": {
    "slideshow": {
     "slide_type": "fragment"
    }
   },
   "source": [
    "Podemos comprobar su efecto en distintos estados cuánticos simplemente multiplicando la matriz del operador por el vector del estado:\n",
    "\n",
    "\\begin{align*}\n",
    "X |0\\rangle &= \n",
    "\\begin{bmatrix} 0 & 1 \\\\ 1 & 0 \\end{bmatrix}\n",
    "\\begin{bmatrix} 1 \\\\ 0 \\end{bmatrix}\n",
    "= \\begin{bmatrix} 0 \\\\ 1 \\end{bmatrix}\n",
    "= |1\\rangle\n",
    "\\\\\n",
    "\\\\\n",
    "X |1\\rangle &= \n",
    "\\begin{bmatrix} 0 & 1 \\\\ 1 & 0 \\end{bmatrix}\n",
    "\\begin{bmatrix} 0 \\\\ 1 \\end{bmatrix}\n",
    "= \\begin{bmatrix} 1 \\\\ 0 \\end{bmatrix}\n",
    "= |0\\rangle\n",
    "\\end{align*}"
   ]
  },
  {
   "cell_type": "markdown",
   "id": "3f5cc642",
   "metadata": {
    "slideshow": {
     "slide_type": "subslide"
    }
   },
   "source": [
    "**¿Qué pasa si aplicamos $X$ a un estado en superposición?**\n",
    "\n",
    "Como sabemos, los operadores cuánticos actúan linealmente sobre los estados. Esto simplemente quiere decir que para un estado cuántico arbitrario $|\\psi\\rangle = \\alpha|0 \\rangle + \\beta|1 \\rangle$:\n",
    "\n",
    "\\begin{align*}\n",
    "X |\\psi\\rangle &= X \\bigl( \\alpha|0 \\rangle + \\beta|1 \\rangle \\bigr) = \\alpha X |0 \\rangle + \\beta X |1 \\rangle = \\alpha |1 \\rangle + \\beta |0 \\rangle = \\beta |0 \\rangle + \\alpha |1 \\rangle\n",
    "\\end{align*}\n",
    "\n",
    "Y lo podemos comprobar de la misma forma:\n",
    "\n",
    "\\begin{align*}\n",
    "X |\\psi\\rangle &= \\begin{bmatrix} 0 & 1 \\\\ 1 & 0 \\end{bmatrix}\n",
    "\\begin{bmatrix} \\alpha \\\\ \\beta \\end{bmatrix} =\n",
    "\\begin{bmatrix} \\beta \\\\ \\alpha \\end{bmatrix} =\n",
    "\\beta |0\\rangle + \\alpha |1 \\rangle\n",
    "\\end{align*}\n",
    "\n",
    "Esto es bastante poderoso, pues nos permite actuar sobre todos los estados clásicos de una superposición con la aplicación de un sólo operador."
   ]
  },
  {
   "cell_type": "markdown",
   "id": "cdc94296",
   "metadata": {
    "slideshow": {
     "slide_type": "subslide"
    }
   },
   "source": [
    "## 1.6.1. Compuertas elementales: matrices de Pauli\n",
    "\n",
    "Las llamadas matrices de Pauli: $\\{ X, Y, Z\\}$, (a veces escritas como $\\{\\sigma_x, \\sigma_y, \\sigma_z\\}$ o $\\{\\sigma_1, \\sigma_2, \\sigma_3\\}$) son ejemplos de compuertas cuánticas que actúan en 1 qubit. Se definen como:\n",
    "\n",
    "\\begin{align*}\n",
    "X = \\begin{bmatrix} 0 & 1 \\\\ 1  & 0 \\end{bmatrix}; \\space \\space \\space\n",
    "Y = \\begin{bmatrix} 0 & -i \\\\ i &  0 \\end{bmatrix}; \\space \\space \\space\n",
    "Z = \\begin{bmatrix} 1 & 0 \\\\ 0 &  -1 \\end{bmatrix}\n",
    "\\end{align*}\n"
   ]
  },
  {
   "cell_type": "markdown",
   "id": "c54201e5",
   "metadata": {
    "slideshow": {
     "slide_type": "fragment"
    }
   },
   "source": [
    "\n",
    "Cada una de estas matrices $P$ es unitaria y Hermítica (es decir, la matriz es su misma inversa/transpuesta conjugada: $P = P^{-1} = P^\\dagger$, y tiene autovalores reales $\\{ +1, -1 \\}$). A la compuerta $X$ también se le llama **bitflip**, porque ilnvierte un qubit. A la compuerta $Z$ también se le llama **phaseflip**, porque añade una fase ($-1$) al estado $| 1 \\rangle$."
   ]
  },
  {
   "cell_type": "markdown",
   "id": "6593de4f",
   "metadata": {
    "slideshow": {
     "slide_type": "subslide"
    }
   },
   "source": [
    "Una de las propiedades del conjunto de matrices de Pauli es que cualquier matriz compleja $A$ de tamaño $2 \\times 2$ puede ser escrita como una combinación lineal de éstas (más la matriz identidad $I = \\begin{bmatrix} 1 & 0 \\\\ 0  & 1 \\end{bmatrix}$) :\n",
    "\n",
    "\\begin{align*}\n",
    "A = \\alpha_0 I + \\alpha_1 X + \\alpha_2 Y + \\alpha_3 Z\n",
    "\\end{align*}\n",
    "\n",
    "Con $\\alpha_i \\in \\mathbb{C}$. Si $A$ es Hermítica, entonces $\\alpha_i$ serán coeficientes reales.\n",
    "\n"
   ]
  },
  {
   "cell_type": "markdown",
   "id": "6212c85c",
   "metadata": {
    "slideshow": {
     "slide_type": "fragment"
    }
   },
   "source": [
    "<div class=\"alert alert-block alert-success\">\n",
    "    <b>💡 Recuerda 💡</b>\n",
    "    <br>\n",
    "    Cualquier compuerta $U$ que actúa sobre 1 qubit se puede expresar como una combinación lineal de los operadores $\\{ I, X, Y, Z \\}$:\n",
    "\\begin{align*}\n",
    "U = \\alpha_0 I + \\alpha_1 X + \\alpha_2 Y + \\alpha_3 Z\n",
    "\\end{align*}\n",
    "</div>"
   ]
  },
  {
   "cell_type": "markdown",
   "id": "1504dba1",
   "metadata": {
    "slideshow": {
     "slide_type": "slide"
    }
   },
   "source": [
    "## 1.6.2. La compuerta de fase $R_\\phi$\n",
    "\n",
    "La compuerta $R_\\phi$ actúa sobre un sólo qubit rotando la fase del estado $|1\\rangle$ por un ángulo $\\phi$, y dejando el estado $|0 \\rangle$ sin alterar. Se define como:\n",
    "\n",
    "\\begin{align*}\n",
    "R_\\phi = \\begin{bmatrix} 1 & 0 \\\\ 0 & e^{i\\phi} \\end{bmatrix}\n",
    "\\end{align*}"
   ]
  },
  {
   "cell_type": "markdown",
   "id": "161ce128",
   "metadata": {
    "slideshow": {
     "slide_type": "fragment"
    }
   },
   "source": [
    "Y podemos comprobar su actuar sobre los estados $|0\\rangle$ y $|1 \\rangle$:\n",
    "\\begin{align*}\n",
    "R_\\phi |0\\rangle &= \\begin{bmatrix} 1 & 0 \\\\ 0 & e^{i\\phi} \\end{bmatrix}\n",
    "\\begin{bmatrix} 1 \\\\ 0 \\end{bmatrix} =\n",
    "\\begin{bmatrix} 1 \\\\ 0 \\end{bmatrix} =\n",
    "|0\\rangle\n",
    "\\\\\n",
    "\\\\\n",
    "R_\\phi |1\\rangle &= \\begin{bmatrix} 1 & 0 \\\\ 0 & e^{i\\phi} \\end{bmatrix}\n",
    "\\begin{bmatrix} 0 \\\\ 1 \\end{bmatrix} =\n",
    "\\begin{bmatrix} 0 \\\\ e^{i\\phi} \\end{bmatrix} =\n",
    "e^{i\\phi} |1\\rangle\n",
    "\\end{align*}"
   ]
  },
  {
   "cell_type": "markdown",
   "id": "2c573ca9",
   "metadata": {
    "slideshow": {
     "slide_type": "subslide"
    }
   },
   "source": [
    "<div class=\"alert alert-block alert-success\">\n",
    "    <b>💡 Recuerda 💡</b>\n",
    "    <br>\n",
    "    La compuerta $Z$ es un caso especial de la compuerta de fase $R_\\phi$, donde el ángulo de rotación es $\\phi = \\pi$, dado que $e^{i \\pi} = -1$. \n",
    "</div>"
   ]
  },
  {
   "cell_type": "markdown",
   "id": "bea15ee3",
   "metadata": {
    "slideshow": {
     "slide_type": "slide"
    }
   },
   "source": [
    "## 1.6.3. Las compuertas $S = R_{\\pi/2}$ y $T= R_{\\pi/4}$\n",
    "\n",
    "Las compuertas de fase con ángulos $\\phi = \\pi/2$ y $\\phi = \\pi/4$ reciben sus propios nombres:\n",
    "\n",
    "\\begin{align*}\n",
    "S = \\sqrt{Z} = R_{\\pi/2} &= \\begin{bmatrix} 1 & 0 \\\\ 0 & e^{i\\frac{\\pi}{2}} \\end{bmatrix}\n",
    "\\\\\n",
    "\\\\\n",
    "T = R_{\\pi/4} &= \\begin{bmatrix} 1 & 0 \\\\ 0 & e^{i\\frac{\\pi}{4}} \\end{bmatrix}\n",
    "\\end{align*}"
   ]
  },
  {
   "cell_type": "markdown",
   "id": "0b574bf3-5fe8-4e01-b935-6709925c2423",
   "metadata": {},
   "source": [
    "## 1.6.4. Compuertas como rotaciones de la esfera de Blochabs\n",
    "\n",
    "### 1.6.4.1. La esfera de Bloch\n",
    "\n",
    "La fórmula de Euler nos permite escribir un número complejo $c \\in \\mathbb{C}$ como:\n",
    "     \n",
    "\\begin{align*}\n",
    "c = e^{i\\theta} = \\cos{\\theta} + i\\sin{\\theta}\n",
    "\\end{align*}"
   ]
  },
  {
   "cell_type": "markdown",
   "id": "1e7fe7d0-c572-49e7-84fe-b19ebbf20941",
   "metadata": {},
   "source": [
    "Con algo de álgebra, podemos llegar a la siguiente fórmula para escribir un qubit aleatorio:\n",
    "\n",
    "\\begin{align*}\n",
    "| \\psi \\rangle = \\cos  \\bigg( \\frac{\\theta}{2} \\bigg) | 0 \\rangle + e^{\\phi} \\sin \\bigg( \\frac{\\theta}{2} \\bigg) |1 \\rangle\n",
    "\\end{align*}"
   ]
  },
  {
   "cell_type": "markdown",
   "id": "9b9ecc42-72e0-4adb-b8cd-1f834a024d56",
   "metadata": {},
   "source": [
    "Esto quiere decir que todos los qubits son puntos sobre la superficie de una esfera. A ésta se le llama Esfera de Bloch.\n",
    "![Esfera_Bloch.svg](https://leimao.github.io/images/blog/2020-06-14-Qubit-Bloch-Sphere/Bloch_sphere.svg.png)"
   ]
  },
  {
   "cell_type": "markdown",
   "id": "14e08f05-b2dc-432c-8594-f46e090acf7c",
   "metadata": {},
   "source": [
    "### 1.6.4.2. La compuerta de rotación $R_\\sigma(\\phi)$\n",
    "\n",
    "Cualquier compuerta cuántica que actúa sobre un sólo qubit se puede interpretar como un operador que rota un punto en la esfera de Bloch:\n",
    "\n",
    "\\begin{align*}\n",
    "U = e^{-i\\frac{\\theta}{2}\\sigma_i} = \\cos  \\bigg( \\frac{\\theta}{2} \\bigg)  -i \\sigma_i \\sin \\bigg( \\frac{\\theta}{2} \\bigg)\n",
    "\\end{align*}\n",
    "\n",
    "donde $\\theta$ es el ángulo, y $\\sigma_i$ son las matrices de Pauli $\\{X, Y, Z\\}$ que corresponden al eje alrededor del cual se hará la rotación."
   ]
  },
  {
   "cell_type": "markdown",
   "id": "f0cf413b-3eb2-4ed8-b8df-5a71677c8889",
   "metadata": {},
   "source": [
    "¿Qué pasa si tenemos un qubit en $| 0 \\rangle$ y le aplicamos una rotación de $\\theta$ alrededor del eje $Z$?"
   ]
  },
  {
   "cell_type": "markdown",
   "id": "fa7c511e",
   "metadata": {
    "slideshow": {
     "slide_type": "slide"
    }
   },
   "source": [
    "## 1.6.5. La compuerta Hadamard $H$\n",
    "\n",
    "Esta es quizá la compuerta más importante que actúa sobre 1 qubit. Su representación matricial es:\n",
    "\n",
    "\\begin{align*}\n",
    "H = \\frac{1}{\\sqrt{2}} \\begin{bmatrix} 1 & 1 \\\\ 1 & -1 \\end{bmatrix}\n",
    "\\end{align*}\n",
    "\n",
    "Y actúa sobre los estados base de la siguiente forma:\n",
    "\n",
    "\\begin{align*}\n",
    "H |0\\rangle &= \\frac{1}{\\sqrt{2}} \\bigg( |0 \\rangle + |1 \\rangle \\bigg)\n",
    "\\\\\n",
    "\\\\\n",
    "H |1\\rangle &= \\frac{1}{\\sqrt{2}} \\bigg( |0 \\rangle - |1 \\rangle \\bigg)\n",
    "\\end{align*}\n"
   ]
  },
  {
   "cell_type": "markdown",
   "id": "49e6feeb",
   "metadata": {
    "slideshow": {
     "slide_type": "subslide"
    }
   },
   "source": [
    "Si comenzamos con un qubit en $|0\\rangle$ y le aplicamos $H$, obtenemos un estado en una superposición equitativa. Al medirlo obtendremos cualquiera de $|0 \\rangle$ o $|1 \\rangle$ con 50% de probabilidad.\n"
   ]
  },
  {
   "cell_type": "markdown",
   "id": "289d9911",
   "metadata": {
    "slideshow": {
     "slide_type": "fragment"
    }
   },
   "source": [
    "<div class=\"alert alert-block alert-success\">\n",
    "    <b>💡 Recuerda 💡</b>\n",
    "    <br>\n",
    "    Al aplicar la compuerta Hadamard $H$ a un estado en superposición equitativa, las amplitudes del estado $|1\\rangle$ se cancelan, o <b>interfieren</b>, y obtenemos el estado original antes de la superposición:\n",
    "\\begin{align*}\n",
    "H \\bigg( \\frac{1}{\\sqrt{2}} |0\\rangle + \\frac{1}{\\sqrt{2}} |1 \\rangle \\bigg) =\n",
    "\\frac{1}{\\sqrt{2}} H |0\\rangle + \\frac{1}{\\sqrt{2}} H |1 \\rangle = \n",
    "\\frac{1}{2} \\big( |0\\rangle + |1 \\rangle \\big) + \\frac{1}{2} \\big( |0 \\rangle - |1 \\rangle \\big) =\n",
    "|0\\rangle\n",
    "\\end{align*}\n",
    "\n",
    "Si recordamos que $H$ es una matriz unitaria (de hecho Hermítica), entonces podríamos haber llegado a la misma conclusión así:\n",
    "\\begin{align*}\n",
    "H \\bigg( \\frac{1}{\\sqrt{2}} |0\\rangle + \\frac{1}{\\sqrt{2}} |1 \\rangle \\bigg) = H \\big( H |0 \\rangle \\big) = HH|0 \\rangle = I|0 \\rangle = |0 \\rangle\n",
    "\\end{align*}\n",
    "</div>"
   ]
  },
  {
   "cell_type": "markdown",
   "id": "2c314343",
   "metadata": {
    "slideshow": {
     "slide_type": "slide"
    }
   },
   "source": [
    "## 1.6.5. Composición de compuertas\n",
    "\n",
    "Así como usamos el producto tensorial $\\otimes$ para expresar el estado de múltiples qubits, también lo podemos usar para combinar compuertas de 1 qubit y crear operadores que actúan en más de un qubit.\n",
    "\n",
    "Muchos de los algoritmos cuánticos, por ejemplo, comienzan creando una superposición uniforme de $n$ qubits. Si el estado inicial es:\n",
    "\\begin{align*}\n",
    "|\\psi\\rangle = |0_1 \\otimes 0_2 \\otimes \\dots \\otimes 0_n \\rangle = |0_1 \\rangle |0_2 \\rangle \\dots |0_n \\rangle = |0_1 0_2 \\dots 0_n \\rangle = |0 \\rangle^{\\otimes n}\n",
    "\\end{align*}\n",
    "\n",
    "Entonces aplicar $H$ a cada uno de los qubits es:\n",
    "\n",
    "\\begin{align*}\n",
    "H|0_1\\rangle \\otimes H|0_2 \\rangle \\otimes \\dots \\otimes H|0_n \\rangle = H^{\\otimes n}|0_1 0_2 \\dots 0_n \\rangle = H^{\\otimes n}|\\psi \\rangle\n",
    "\\end{align*}\n",
    "\n",
    "$H$ es una matriz de $2^n \\times 2^n$ que multiplica al vector columna $|\\psi\\rangle$ de tamaño $2^n$. "
   ]
  },
  {
   "cell_type": "markdown",
   "id": "ff8e9ba1",
   "metadata": {
    "slideshow": {
     "slide_type": "subslide"
    }
   },
   "source": [
    "Si en cambio, queremos aplicar una compuerta $X$ y una compuerta $Z$ al primer y último qubits, respectivamente, del estado original $|\\psi\\rangle$ anterior, lo podemos hacer construyendo el siguiente operador $U$:\n",
    "\n",
    "\\begin{align*}\n",
    "X |0\\rangle |0 \\rangle^{\\otimes n-2} Z |0 \\rangle = \\big( X \\otimes I^{\\otimes n-2} \\otimes Z  \\big) |\\psi \\rangle = U |\\psi \\rangle\n",
    "\\end{align*}\n"
   ]
  },
  {
   "cell_type": "markdown",
   "id": "9ffe62a6",
   "metadata": {
    "slideshow": {
     "slide_type": "slide"
    }
   },
   "source": [
    "## 1.6.6. La compuerta $CNOT$\n",
    "\n",
    "Otra de las compuertas más importantes que actúa sobre 2 qubits, es la compuerta $NOT$ controlada o $CNOT$. Esta compuerta niega o invierte el segundo qubit (llamado **objetivo**), es decir le aplica $X$, si el primer qubit (llamado **control**) está en $|1\\rangle$. El qubit de control no sufre cambio alguno. Es decir:\n",
    "\n",
    "\\begin{align*}\n",
    "CNOT |0_c0_o\\rangle &= |0_c0_o \\rangle \\\\\n",
    "CNOT |0_c1_o\\rangle &= |0_c1_o \\rangle \\\\\n",
    "CNOT |1_c0_o\\rangle &= |1_c1_o \\rangle \\\\\n",
    "CNOT |1_c1_o\\rangle &= |1_c0_o \\rangle \\\\\n",
    "\\end{align*}"
   ]
  },
  {
   "cell_type": "markdown",
   "id": "25305bae",
   "metadata": {
    "slideshow": {
     "slide_type": "subslide"
    }
   },
   "source": [
    "Otra forma de representar al $CNOT$ se obtiene si nos fijamos que al aplicarlo el estado del segundo qubit $|o\\rangle$ es siempre la suma binaria ($\\oplus$) de éste con el primer qubit $|c \\rangle$:\n",
    "\\begin{align*}\n",
    "CNOT |c\\rangle|o \\rangle &= |c \\rangle |c \\oplus o \\rangle\n",
    "\\end{align*}"
   ]
  },
  {
   "cell_type": "markdown",
   "id": "089af9ad",
   "metadata": {
    "slideshow": {
     "slide_type": "fragment"
    }
   },
   "source": [
    "Su representación matricial es:\n",
    "\\begin{align*}\n",
    "CNOT = \\begin{bmatrix}\n",
    "1 & 0 & 0 & 0 \\\\\n",
    "0 & 1 & 0 & 0 \\\\\n",
    "0 & 0 & 0 & 1 \\\\\n",
    "0 & 0 & 1 & 0 \\\\\n",
    "\\end{bmatrix}\n",
    "\\end{align*}"
   ]
  },
  {
   "cell_type": "markdown",
   "id": "5cd15774",
   "metadata": {
    "slideshow": {
     "slide_type": "subslide"
    }
   },
   "source": [
    "<div class=\"alert alert-block alert-success\">\n",
    "    <b>💡 Recuerda 💡</b>\n",
    "    <br>\n",
    "    Una compuerta cuántica que opera sobre $n$ qubits se representa como una matriz cuadrada unitaria de $2^n \\times 2^n$. \n",
    "</div>"
   ]
  },
  {
   "cell_type": "markdown",
   "id": "65df5b22",
   "metadata": {
    "slideshow": {
     "slide_type": "subslide"
    }
   },
   "source": [
    "### Slido 3\n",
    "\n",
    "| link | código |\n",
    "| --- | --- |\n",
    "| [https://app.sli.do/event/m9zVvKgTcegei16HjgYrxY](https://app.sli.do/event/m9zVvKgTcegei16HjgYrxY) | **2827 766** |"
   ]
  },
  {
   "cell_type": "markdown",
   "id": "032e3a93",
   "metadata": {
    "slideshow": {
     "slide_type": "slide"
    }
   },
   "source": [
    "# 1.7. Medición de registros cuánticos\n",
    "\n",
    "Medir un registro cuántico de $n$ qubits es análogo a medir un sólo qubit, al hacerlo obtendremos uno de los estados base con probabilidad igual al absoluto o norma al cuadrado de la amplitud. Por ejemplo, para el estado de 3 qubits máximamente entrelazado:\n",
    "\\begin{align*}\n",
    "|GHZ\\rangle = \\frac{1}{\\sqrt{2}} \\bigg( |000 \\rangle + |111 \\rangle \\bigg)\n",
    "\\end{align*}"
   ]
  },
  {
   "cell_type": "markdown",
   "id": "e0e9ec7b",
   "metadata": {
    "slideshow": {
     "slide_type": "subslide"
    }
   },
   "source": [
    "Como sabemos, la probabilidad de obtener $|000\\rangle$ (que en este caso es igual a la de obtener $|111 \\rangle$) es: $\\left|1/\\sqrt{2}\\right|^2 = 1/2$. Y podemos expresarlo usando el producto interno del estado a medir con el estado base:\n",
    "\\begin{align*}\n",
    "\\Pr \\big[ |000\\rangle \\big] &= \\bigg|  \\langle GHZ | 000 \\rangle \\bigg|^2 = \\bigg|  \\langle 000 | GHZ \\rangle \\bigg|^2\n",
    "\\\\\n",
    "&= \\Bigg|\n",
    "\\begin{bmatrix} \\frac{1}{\\sqrt{2}} & 0 & 0 & 0 & 0 & 0 & 0 & \\frac{1}{\\sqrt{2}} \\end{bmatrix}\n",
    "\\begin{bmatrix} 1 \\\\ 0 \\\\ \\vdots \\\\ 0 \\end{bmatrix}\n",
    "\\Bigg|^2\n",
    "\\\\\n",
    "&= \\bigg| \\frac{1}{\\sqrt{2}} \\bigg|^2\n",
    "\\\\\n",
    "&= \\frac{1}{2}\n",
    "\\end{align*}"
   ]
  },
  {
   "cell_type": "markdown",
   "id": "b16b2b96",
   "metadata": {
    "slideshow": {
     "slide_type": "slide"
    }
   },
   "source": [
    "## 1.7.1. Medición proyectiva\n",
    "\n",
    "Para obtener la probabilidad de que el registro esté en uno de los estados base, lo que hacemos es proyectar el estado $|GHZ\\rangle$ al subespacio de dicho estado base. A esto se le conoce también como **medición proyectiva**.\n",
    "\n",
    "Formalmente, una medición proyectiva que tiene $m$ posibles resultados está dada por una colección de proyectores $\\{ P_0, \\dots, P_{m-1} \\}$ que actúan en el mismo espacio vectorial que el estado a medir, son ortogonales entre si ($P_iP_j = 0$ para cada par distinto de proyectores), y donde la suma de los proyectores es igual a la identidad:\n",
    "\\begin{align*}\n",
    "\\sum_{j=0}^{m-1} P_j = I\n",
    "\\end{align*}"
   ]
  },
  {
   "cell_type": "markdown",
   "id": "fd7dd44b",
   "metadata": {
    "slideshow": {
     "slide_type": "subslide"
    }
   },
   "source": [
    "Al aplicar esta medición, obtenemos el resultado $j$ con probabilidad:\n",
    "\\begin{align*}\n",
    "\\Pr [ j ] &= \\langle \\psi| P_j |\\psi\\rangle\n",
    "\\end{align*}\n",
    "\n",
    "Y el estado del sistema cuántico inmediatamente después de la medición es:\n",
    "\\begin{align*}\n",
    "\\frac{P_j |\\psi\\rangle }{\\sqrt{\\Pr [ j ]}}\n",
    "\\end{align*}"
   ]
  },
  {
   "cell_type": "markdown",
   "id": "89ec6e09",
   "metadata": {
    "slideshow": {
     "slide_type": "subslide"
    }
   },
   "source": [
    "Notemos que siempre podemos escribir un sistema cuántico en la base computacional como $\\psi = \\sum_{j=0}^{n-1} \\alpha_j |j\\rangle$. Entonces, medir $|\\psi \\rangle$ en la base computacional es equivalente a la medición proyectiva donde $m=N$ y $P_j = | j \\rangle \\langle j |$. De tal forma que:\n",
    "\\begin{align*}\n",
    "\\Pr [ j ] = \\langle \\psi| P_j |\\psi\\rangle =\n",
    " \\langle \\psi | j \\rangle  \\langle j | \\psi \\rangle =\n",
    "\\alpha_j^* \\alpha_j =\n",
    "\\big| \\alpha_j \\big|^2 =\n",
    "\\big|  \\langle \\psi | j \\rangle \\big|^2\n",
    "\\end{align*}\n",
    "\n",
    "Y después de la medición, $|\\psi\\rangle$ colapsa al estado base $|j \\rangle$:\n",
    "\n",
    "\\begin{align*}\n",
    "\\frac{P_j |\\psi\\rangle }{\\sqrt{\\Pr [ j ]}} =\n",
    "\\frac{\\alpha_j |j\\rangle }{\\sqrt{|  \\langle \\psi | j \\rangle |^2}} =\n",
    "\\frac{\\alpha_j |j\\rangle }{|  \\langle \\psi | j \\rangle |} =\n",
    "\\frac{\\alpha_j |j\\rangle }{| \\alpha_j |} =\n",
    "\\frac{\\alpha_j}{| \\alpha_j |} |j\\rangle =\n",
    "e^{i\\theta} |j\\rangle =\n",
    "|j\\rangle\n",
    "\\end{align*}"
   ]
  },
  {
   "cell_type": "code",
   "execution_count": 5,
   "id": "7161a8df",
   "metadata": {
    "slideshow": {
     "slide_type": "subslide"
    }
   },
   "outputs": [
    {
     "data": {
      "text/plain": [
       "{'|00><00|': array([[1, 0, 0, 0],\n",
       "        [0, 0, 0, 0],\n",
       "        [0, 0, 0, 0],\n",
       "        [0, 0, 0, 0]]),\n",
       " '|01><01|': array([[0, 0, 0, 0],\n",
       "        [0, 1, 0, 0],\n",
       "        [0, 0, 0, 0],\n",
       "        [0, 0, 0, 0]]),\n",
       " '|10><10|': array([[0, 0, 0, 0],\n",
       "        [0, 0, 0, 0],\n",
       "        [0, 0, 1, 0],\n",
       "        [0, 0, 0, 0]]),\n",
       " '|11><11|': array([[0, 0, 0, 0],\n",
       "        [0, 0, 0, 0],\n",
       "        [0, 0, 0, 0],\n",
       "        [0, 0, 0, 1]])}"
      ]
     },
     "execution_count": 5,
     "metadata": {},
     "output_type": "execute_result"
    }
   ],
   "source": [
    "# Los proyectores de medición en la base computacional para un sistema de\n",
    "# 2 qubits son:\n",
    "proyectores_2_qubits = {}\n",
    "for nombre_estado, estado_base in base_2_qubits.items():\n",
    "    ket = nombre_estado\n",
    "    bra = f\"<{nombre_estado[1:3]}|\"\n",
    "    proyectores_2_qubits[f\"{ket}{bra}\"] = np.outer(estado_base, estado_base.conj().T)\n",
    "proyectores_2_qubits"
   ]
  },
  {
   "cell_type": "markdown",
   "id": "8263881b",
   "metadata": {
    "slideshow": {
     "slide_type": "subslide"
    }
   },
   "source": [
    "<div class=\"alert alert-block alert-info\">\n",
    "    <b>📝 Ejercicio 1.7.e1 📝</b><br>\n",
    "    Escribe una función que recibe una colección de matrices y un número $n$, y regresa <code>True</code> si y solo si las matrices forman un conjunto válido de proyectores para realizar una medición proyectiva sobre un estado cuántico de $n$ qubits.\n",
    "</div>"
   ]
  },
  {
   "cell_type": "code",
   "execution_count": null,
   "id": "71d29326",
   "metadata": {
    "slideshow": {
     "slide_type": "subslide"
    }
   },
   "outputs": [],
   "source": [
    "from typing import List\n",
    "\n",
    "def matrices_son_proyectores_validos_para_n_qubits(\n",
    "    matrices: List[np.ndarray],\n",
    "    n: int\n",
    ") -> bool:\n",
    "    # Escribe tu código aquí\n",
    "    pass\n",
    "\n",
    "# verificación\n",
    "assert matrices_son_proyectores_validos_para_n_qubits(\n",
    "    matrices=list(proyectores_2_qubits.values()),\n",
    "    n=2\n",
    ") "
   ]
  },
  {
   "cell_type": "markdown",
   "id": "c5212cb2",
   "metadata": {
    "slideshow": {
     "slide_type": "slide"
    }
   },
   "source": [
    "## 1.7.2. Medición parcial de registros cuánticos\n",
    "\n",
    "El producto tensorial también se puede usar para construir operadores proyectivos de medición:\n",
    "\\begin{align*}\n",
    "( | 0 \\rangle \\langle 0 | ) \\otimes ( | 1 \\rangle \\langle 1 | ) = | 0\\otimes1 \\rangle \\langle 0\\otimes1 | = | 01 \\rangle \\langle 01 |\n",
    "\\end{align*}"
   ]
  },
  {
   "cell_type": "code",
   "execution_count": 7,
   "id": "9e17ac82",
   "metadata": {
    "slideshow": {
     "slide_type": "subslide"
    }
   },
   "outputs": [
    {
     "data": {
      "text/plain": [
       "array([[0, 0, 0, 0],\n",
       "       [0, 1, 0, 0],\n",
       "       [0, 0, 0, 0],\n",
       "       [0, 0, 0, 0]])"
      ]
     },
     "execution_count": 7,
     "metadata": {},
     "output_type": "execute_result"
    }
   ],
   "source": [
    "proyector_01 = proyectores_2_qubits[\"|01><01|\"]\n",
    "proyector_01"
   ]
  },
  {
   "cell_type": "code",
   "execution_count": 8,
   "id": "c2fd4aa1",
   "metadata": {
    "slideshow": {
     "slide_type": "fragment"
    }
   },
   "outputs": [
    {
     "data": {
      "text/plain": [
       "array([[0, 0, 0, 0],\n",
       "       [0, 1, 0, 0],\n",
       "       [0, 0, 0, 0],\n",
       "       [0, 0, 0, 0]])"
      ]
     },
     "execution_count": 8,
     "metadata": {},
     "output_type": "execute_result"
    }
   ],
   "source": [
    "ketbra_01 = np.kron(np.outer(ket_0, ket_0.conj().T), np.outer(ket_1, ket_1.conj().T))\n",
    "ketbra_01"
   ]
  },
  {
   "cell_type": "code",
   "execution_count": 9,
   "id": "bc42ff3a",
   "metadata": {
    "slideshow": {
     "slide_type": "fragment"
    }
   },
   "outputs": [],
   "source": [
    "assert np.allclose(proyector_01, ketbra_01)"
   ]
  },
  {
   "cell_type": "markdown",
   "id": "f461bc53",
   "metadata": {
    "slideshow": {
     "slide_type": "subslide"
    }
   },
   "source": [
    "Si queremos medir solo un subconjunto de los $n$ qubits de un sistema cuántico, lo que hacemos es crear proyectores que usan el operador identidad $I$ para el subespacio de los qubits que no queremos medir. Por ejemplo, si tenemos el siguiente sistema de 3 qubits:\n",
    "\\begin{align*}\n",
    "|\\psi_{ABC} \\rangle =\n",
    "\\bigg( \\frac{1}{\\sqrt{2}} |0_A\\rangle - \\frac{1}{\\sqrt{2}} |1_A \\rangle \\bigg) \\otimes |0_B \\rangle \\otimes |1_C \\rangle =\n",
    "\\frac{1}{\\sqrt{2}} \\bigg( |0_A 0_B 1_C \\rangle - |1_A 0_B 1_C \\rangle \\bigg) =\n",
    "\\frac{1}{\\sqrt{2}} \\bigg( |001\\rangle - |101 \\rangle \\bigg)\n",
    "\\end{align*}\n"
   ]
  },
  {
   "cell_type": "markdown",
   "id": "d43448c6",
   "metadata": {
    "slideshow": {
     "slide_type": "subslide"
    }
   },
   "source": [
    "\n",
    "Y queremos saber la probabilidad de medir el primer qubit $A$ en 1 y el tercer qubit $C$ en 0, podemos crear el proyector $P_{1I0}$ y medir $|\\psi_{ABC} \\rangle$:\n",
    "\\begin{align*}\n",
    "P_{1I0} &= | 1_A \\rangle \\langle 1_A | \\otimes I \\otimes | 0_C \\rangle \\langle 0_C | \\\\\n",
    "&= | 1_A \\rangle \\langle 1_A | \\otimes ( | 0_B \\rangle \\langle 0_B | + | 1_B \\rangle \\langle 1_B | ) \\otimes | 0_C \\rangle \\langle 0_C | \\\\\n",
    "&= ( | 1_A \\rangle \\langle 1_A | \\otimes | 0_B \\rangle \\langle 0_B | + | 1_A \\rangle \\langle 1_A | \\otimes | 1_B \\rangle \\langle 1_B | ) \\otimes | 0_C \\rangle \\langle 0_C | \\\\\n",
    "&= ( | 1_A 0_B \\rangle \\langle 1_A 0_B | + | 1_A 1_B \\rangle \\langle 1_A 1_B | ) \\otimes | 0_C \\rangle \\langle 0_C | \\\\\n",
    "&= | 1_A 0_B 0_C \\rangle \\langle 1_A 0_B 0_C | + | 1_A 1_B 0_C \\rangle \\langle 1_A 1_B 0_C | \\\\\n",
    "&= | 100 \\rangle \\langle 100 | + | 110 \\rangle \\langle 110 | \\\\ \\\\\n",
    "\\Pr[ A=|1\\rangle, C=|0 \\rangle ] &= \\langle \\psi_{ABC} | P_{1I0} | \\psi_{ABC} \\rangle \\\\\n",
    "&= \\langle \\psi_{ABC} | \\big( | 100 \\rangle \\langle 100 | + | 110 \\rangle \\langle 110 | \\big) |\\psi_{ABC} \\rangle \\\\\n",
    "&= \\frac{1}{2} \\big( \\langle 001| - \\langle 101| \\big) \\big( | 100 \\rangle \\langle 100 | + | 110 \\rangle \\langle 110 | \\big) \\big( |001\\rangle - |101 \\rangle \\big)  \\\\ \n",
    "&= 0\\\\\n",
    "\\end{align*}"
   ]
  },
  {
   "cell_type": "code",
   "execution_count": 10,
   "id": "9ab65653",
   "metadata": {
    "slideshow": {
     "slide_type": "subslide"
    }
   },
   "outputs": [
    {
     "data": {
      "text/plain": [
       "array([[0.]])"
      ]
     },
     "execution_count": 10,
     "metadata": {},
     "output_type": "execute_result"
    }
   ],
   "source": [
    "# Creamos el sistema de 3 qubits\n",
    "psi_ABC = np.kron(\n",
    "    np.kron((ket_0 - ket_1)/np.sqrt(2), ket_0),\n",
    "    ket_1)\n",
    "\n",
    "# Creamos el proyector que nos da la probabilidad de medir el sistema\n",
    "# en el estado con el qubit A=|0>, y el qubit C=\\1>\n",
    "p_1I0 = np.kron(\n",
    "    np.kron(np.outer(ket_1, ket_1.conj().T), np.eye(2)),\n",
    "    np.outer(ket_0, ket_0.conj().T)\n",
    ")\n",
    "\n",
    "# Calculamos la probabilidad\n",
    "pr_A1_C0 = np.dot(\n",
    "    np.dot(psi_ABC.conj().T, p_1I0),\n",
    "    psi_ABC\n",
    ")\n",
    "pr_A1_C0"
   ]
  },
  {
   "cell_type": "markdown",
   "id": "02a3977d",
   "metadata": {
    "slideshow": {
     "slide_type": "subslide"
    }
   },
   "source": [
    "<div class=\"alert alert-block alert-info\">\n",
    "    <b>📝 Ejercicio 1.7.e2 📝</b><br>\n",
    "    Crea los proyectores necesarios y calcula la probabilidad de medir $|\\psi_{ABC} \\rangle$ en los estados:\n",
    "    <ul>\n",
    "        <li>qubit $A$ en $|0\\rangle$ y qubit $C$ en $|0 \\rangle$</li>\n",
    "        <li>qubit $A$ en $|0\\rangle$ y qubit $C$ en $|1 \\rangle$</li>\n",
    "        <li>qubit $A$ en $|1\\rangle$ y qubit $C$ en $|1 \\rangle$</li>\n",
    "    </ul>\n",
    "</div>"
   ]
  },
  {
   "cell_type": "code",
   "execution_count": null,
   "id": "35bfd9e8",
   "metadata": {
    "slideshow": {
     "slide_type": "subslide"
    }
   },
   "outputs": [],
   "source": [
    "# proyectores\n",
    "p_0I0 = ...\n",
    "p_0I1 = ...\n",
    "p_1I1 = ...\n",
    "\n",
    "# probabilidad de medir A=\\0>, C=\\0>\n",
    "pr_A0_C0 = ...\n",
    "# probabilidad de medir A=\\0>, C=\\1>\n",
    "pr_A0_C1 = ...\n",
    "# probabilidad de medir A=\\1>, C=\\1>\n",
    "pr_A1_C1 = ..."
   ]
  },
  {
   "cell_type": "markdown",
   "id": "5859e960",
   "metadata": {
    "slideshow": {
     "slide_type": "subslide"
    }
   },
   "source": [
    "<div class=\"alert alert-block alert-info\">\n",
    "    <b>📝 Ejercicio 1.7.e3📝</b><br>\n",
    "    Usando la función <code>matrices_son_proyectores_validos_para_n_qubits</code> verifica que el conjunto $\\{ P_{0I0}, P_{0I1}, P_{1I0}, P_{1I1} \\} $ forma un conjunto válido de proyectores para estados cuánticos de 3 qubits.\n",
    "</div>"
   ]
  },
  {
   "cell_type": "code",
   "execution_count": null,
   "id": "b39c53bc",
   "metadata": {
    "slideshow": {
     "slide_type": "subslide"
    }
   },
   "outputs": [],
   "source": [
    "assert matrices_son_proyectores_validos_para_n_qubits(\n",
    "    matrices=...,\n",
    "    n=...\n",
    ")"
   ]
  },
  {
   "cell_type": "markdown",
   "id": "9afd7302",
   "metadata": {
    "slideshow": {
     "slide_type": "subslide"
    }
   },
   "source": [
    "### Slido 4\n",
    "\n",
    "| link | código |\n",
    "| --- | --- |\n",
    "| [https://app.sli.do/event/5nQULAUkrBfDiQUXhWREqS](https://app.sli.do/event/5nQULAUkrBfDiQUXhWREqS) | **2233 695** |"
   ]
  },
  {
   "cell_type": "markdown",
   "id": "1e0241d4",
   "metadata": {
    "slideshow": {
     "slide_type": "slide"
    }
   },
   "source": [
    "# 1.8. Otra forma de escribir compuertas cuánticas\n",
    "\n",
    "Como vimos en la sección anterior, los operadores cuánticos se pueden escribir usando el producto externo de los distintos vectores base (en nuestro caso, la base computacional). La identidad es por ejemplo:\n",
    "\n",
    "\\begin{align*}\n",
    "I &= | 0 \\rangle \\langle 0 | + | 1 \\rangle \\langle 1 | \\\\\n",
    "&= \\begin{bmatrix} 1 \\\\ 0 \\end{bmatrix} \\begin{bmatrix} 1 & 0 \\end{bmatrix}\n",
    "+ \\begin{bmatrix} 0 \\\\ 1 \\end{bmatrix} \\begin{bmatrix} 0 & 1 \\end{bmatrix} \\\\\n",
    "&= \\begin{bmatrix} 1 & 0 \\\\ 0 & 0 \\end{bmatrix} + \\begin{bmatrix} 0 & 0 \\\\ 0 & 1 \\end{bmatrix} \\\\\n",
    "&= \\begin{bmatrix} 1 & 0 \\\\ 0 & 1 \\end{bmatrix}\n",
    "\\end{align*}\n"
   ]
  },
  {
   "cell_type": "markdown",
   "id": "9cc1b424",
   "metadata": {
    "slideshow": {
     "slide_type": "subslide"
    }
   },
   "source": [
    "Dado que en la mecánica cuántica todos los operadores deben ser lineales, para especificar completamente un operador basta con decir cómo afecta a cada uno de los estados base que generan un espacio vectorial. $I = | 0 \\rangle \\langle 0 | + | 1 \\rangle \\langle 1 |$ nos dice que al aplicar $I$ a cualquier qubit: $|0 \\rangle \\rightarrow |0 \\rangle$, y $|1 \\rangle \\rightarrow |1 \\rangle$. Es decir, el operador identidad $I$ no modifica los estados base, por lo tanto $I| \\psi \\rangle = |\\psi \\rangle$."
   ]
  },
  {
   "cell_type": "markdown",
   "id": "32241065",
   "metadata": {
    "slideshow": {
     "slide_type": "fragment"
    }
   },
   "source": [
    "Aplicar el operador Pauli $Z$, actúa de la siguiente manera:\n",
    "\\begin{align*}\n",
    "Z|0\\rangle = |0 \\rangle, \\space \\space \\space Z|1 \\rangle = -|1 \\rangle\n",
    "\\end{align*}\n",
    "\n",
    "O, usando la notación del producto externo: $\\space \\space \\space Z = | 0 \\rangle \\langle 0 | - | 1 \\rangle \\langle 1 |$."
   ]
  },
  {
   "cell_type": "markdown",
   "id": "644e380b",
   "metadata": {
    "slideshow": {
     "slide_type": "fragment"
    }
   },
   "source": [
    "Por último, el operador Pauli $X$ que invierte los estados $|0\\rangle$ y $|1 \\rangle$, se puede escribir como:\n",
    "\\begin{align*}\n",
    "X = | 0 \\rangle \\langle 1 | + | 1 \\rangle \\langle 0 |\n",
    "\\end{align*}"
   ]
  },
  {
   "cell_type": "code",
   "execution_count": 11,
   "id": "fb7a6a39",
   "metadata": {
    "slideshow": {
     "slide_type": "subslide"
    }
   },
   "outputs": [],
   "source": [
    "# diccionario de compuertas de 1 qubit\n",
    "compuertas_1q = {\n",
    "    \"I\": np.outer(ket_0, ket_0.conj().T) + np.outer(ket_1, ket_1.conj().T),\n",
    "    \"Z\": np.outer(ket_0, ket_0.conj().T) - np.outer(ket_1, ket_1.conj().T),\n",
    "    \"X\": np.outer(ket_0, ket_1.conj().T) + np.outer(ket_1, ket_0.conj().T),\n",
    "}"
   ]
  },
  {
   "cell_type": "markdown",
   "id": "ddb85b8f",
   "metadata": {
    "slideshow": {
     "slide_type": "subslide"
    }
   },
   "source": [
    "<div class=\"alert alert-block alert-info\">\n",
    "    <b>📝 Ejercicio 1.8.e1📝</b><br>\n",
    "    Añade al diccionario <code>compuertas_1q</code>, las compuertas: $Y, S, T, H$.\n",
    "Escribiéndolas usando la notación del producto externo de los estados $|0\\rangle$ y $|0 \\rangle$.\n",
    "</div>"
   ]
  },
  {
   "cell_type": "code",
   "execution_count": null,
   "id": "10f87ee0",
   "metadata": {
    "slideshow": {
     "slide_type": "subslide"
    }
   },
   "outputs": [],
   "source": [
    "compuertas_1q[\"Y\"] = ...\n",
    "compuertas_1q[\"S\"] = ...\n",
    "compuertas_1q[\"T\"] = ...\n",
    "compuertas_1q[\"H\"] = ..."
   ]
  }
 ],
 "metadata": {
  "celltoolbar": "Slideshow",
  "kernelspec": {
   "display_name": "Python 3 (ipykernel)",
   "language": "python",
   "name": "python3"
  },
  "language_info": {
   "codemirror_mode": {
    "name": "ipython",
    "version": 3
   },
   "file_extension": ".py",
   "mimetype": "text/x-python",
   "name": "python",
   "nbconvert_exporter": "python",
   "pygments_lexer": "ipython3",
   "version": "3.10.0"
  }
 },
 "nbformat": 4,
 "nbformat_minor": 5
}
