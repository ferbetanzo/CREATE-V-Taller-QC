{
 "cells": [
  {
   "cell_type": "markdown",
   "id": "6aa8ebee",
   "metadata": {
    "slideshow": {
     "slide_type": "slide"
    }
   },
   "source": [
    "# 1.1. Información clásica\n",
    "\n",
    "La unidad más pequeña de información clásica es el **bit**. El cual es normalmente expresado como un símbolo que puede tomar 2 valores diferentes:\n",
    "\n",
    "\\begin{align*}\n",
    "\\mathbf{b} \\in \\{0, 1\\}\n",
    "\\end{align*}"
   ]
  },
  {
   "cell_type": "markdown",
   "id": "83a6478b",
   "metadata": {
    "slideshow": {
     "slide_type": "slide"
    }
   },
   "source": [
    "Conjuntos de $n$ **bits** se representan como cadenas de $n$ símbolos:\n",
    "\\begin{align*}\n",
    "\\mathbf{b}^n \\in \\{0, 1\\}^n\n",
    "\\end{align*}"
   ]
  },
  {
   "cell_type": "markdown",
   "id": "0105c5ad",
   "metadata": {
    "slideshow": {
     "slide_type": "slide"
    }
   },
   "source": [
    "Por ejemplo, con $3$ **bits** podemos representar cualquiera de los siguientes $8$ elementos:\n",
    "\n",
    "\\begin{align*}\n",
    "\\mathbf{b}^3 = \\{000,001, 010, 011, 100, 101, 110, 111\\}\n",
    "\\end{align*}"
   ]
  },
  {
   "cell_type": "code",
   "execution_count": 1,
   "id": "533291bc",
   "metadata": {
    "scrolled": true,
    "slideshow": {
     "slide_type": "slide"
    }
   },
   "outputs": [
    {
     "data": {
      "text/plain": [
       "['000', '001', '010', '011', '100', '101', '110', '111']"
      ]
     },
     "execution_count": 1,
     "metadata": {},
     "output_type": "execute_result"
    }
   ],
   "source": [
    "n = 3\n",
    "[format(i, '0'+str(n)+'b') for i in range(1<<n)]"
   ]
  },
  {
   "cell_type": "markdown",
   "id": "274b2031",
   "metadata": {
    "slideshow": {
     "slide_type": "subslide"
    }
   },
   "source": [
    "Crucialmente, dado que cada **bit** sólo puede estar en uno de los dos estados $0$ o $1$, entonces $n$ **bits** pueden representar sólo **uno** de los $2^n$ elementos del conjunto $\\{0, 1\\}^n$."
   ]
  },
  {
   "cell_type": "markdown",
   "id": "5904038b-a7b0-44fb-9166-28162d55cae0",
   "metadata": {},
   "source": [
    "---"
   ]
  },
  {
   "cell_type": "markdown",
   "id": "957d63aa-f99a-4e50-a589-ae772fcc65f1",
   "metadata": {},
   "source": [
    "# 1.2. Información cuántica\n",
    "\n",
    "La unidad más pequeña de información cuántica es el **qubit**. El cual es expresado como un vector que vive en $\\mathbb{C}^2$:\n",
    "\\begin{align*}\n",
    "v = \\begin{bmatrix} \\alpha_0 \\\\ \\alpha_1 \\end{bmatrix}, \\space \\space \\space \\alpha_0, \\alpha_1 \\in \\mathbb{C}\n",
    "\\end{align*}\n",
    "\n",
    "**¿Por qué un vector de números complejos?**\n",
    "<div class=\"alert alert-block alert-success\">\n",
    "    <b>💡 Recuerda 💡</b>\n",
    "    <br>\n",
    "    Un <b>qubit</b> es un sistema cuántico simple de dos estados (o dos niveles), el cual se rige por las leyes de la mecánica cuántica.\n",
    "</div>"
   ]
  },
  {
   "attachments": {},
   "cell_type": "markdown",
   "id": "2e27d1e0-0a21-49cc-9282-646a5939849a",
   "metadata": {},
   "source": [
    "## 1.2.1. Notación de Dirac\n",
    "\n",
    "Los físicos usan una notación especial para escribir los vectores columna, llamados **ket**, y los vectores fila, llamados **bra**:\n",
    "\\begin{align*}\n",
    "\\mathcal{v} = \\begin{bmatrix} \\alpha_0 \\\\ \\alpha_1 \\end{bmatrix} = |v\\rangle,\n",
    "\\space \\space \\space\n",
    "\\mathcal{v}^* = \\begin{bmatrix} \\alpha_0^* & \\alpha_1^* \\end{bmatrix} = \\langle v|\n",
    "\\end{align*}\n",
    "\n",
    "Esta notación tiene las siguientes ventajas:\n",
    "1. El producto interno de dos vectores se puede escribir de forma abreviada como un **bra-ket**:\n",
    "\\begin{align*}\n",
    "\\space \\space \\space \\langle v_0| |v_1\\rangle =  \\langle v_0 | v_1 \\rangle\n",
    "\\end{align*}\n",
    "3. Si $\\mathbf{A}$ es una matriz unitaria diagonalizable, entonces:\n",
    "\\begin{align*}\n",
    "\\mathbf{A} = \\sum_i \\lambda_i |v_i\\rangle \\langle v_i|,\n",
    "\\end{align*}\n",
    "donde $\\{ v_i \\}$ es un conjunto ortonormal de autovectores.\n",
    "4. El conjugado complejo simplemente convierte un **bra** en un **ket**, o viceversa:\n",
    "\\begin{align*}\n",
    "( |v\\rangle \\otimes |u\\rangle )^* &= \\langle u| \\otimes \\langle v| \\space \\space ,\n",
    "\\\\\n",
    "( \\mathbf{U} | \\mathcal{v} \\rangle )^* &= \\langle v |\\mathbf{U}^*\n",
    "\\end{align*}"
   ]
  },
  {
   "cell_type": "markdown",
   "id": "c98718d0-75a3-4165-be4f-f6e9200fed18",
   "metadata": {},
   "source": [
    "---"
   ]
  },
  {
   "cell_type": "markdown",
   "id": "b31ebfe0-4d25-4229-94d1-7f987957061c",
   "metadata": {},
   "source": [
    "# 1.3. Postulados de la mecánica cuántica (versión resumida)\n",
    "\n",
    "En resumen:\n",
    "> Un estado cuántico es una **superposición** de estados clásicos escrito como un vector de **amplitudes**, el cual se puede **medir** o se le puede aplicar (o evoluciona de acuerdo a) un **operador unitario**. "
   ]
  },
  {
   "attachments": {},
   "cell_type": "markdown",
   "id": "4f477b5f-9cd8-4948-b2a9-5b3822ffa10e",
   "metadata": {},
   "source": [
    "## 1.3.1. Superposición\n",
    "Imaginemos un sistema que puede estar en $\\mathit{N}$ estados clásicos distintos y mutuamente exclusivos: $|0\\rangle, |1 \\rangle, |2 \\rangle, \\space \\dots \\space, |N-1 \\rangle$. Entonces el estado cuántico (puro) $|\\psi \\rangle$, es una superposición de estos estados clásicos:\n",
    "\\begin{align*}\n",
    "|\\psi\\rangle = \\alpha_0 |0 \\rangle + \\alpha_1 |1 \\rangle + \\alpha_2 |2 \\rangle + \\space \\dots \\space + \\alpha_{N-1} |N-1 \\rangle\n",
    "\\end{align*}\n",
    "\n",
    "O, dicho de otra manera, $|\\psi\\rangle$ es una combinación lineal de los estados clásicos $\\{ |0 \\rangle, \\dots, |N-1 \\rangle \\}$ (los cuales forman una base ortonormal del espacio de Hilbert de $\\mathit{N}$ dimensiones, un espacio vectorial en $\\mathbb{C}^d$ con un producto interno).\n",
    "\n",
    "Los números complejos $\\alpha_0, \\alpha_1, \\dots, \\alpha_{N-1}$ son las **amplitudes** de cada estado $|i\\rangle$.\n",
    "\n",
    "<div class=\"alert alert-block alert-success\">\n",
    "    <b>💡 Recuerda 💡</b>\n",
    "    <br>\n",
    "    Un estado cuántico es una <b>superposición</b> de estados clásicos escrito como un vector de <b>amplitudes</b>.\n",
    "</div>"
   ]
  },
  {
   "cell_type": "markdown",
   "id": "f31f2d3c-2519-4169-ad44-cb89875f1cd3",
   "metadata": {},
   "source": [
    "## 1.3.2. Medición\n",
    "\n",
    "Ya que no podemos acceder o ver la información cuántica en superposición, si queremos saber en cuál de los $\\mathit{N}$ estados clásicos se encuentra $|\\psi\\rangle$, debemos medirlo. Al observarlo, veremos uno (y **sólo uno**) de los estados clásicos $|i \\rangle$. Cuál de los estados clásicos obtendremos no está determinado, lo único que sabemos es que la probabilidad de ver el estado $|i \\rangle$ está determinado por $|\\alpha_i|^2$, es decir la **norma cuadrada** o **absoluto cuadrado** de la amplitud correspondiente (conocida como la Regla de Born).\n",
    "\n",
    "Así, observar o medir un estado cuántico induce una distribución de probabilidad sobre los estados clásicos, dada por la norma al cuadrado de sus amplitudes. O, en otras palabras:\n",
    "\n",
    "\\begin{align*}\n",
    "\\sum_{i=0}^{N-1} |\\alpha_i|^2 = 1\n",
    "\\end{align*}\n",
    "\n",
    "Al medir un estado cuántico $|\\psi\\rangle$ lo destruimos para extraer información clásica. Después de esto la información cuántica se pierde y el estado resultante es simplemente uno de los estados clásicos $|i \\rangle$. Es por ello que se dice que observar un estado cuántico lo **colapsa**."
   ]
  },
  {
   "cell_type": "markdown",
   "id": "1e7b3208-162b-4483-ba00-9e22f9dcbd68",
   "metadata": {},
   "source": [
    "Una consecuencia de la Regla de Born es que el producto interno de un estado cuántico puro, es decir $ \\langle \\psi | \\psi \\rangle$, es 1:\n",
    "\n",
    "\\begin{align*}\n",
    " \\langle \\psi | \\psi \\rangle =\n",
    "\\begin{bmatrix} \\alpha_0^*, \\dots, \\alpha_{N-1}^* \\end{bmatrix}\n",
    "\\begin{bmatrix} \\alpha_0 \\\\ \\vdots \\\\ \\alpha_{N-1} \\end{bmatrix} =\n",
    "\\sum_{i=0}^{N-1} \\alpha_i^* \\alpha_i = \\sum_{i=0}^{N-1} |\\alpha_i|^2 = 1\n",
    "\\end{align*}\n",
    "\n",
    "Así, el producto interno de dos estados cuánticos $ \\langle \\psi | \\phi \\rangle$ se puede usar como una forma para medir qué tan cercano es $|\\psi\\rangle$ a $|\\phi \\rangle$, donde $\\mathbf{1}$ indica que los estados son idénticos, y $\\mathbf{0}$ nos dice que son ortogonales.\n",
    "\n",
    "Por otro lado, dado que el valor absoluto de un número complejo de la forma $r e^{i \\theta}$ es simplemente $r$, entonces medir un estado cuántico $e^{i \\theta}|\\psi\\rangle$ nos da una distribución de probabilidad exactamente igual a medir $|\\psi \\rangle$. Es por esto que se dice que un factor de fase global no tiene significancia física para un estado cuántico."
   ]
  },
  {
   "cell_type": "markdown",
   "id": "d2c6d220-f88a-440a-9140-a4cc9e2d8c4d",
   "metadata": {},
   "source": [
    "<div class=\"alert alert-block alert-success\">\n",
    "    <b>💡 Recuerda 💡</b>\n",
    "    <br>\n",
    "    Al <b>medir</b> un estado cuántico en superposición $|\\psi\\rangle = \\alpha_0 |0 \\rangle + \\space \\dots \\space + \\alpha_{N-1} |N-1 \\rangle$, obtenemos el resultado $|i \\rangle$ con probabilidad $|\\alpha_0|^2$, y $|\\psi \\rangle$ <b>colapsa</b> en el estado clásico $|i \\rangle$.\n",
    "</div>"
   ]
  },
  {
   "cell_type": "markdown",
   "id": "7d91c53e-1265-47e9-aac2-1727b2310887",
   "metadata": {},
   "source": [
    "## 1.3.3. Evolución unitaria\n",
    "\n",
    "También podemos aplicar operaciones a los estados cuánticos para transformarlos: $|\\psi_\\alpha\\rangle \\rightarrow |\\psi_\\beta \\rangle$. Si $|\\psi_\\alpha \\rangle$ es un vector de $N$ números complejos, entonces el operador de transformación es simplemente una matriz compleja  $U$ de tamaño $N \\times N$ que multiplica a $|\\psi_\\alpha \\rangle$:\n",
    "\n",
    "\\begin{align*}\n",
    "U |\\psi_\\alpha\\rangle = U \\begin{bmatrix} \\alpha_0 \\\\ \\vdots \\\\ \\alpha_{N-1} \\end{bmatrix} =\n",
    "\\begin{bmatrix} \\beta_0 \\\\ \\vdots \\\\ \\beta_{N-1} \\end{bmatrix} = |\\psi_\\beta\\rangle\n",
    "\\end{align*}"
   ]
  },
  {
   "cell_type": "markdown",
   "id": "6cf527ce-2b27-4887-9d0e-0ed7937599eb",
   "metadata": {},
   "source": [
    "La mecánica cuántica sólo admite operadores lineales. Así que, por linearidad, podemos escribir:\n",
    "\\begin{align*}\n",
    "U |\\psi_\\alpha\\rangle = U \\biggl( \\sum_i \\alpha_i |i \\rangle \\biggr) = \\sum_i \\alpha_i U |i \\rangle \n",
    "\\end{align*}"
   ]
  },
  {
   "cell_type": "markdown",
   "id": "9e117cee-743c-4f5c-bcdd-61c1b89a2650",
   "metadata": {},
   "source": [
    "Además, dado que el nuevo estado $|\\psi_\\beta\\rangle$ debe también ser un estado válido donde $\\sum_{i=0}^{N-1} |\\beta_i|^2 = 1$, entonces sabemos que el operador $U$ debe preservar la norma de cualquier vector, así que debe ser una transformación **unitaria**.\n",
    "\n",
    "Una matriz es unitaria si su inverso $U^{-1}$ es igual a su transpuesta conjugada $U^\\dagger$. Entonces, una matriz unitaria es siempre reversible y satisface:\n",
    "\n",
    "\\begin{align*}\n",
    "U U^\\dagger = U^\\dagger U = I \n",
    "\\end{align*}"
   ]
  },
  {
   "cell_type": "markdown",
   "id": "227d99cc-7275-422c-ad64-94e64a9fe6c5",
   "metadata": {},
   "source": [
    "<div class=\"alert alert-block alert-success\">\n",
    "    <b>💡 Recuerda 💡</b>\n",
    "    <br>\n",
    "    Los estados cuánticos se transforman mediante la aplicación de operadores <b>unitarios</b>. Cualquier operación (excepto la medición) sobre un estado cuántico es <b>reversible</b> y preserva la norma del estado. \n",
    "</div>"
   ]
  },
  {
   "attachments": {},
   "cell_type": "markdown",
   "id": "e9df23a8-550c-4d06-9c9e-3b7331a78bdf",
   "metadata": {},
   "source": [
    "### Slido 1\n",
    "\n",
    "| link | código |\n",
    "| --- | --- |\n",
    "| [https://app.sli.do/event/kV61xBvs157G5aFw6VTsWP](https://app.sli.do/event/kV61xBvs157G5aFw6VTsWP) | **2078 830** |"
   ]
  },
  {
   "cell_type": "markdown",
   "id": "a7c46b57-53b4-4761-b155-91fafe0ae1c2",
   "metadata": {},
   "source": [
    "---"
   ]
  },
  {
   "cell_type": "markdown",
   "id": "2d3fa12e-e299-40c5-bd9f-51f6ec727351",
   "metadata": {},
   "source": [
    "# 1.4. Qubits y registros cuánticos\n",
    "\n",
    "Aunque podemos usar cualquier base ortonormal para escribir el estado de un qubit, en el cómputo cuántico normalmente usamos la llamada **base computacional** formada por los estados $|0\\rangle$ y $|1 \\rangle$:\n",
    "\n",
    "\\begin{align*}\n",
    "|0\\rangle = \\begin{bmatrix} 1 \\\\ 0 \\end{bmatrix}; \\space \\space \\space |1 \\rangle = \\begin{bmatrix} 0 \\\\ 1 \\end{bmatrix}\n",
    "\\end{align*}\n",
    "\n",
    "Con los cuales podemos escribir cualquier qubit $|\\psi\\rangle$ como:\n",
    "\n",
    "\\begin{align*}\n",
    "|\\psi\\rangle = \\alpha_0 |0 \\rangle + \\alpha_1 |1 \\rangle =\n",
    "\\alpha_0 \\begin{bmatrix} 1 \\\\ 0 \\end{bmatrix} +\n",
    "\\alpha_1 \\begin{bmatrix} 0 \\\\ 1 \\end{bmatrix} =\n",
    "\\begin{bmatrix} \\alpha_0 \\\\ \\alpha_1 \\end{bmatrix}\n",
    "\\end{align*}"
   ]
  },
  {
   "cell_type": "code",
   "execution_count": 2,
   "id": "d852520c-7d2a-41d5-be06-06a5c534ad09",
   "metadata": {},
   "outputs": [
    {
     "data": {
      "text/plain": [
       "array([[0.81649658],\n",
       "       [0.57735027]])"
      ]
     },
     "execution_count": 2,
     "metadata": {},
     "output_type": "execute_result"
    }
   ],
   "source": [
    "import numpy as np\n",
    "import math\n",
    "\n",
    "# Estados de la base computacional\n",
    "base_computacional = {\n",
    "    \"|0>\" : np.array([[1], [0]]),\n",
    "    \"|1>\" : np.array([[0], [1]]),\n",
    "}\n",
    "    \n",
    "# Amplitudes del qubit\n",
    "alpha_0 = np.sqrt(2/3)\n",
    "alpha_1 = np.sqrt(1/3)\n",
    "\n",
    "# La condición de normalización para las amplitudes debe cumplirse\n",
    "amplitudes = [alpha_0, alpha_1]\n",
    "assert math.isclose(np.sum([x**2 for x in map(np.abs, amplitudes)]), 1.0)\n",
    "\n",
    "# Qubit\n",
    "qubit_psi = alpha_0*base_computacional[\"|0>\"] + alpha_1*base_computacional[\"|1>\"]\n",
    "qubit_psi"
   ]
  },
  {
   "cell_type": "markdown",
   "id": "5c93772e-7a3c-4f44-96a0-5b9e7192c863",
   "metadata": {},
   "source": [
    "Un sistema de 2 qubits arbitrario es una superposición $2^2 = 4$ estados base, que podríamos representar con estados enteros $|i\\rangle$:\n",
    "\\begin{align*}\n",
    "|\\psi_{AB} \\rangle = \\alpha_0 |0\\rangle + \\alpha_1 |1 \\rangle + \\alpha_2 |2 \\rangle + \\alpha_4 |4 \\rangle  \n",
    "\\end{align*}\n",
    "\n",
    "Cada uno de estos $|i\\rangle$ es de hecho un estado base que se forma del producto tensorial ($\\otimes$) de 2 qubits:\n",
    "\\begin{align*}\n",
    "|0\\rangle \\otimes |0 \\rangle &= |0 \\rangle |0 \\rangle = |0,0 \\rangle = |00 \\rangle = |0 \\rangle\n",
    "\\\\\n",
    "|0\\rangle \\otimes |1 \\rangle &= |0 \\rangle |1 \\rangle = |0,1 \\rangle = |01 \\rangle = |1 \\rangle\n",
    "\\\\\n",
    "|1\\rangle \\otimes |0 \\rangle &= |1 \\rangle |0 \\rangle = |1,0 \\rangle = |10 \\rangle = |2 \\rangle\n",
    "\\\\\n",
    "|1\\rangle \\otimes |1 \\rangle &= |1 \\rangle |1 \\rangle = |1,1 \\rangle = |11 \\rangle = |3 \\rangle\n",
    "\\end{align*}"
   ]
  },
  {
   "cell_type": "code",
   "execution_count": 3,
   "id": "b5c95bc0-ff21-4d7c-81cf-9ed1fd6e0ac2",
   "metadata": {},
   "outputs": [
    {
     "data": {
      "text/plain": [
       "{'|00>': array([[1],\n",
       "        [0],\n",
       "        [0],\n",
       "        [0]]),\n",
       " '|01>': array([[0],\n",
       "        [1],\n",
       "        [0],\n",
       "        [0]]),\n",
       " '|10>': array([[0],\n",
       "        [0],\n",
       "        [1],\n",
       "        [0]]),\n",
       " '|11>': array([[0],\n",
       "        [0],\n",
       "        [0],\n",
       "        [1]])}"
      ]
     },
     "execution_count": 3,
     "metadata": {},
     "output_type": "execute_result"
    }
   ],
   "source": [
    "# Podemos obtener cada uno de los 4 estados base que forman el espacio vectorial de 2 qubits\n",
    "# usando el producto tensorial (np.kron())\n",
    "ket_0 = base_computacional[\"|0>\"]\n",
    "ket_1 = base_computacional[\"|1>\"]\n",
    "base_2_qubits = {\n",
    "    \"|00>\": np.kron(ket_0, ket_0),\n",
    "    \"|01>\": np.kron(ket_0, ket_1),\n",
    "    \"|10>\": np.kron(ket_1, ket_0),\n",
    "    \"|11>\": np.kron(ket_1, ket_1),\n",
    "}\n",
    "base_2_qubits"
   ]
  },
  {
   "cell_type": "code",
   "execution_count": 4,
   "id": "96c67da8-e292-461e-9e9f-20c29854395e",
   "metadata": {},
   "outputs": [],
   "source": [
    "# Un estado cuántico de 2 qubits se puede crear especificando directamente las amplitudes\n",
    "# de los 4 estados base\n",
    "# Nota que la amplitud en este caso es 1/2 para cada uno de los cuatro estados, pues\n",
    "# la suma de la norma cuadradada de las amplitudes debe ser igual a 1:\n",
    "# (|1/2|^2)*4 = 1\n",
    "estados_base = list(base_2_qubits.values())\n",
    "psi_AB_a = 1/2*(estados_base[0] + estados_base[1] + estados_base[2] + estados_base[3]) \n",
    "\n",
    "# O se puede crear usando el producto tensorial (np,kron()) de los qubits A y B\n",
    "qubit_A = ket_0/np.sqrt(2) + ket_1/np.sqrt(2)\n",
    "qubit_B = ket_0/np.sqrt(2) + ket_1/np.sqrt(2)\n",
    "psi_AB_b = np.kron(qubit_A, qubit_B)\n",
    "assert np.allclose(psi_AB_a, psi_AB_b)"
   ]
  },
  {
   "cell_type": "markdown",
   "id": "0443f64e-58e0-43f4-964c-db0621922279",
   "metadata": {},
   "source": [
    "En general, un registro de $n$ qubits tiene $2^n$ estados base de la forma:\n",
    "\\begin{align*}\n",
    "|b_1 b_2 \\dots b_n \\rangle = |b_1\\rangle \\otimes |b_2 \\rangle \\otimes \\dots \\otimes |b_n \\rangle, \\space \\space \\space b_i \\in \\{0, 1\\}\n",
    "\\end{align*}\n",
    "\n",
    "Y puede estar en cualquier superposición de dichos estados base:\n",
    "\\begin{align*}\n",
    "|\\psi\\rangle = \\alpha_0 |0 \\rangle + \\alpha_1 |1 \\rangle + \\dots + \\alpha_{2^n - 1} |2^n - 1 \\rangle  \n",
    "\\end{align*}"
   ]
  },
  {
   "cell_type": "markdown",
   "id": "4295fde6-7801-4c72-89ca-aa7b822643df",
   "metadata": {},
   "source": [
    "<div class=\"alert alert-block alert-info\">\n",
    "    <b>📝 Ejercicio 1.4.e1 📝</b><br>\n",
    "    Escribe una función que recibe el diccionario <code>base_computacional</code> y un entero ($\\geq 2$) que indica el número de qubits, y regresa un diccionario (de la forma de <code>base_2_qubits</code>) con los $2^n$ vectores que son la base del espacio vectorial formado por $n$ qubits en la base computacional.\n",
    "</div>"
   ]
  },
  {
   "cell_type": "code",
   "execution_count": null,
   "id": "36649d10-ea93-479c-92dc-b5e1702322e7",
   "metadata": {},
   "outputs": [],
   "source": [
    "from typing import Dict\n",
    "\n",
    "def estados_base_n_qubits(\n",
    "    base_computacional: Dict[str, np.ndarray],\n",
    "    n_qubits: int\n",
    ") -> Dict[str, np.ndarray]:\n",
    "    assert n_qubits >= 2, \"n_qubits debe ser mayor o igual a 2\"\n",
    "\n",
    "    # Escribe tu código aquí\n",
    "    pass\n",
    "\n",
    "estados_base_n_qubits(base_computacional, 3)"
   ]
  },
  {
   "cell_type": "markdown",
   "id": "5937d93b-fa99-4c7c-8eda-54f76cbd1ae0",
   "metadata": {},
   "source": [
    "# 1.5. Entrelazamiento cuántico\n",
    "\n",
    "Si creamos estados cuánticos válidos de 2 qubits aleatoriamente, pronto nos percataremos que existen algunos que tienen una característica especial. Tomemos por ejemplo:\n",
    "\\begin{align*}\n",
    "\\frac{1}{\\sqrt{2}} |00\\rangle + \\frac{1}{\\sqrt{2}} |11 \\rangle =\n",
    "\\frac{1}{\\sqrt{2}} \\bigl( |0_1 0_2 \\rangle + |1_1 1_2 \\rangle \\bigr)\n",
    "\\end{align*}\n",
    "\n",
    "Lo primero que notamos es que el registro está en una superposición equitativa. Así que si midiéramos cualquiera de los dos qubits por separado, obtendríamos $|0\\rangle$ o $|1 \\rangle$ con una probabilidad de $|\\frac{1}{\\sqrt{2}}|^2 = \\frac{1}{2}$ (50%).\n",
    "\n",
    "Sin embargo los qubits parecen estar correlacionados de tal forma que, al medir uno de ellos, determinamos inmediatamente el estado del otro. Por ejemplo, supongamos que medimos el segundo qubit y observamos que está en $|1\\rangle$, entonces el estado conjunto colapsa a $|1_1 1_2 \\rangle$ e **instantáneamente** sabemos que el primer qubit está también en el estado $|1 \\rangle$.\n",
    "\n",
    "Dado que los qubits pueden estar separados físicamente por cualquier distancia, esta acción instantánea parece violar la ley de que nada puede viajar más rápido que la velocidad de la luz. Einstein llamó a esto *\"spooky action at a distance\"*.\n",
    "\n",
    "En general, un sistema de 2 (o más) qubits está entrelazado si no se puede escribir como el producto tensorial de los qubits individuales:\n",
    "\\begin{align*}\n",
    "|\\Phi_{AB} \\rangle \\neq |\\Phi_A\\rangle \\otimes |\\Phi_B \\rangle\n",
    "\\end{align*}\n",
    "\n",
    "\n",
    "<div class=\"alert alert-block alert-success\">\n",
    "    <b>💡 Recuerda 💡</b>\n",
    "    <br>\n",
    "    Un sistema cuántico está <b>entrelazado</b> si no se puede expresar como el producto tensorial de los qubits que lo conforman.</div>"
   ]
  },
  {
   "attachments": {},
   "cell_type": "markdown",
   "id": "1d605ff0-b80a-448c-a18c-5172b129bc00",
   "metadata": {},
   "source": [
    "### Slido 2\n",
    "\n",
    "| link | código |\n",
    "| --- | --- |\n",
    "| [https://app.sli.do/event/s6ducAgiWSmXkRVbi6ifxD](https://app.sli.do/event/s6ducAgiWSmXkRVbi6ifxD) | **5492 913** |"
   ]
  },
  {
   "cell_type": "markdown",
   "id": "6e69ad98-d5f1-4823-9693-b637c8d9355c",
   "metadata": {},
   "source": [
    "---"
   ]
  },
  {
   "cell_type": "markdown",
   "id": "b2d46cac-fd66-4373-8203-b715242fb44d",
   "metadata": {},
   "source": [
    "# 1.6. Compuertas cuánticas\n",
    "\n",
    "A los operadores cuánticos también se les llama **compuertas cuánticas**, y se pueden pensar como análogas de las compuertas lógicas clásicas como $NOT$, $OR$, o $AND$ (con la diferencia claro de que en el caso cuántico, todas las compuertas son invertibles). Por ejemplo, el operador análogo al $NOT$, que cambia un qubit de $|0\\rangle$ a $|1 \\rangle$ y viceversa es la compuerta $X$:\n",
    "\n",
    "\\begin{align*}\n",
    "X = \n",
    "\\begin{bmatrix}\n",
    "0 & 1\n",
    "\\\\\n",
    "1 & 0\n",
    "\\end{bmatrix}\n",
    "\\end{align*}\n",
    "\n",
    "Podemos comprobar su efecto en distintos estados cuánticos simplemente multiplicando la matriz del operador por el vector del estado:\n",
    "\n",
    "\\begin{align*}\n",
    "X |0\\rangle &= \n",
    "\\begin{bmatrix} 0 & 1 \\\\ 1 & 0 \\end{bmatrix}\n",
    "\\begin{bmatrix} 1 \\\\ 0 \\end{bmatrix}\n",
    "= \\begin{bmatrix} 0 \\\\ 1 \\end{bmatrix}\n",
    "= |1\\rangle\n",
    "\\\\\n",
    "\\\\\n",
    "X |1\\rangle &= \n",
    "\\begin{bmatrix} 0 & 1 \\\\ 1 & 0 \\end{bmatrix}\n",
    "\\begin{bmatrix} 0 \\\\ 1 \\end{bmatrix}\n",
    "= \\begin{bmatrix} 1 \\\\ 0 \\end{bmatrix}\n",
    "= |0\\rangle\n",
    "\\end{align*}"
   ]
  },
  {
   "cell_type": "markdown",
   "id": "c93294e9-9156-4d80-a1b0-e7542f310da3",
   "metadata": {},
   "source": [
    "**¿Qué pasa si aplicamos $X$ a un estado en superposición?**\n",
    "\n",
    "Como sabemos, los operadores cuánticos actúan linealmente sobre los estados. Esto simplemente quiere decir que para un estado cuántico arbitrario $|\\psi\\rangle = \\alpha|0 \\rangle + \\beta|1 \\rangle$:\n",
    "\n",
    "\\begin{align*}\n",
    "X |\\psi\\rangle &= X \\bigl( \\alpha|0 \\rangle + \\beta|1 \\rangle \\bigr) = \\alpha X |0 \\rangle + \\beta X |1 \\rangle = \\alpha |1 \\rangle + \\beta |0 \\rangle = \\beta |0 \\rangle + \\alpha |1 \\rangle\n",
    "\\end{align*}\n",
    "\n",
    "Y lo podemos comprobar de la misma forma:\n",
    "\n",
    "\\begin{align*}\n",
    "X |\\psi\\rangle &= \\begin{bmatrix} 0 & 1 \\\\ 1 & 0 \\end{bmatrix}\n",
    "\\begin{bmatrix} \\alpha \\\\ \\beta \\end{bmatrix} =\n",
    "\\begin{bmatrix} \\beta \\\\ \\alpha \\end{bmatrix} =\n",
    "\\beta |0\\rangle + \\alpha |1 \\rangle\n",
    "\\end{align*}\n",
    "\n",
    "Esto es bastante poderoso, pues nos permite actuar sobre todos los estados clásicos de una superposición con la aplicación de un sólo operador."
   ]
  },
  {
   "cell_type": "markdown",
   "id": "1d0b991b-64c6-4531-a85b-04b639a43a9a",
   "metadata": {},
   "source": [
    "## 1.6.1. Compuertas elementales: matrices de Pauli\n",
    "\n",
    "Las llamadas matrices de Pauli: $\\{ X, Y, Z\\}$, (a veces escritas como $\\{\\sigma_x, \\sigma_y, \\sigma_z\\}$ o $\\{\\sigma_1, \\sigma_2, \\sigma_3\\}$) son ejemplos de compuertas cuánticas que actúan en 1 qubit. Se definen como:\n",
    "\n",
    "\\begin{align*}\n",
    "X = \\begin{bmatrix} 0 & 1 \\\\ 1  & 0 \\end{bmatrix}; \\space \\space \\space\n",
    "Y = \\begin{bmatrix} 0 & -i \\\\ i &  0 \\end{bmatrix}; \\space \\space \\space\n",
    "Z = \\begin{bmatrix} 1 & 0 \\\\ 0 &  -1 \\end{bmatrix}\n",
    "\\end{align*}\n",
    "\n",
    "\n",
    "Cada una de estas matrices $P$ es unitaria y Hermítica (es decir, la matriz es su misma inversa/transpuesta conjugada: $P = P^{-1} = P^\\dagger$, y tiene autovalores reales $\\{ +1, -1 \\}$).\n",
    "\n",
    "Una de las propiedades del conjunto de matrices de Pauli es que cualquier matriz compleja $A$ de tamaño $2 \\times 2$ puede ser escrita como una combinación lineal de éstas (más la matriz identidad $I = \\begin{bmatrix} 1 & 0 \\\\ 0  & 1 \\end{bmatrix}$) :\n",
    "\n",
    "\\begin{align*}\n",
    "A = \\alpha_0 I + \\alpha_1 X + \\alpha_2 Y + \\alpha_3 Z\n",
    "\\end{align*}\n",
    "\n",
    "Con $\\alpha_i \\in \\mathbb{C}$. Si $A$ es Hermítica, entonces $\\alpha_i$ serán coeficientes reales.\n",
    "\n",
    "<div class=\"alert alert-block alert-success\">\n",
    "    <b>💡 Recuerda 💡</b>\n",
    "    <br>\n",
    "    Cualquier compuerta $U$ que actúa sobre 1 qubit se puede expresar como una combinación lineal de los operadores $\\{ I, X, Y, Z \\}$:\n",
    "\\begin{align*}\n",
    "U = \\alpha_0 I + \\alpha_1 X + \\alpha_2 Y + \\alpha_3 Z\n",
    "\\end{align*}\n",
    "</div>"
   ]
  },
  {
   "cell_type": "markdown",
   "id": "5110581f-daee-4116-962c-a50c78dda728",
   "metadata": {},
   "source": [
    "## 1.6.2. La compuerta de fase $R_\\phi$\n",
    "\n",
    "La compuerta $R_\\phi$ actúa sobre un sólo qubit rotando la fase del estado $|1\\rangle$ por un ángulo $\\phi$, y dejando el estado $|0 \\rangle$ sin alterar. Se define como:\n",
    "\n",
    "\\begin{align*}\n",
    "R_\\phi = \\begin{bmatrix} 1 & 0 \\\\ 0 & e^{i\\phi} \\end{bmatrix}\n",
    "\\end{align*}\n",
    "\n",
    "Y podemos comprobar su actuar sobre los estados $|0\\rangle$ y $|1 \\rangle$:\n",
    "\\begin{align*}\n",
    "R_\\phi |0\\rangle &= \\begin{bmatrix} 1 & 0 \\\\ 0 & e^{i\\phi} \\end{bmatrix}\n",
    "\\begin{bmatrix} 1 \\\\ 0 \\end{bmatrix} =\n",
    "\\begin{bmatrix} 1 \\\\ 0 \\end{bmatrix} =\n",
    "|0\\rangle\n",
    "\\\\\n",
    "\\\\\n",
    "R_\\phi |1\\rangle &= \\begin{bmatrix} 1 & 0 \\\\ 0 & e^{i\\phi} \\end{bmatrix}\n",
    "\\begin{bmatrix} 0 \\\\ 1 \\end{bmatrix} =\n",
    "\\begin{bmatrix} 0 \\\\ e^{i\\phi} \\end{bmatrix} =\n",
    "e^{i\\phi} |1\\rangle\n",
    "\\end{align*}\n",
    "\n",
    "<div class=\"alert alert-block alert-success\">\n",
    "    <b>💡 Recuerda 💡</b>\n",
    "    <br>\n",
    "    La compuerta $Z$ es un caso especial de la compuerta de fase $R_\\phi$, donde el ángulo de rotación es $\\phi = \\pi$, dado que $e^{i \\pi} = -1$. \n",
    "</div>"
   ]
  },
  {
   "cell_type": "markdown",
   "id": "ef6e9033-dab1-45a8-ac66-495d73435398",
   "metadata": {
    "jp-MarkdownHeadingCollapsed": true
   },
   "source": [
    "## 1.6.3. Las compuertas $S = R_{\\pi/2}$ y $T= R_{\\pi/4}$\n",
    "\n",
    "Las compuertas de fase con ángulos $\\phi = \\pi/2$ y $\\phi = \\pi/4$ reciben sus propios nombres:\n",
    "\n",
    "\\begin{align*}\n",
    "S = \\sqrt{Z} = R_{\\pi/2} &= \\begin{bmatrix} 1 & 0 \\\\ 0 & e^{i\\frac{\\pi}{2}} \\end{bmatrix}\n",
    "\\\\\n",
    "\\\\\n",
    "T = R_{\\pi/4} &= \\begin{bmatrix} 1 & 0 \\\\ 0 & e^{i\\frac{\\pi}{4}} \\end{bmatrix}\n",
    "\\end{align*}"
   ]
  },
  {
   "cell_type": "markdown",
   "id": "2c35612d-51f2-4829-ae43-f7a5d7a1f584",
   "metadata": {},
   "source": [
    "## 1.6.4. La compuerta Hadamard $H$\n",
    "\n",
    "Esta es quizá la compuerta más importante que actúa sobre 1 qubit. Su representación matricial es:\n",
    "\n",
    "\\begin{align*}\n",
    "H = \\frac{1}{\\sqrt{2}} \\begin{bmatrix} 1 & 1 \\\\ 1 & -1 \\end{bmatrix}\n",
    "\\end{align*}\n",
    "\n",
    "Y actúa sobre los estados base de la siguiente forma:\n",
    "\n",
    "\\begin{align*}\n",
    "H |0\\rangle &= \\frac{1}{\\sqrt{2}} \\bigg( |0 \\rangle + |1 \\rangle \\bigg)\n",
    "\\\\\n",
    "\\\\\n",
    "H |1\\rangle &= \\frac{1}{\\sqrt{2}} \\bigg( |0 \\rangle - |1 \\rangle \\bigg)\n",
    "\\end{align*}\n",
    "\n",
    "Si comenzamos con un qubit en $|0\\rangle$ y le aplicamos $H$, obtenemos un estado en una superposición equitativa. Al medirlo obtendremos cualquiera de $|0 \\rangle$ o $|1 \\rangle$ con 50% de probabilidad.\n",
    "\n",
    "<div class=\"alert alert-block alert-success\">\n",
    "    <b>💡 Recuerda 💡</b>\n",
    "    <br>\n",
    "    Al aplicar la compuerta Hadamard $H$ a un estado en superposición equitativa, las amplitudes del estado $|1\\rangle$ se cancelan, o <b>interfieren</b>, y obtenemos el estado original antes de la superposición:\n",
    "\\begin{align*}\n",
    "H \\bigg( \\frac{1}{\\sqrt{2}} |0\\rangle + \\frac{1}{\\sqrt{2}} |1 \\rangle \\bigg) =\n",
    "\\frac{1}{\\sqrt{2}} H |0\\rangle + \\frac{1}{\\sqrt{2}} H |1 \\rangle = \n",
    "\\frac{1}{2} \\big( |0\\rangle + |1 \\rangle \\big) + \\frac{1}{2} \\big( |0 \\rangle - |1 \\rangle \\big) =\n",
    "|0\\rangle\n",
    "\\end{align*}\n",
    "\n",
    "Si recordamos que $H$ es una matriz unitaria (de hecho Hermítica), entonces podríamos haber llegado a la misma conclusión así:\n",
    "\\begin{align*}\n",
    "H \\bigg( \\frac{1}{\\sqrt{2}} |0\\rangle + \\frac{1}{\\sqrt{2}} |1 \\rangle \\bigg) = H \\big( H |0 \\rangle \\big) = HH|0 \\rangle = I|0 \\rangle = |0 \\rangle\n",
    "\\end{align*}\n",
    "</div>\n",
    "\n"
   ]
  },
  {
   "cell_type": "markdown",
   "id": "7e81a2a2-3034-45dc-91f9-9fb31a21d8d1",
   "metadata": {},
   "source": [
    "## 1.6.5. Composición de compuertas\n",
    "\n",
    "Así como usamos el producto tensorial $\\otimes$ para expresar el estado de múltiples qubits, también lo podemos usar para combinar compuertas de 1 qubit y crear operadores que actúan en más de un qubit.\n",
    "\n",
    "Muchos de los algoritmos cuánticos, por ejemplo, comienzan creando una superposición uniforme de $n$ qubits. Si el estado inicial es:\n",
    "\\begin{align*}\n",
    "|\\psi\\rangle = |0_1 \\otimes 0_2 \\otimes \\dots \\otimes 0_n \\rangle = |0_1 \\rangle |0_2 \\rangle \\dots |0_n \\rangle = |0_1 0_2 \\dots 0_n \\rangle = |0 \\rangle^{\\otimes n}\n",
    "\\end{align*}\n",
    "\n",
    "Entonces aplicar $H$ a cada uno de los qubits es:\n",
    "\n",
    "\\begin{align*}\n",
    "H|0_1\\rangle \\otimes H|0_2 \\rangle \\otimes \\dots \\otimes H|0_n \\rangle = H^{\\otimes n}|0_1 0_2 \\dots 0_n \\rangle = H^{\\otimes n}|\\psi \\rangle\n",
    "\\end{align*}\n",
    "\n",
    "$H$ es una matriz de $2^n \\times 2^n$ que multiplica al vector columna $|\\psi\\rangle$ de tamaño $2^n$. "
   ]
  },
  {
   "cell_type": "markdown",
   "id": "b17218d1-972e-46a6-9f5a-22e7d630f531",
   "metadata": {},
   "source": [
    "Si en cambio, queremos aplicar una compuerta $X$ y una compuerta $Z$ al primer y último qubits, respectivamente, del estado original $|\\psi\\rangle$ anterior, lo podemos hacer construyendo el siguiente operador $U$:\n",
    "\n",
    "\\begin{align*}\n",
    "X |0\\rangle |0 \\rangle^{\\otimes n-2} Z |0 \\rangle = \\big( X \\otimes I^{\\otimes n-2} \\otimes Z  \\big) |\\psi \\rangle = U |\\psi \\rangle\n",
    "\\end{align*}\n"
   ]
  },
  {
   "cell_type": "markdown",
   "id": "ac9d2ac8-9c6a-4c66-987c-689943772d84",
   "metadata": {},
   "source": [
    "## 1.6.6. La compuerta $CNOT$\n",
    "\n",
    "Otra de las compuertas más importantes que actúa sobre 2 qubits, es la compuerta $NOT$ controlada o $CNOT$. Esta compuerta niega o invierte el segundo qubit (llamado **objetivo**), es decir le aplica $X$, si el primer qubit (llamado **control**) está en $|1\\rangle$. El qubit de control no sufre cambio alguno. Es decir:\n",
    "\n",
    "\\begin{align*}\n",
    "CNOT |0_c0_o\\rangle &= |0_c0_o \\rangle \\\\\n",
    "CNOT |0_c1_o\\rangle &= |0_c1_o \\rangle \\\\\n",
    "CNOT |1_c0_o\\rangle &= |1_c1_o \\rangle \\\\\n",
    "CNOT |1_c1_o\\rangle &= |1_c0_o \\rangle \\\\\n",
    "\\end{align*}"
   ]
  },
  {
   "cell_type": "markdown",
   "id": "9532b110-a16e-4cc1-8d78-01616ca11cf1",
   "metadata": {},
   "source": [
    "Otra forma de representar al $CNOT$ se obtiene si nos fijamos que al aplicarlo el estado del segundo qubit $|o\\rangle$ es siempre la suma binaria ($\\oplus$) de éste con el primer qubit $|c \\rangle$:\n",
    "\\begin{align*}\n",
    "CNOT |c\\rangle|o \\rangle &= |c \\rangle |c \\oplus o \\rangle\n",
    "\\end{align*}"
   ]
  },
  {
   "cell_type": "markdown",
   "id": "81f4074c-3f32-41c6-9f45-228148f55fe0",
   "metadata": {},
   "source": [
    "Su representación matricial es:\n",
    "\\begin{align*}\n",
    "CNOT = \\begin{bmatrix}\n",
    "1 & 0 & 0 & 0 \\\\\n",
    "0 & 1 & 0 & 0 \\\\\n",
    "0 & 0 & 0 & 1 \\\\\n",
    "0 & 0 & 1 & 0 \\\\\n",
    "\\end{bmatrix}\n",
    "\\end{align*}"
   ]
  },
  {
   "cell_type": "markdown",
   "id": "0aed5e90-c643-4258-a3d6-3ed56c52f7f7",
   "metadata": {},
   "source": [
    "<div class=\"alert alert-block alert-success\">\n",
    "    <b>💡 Recuerda 💡</b>\n",
    "    <br>\n",
    "    Una compuerta cuántica que opera sobre $n$ qubits se representa como una matriz cuadrada unitaria de $2^n \\times 2^n$. \n",
    "</div>"
   ]
  },
  {
   "attachments": {},
   "cell_type": "markdown",
   "id": "3089a8a4-594d-404e-a0eb-55d07455e294",
   "metadata": {},
   "source": [
    "### Slido 3\n",
    "\n",
    "| link | código |\n",
    "| --- | --- |\n",
    "| [https://app.sli.do/event/m9zVvKgTcegei16HjgYrxY](https://app.sli.do/event/m9zVvKgTcegei16HjgYrxY) | **2827 766** |"
   ]
  },
  {
   "cell_type": "markdown",
   "id": "fad57833-b69d-47b2-8ea8-978a3b79396d",
   "metadata": {},
   "source": [
    "# 1.7. Medición de registros cuánticos\n",
    "\n",
    "Medir un registro cuántico de $n$ qubits es análogo a medir un sólo qubit, al hacerlo obtendremos uno de los estados base con probabilidad igual al absoluto o norma al cuadrado de la amplitud. Por ejemplo, para el estado de 3 qubits máximamente entrelazado:\n",
    "\\begin{align*}\n",
    "|GHZ\\rangle = \\frac{1}{\\sqrt{2}} \\bigg( |000 \\rangle + |111 \\rangle \\bigg)\n",
    "\\end{align*}\n",
    "\n",
    "Como sabemos, la probabilidad de obtener $|000\\rangle$ (que en este caso es igual a la de obtener $|111 \\rangle$) es: $\\left|1/\\sqrt{2}\\right|^2 = 1/2$. Y podemos expresarlo usando el producto interno del estado a medir con el estado base:\n",
    "\\begin{align*}\n",
    "\\Pr \\big[ |000\\rangle \\big] &= \\bigg|  \\langle GHZ | 000 \\rangle \\bigg|^2 = \\bigg|  \\langle 000 | GHZ \\rangle \\bigg|^2\n",
    "\\\\\n",
    "&= \\Bigg|\n",
    "\\begin{bmatrix} \\frac{1}{\\sqrt{2}} & 0 & 0 & 0 & 0 & 0 & 0 & \\frac{1}{\\sqrt{2}} \\end{bmatrix}\n",
    "\\begin{bmatrix} 1 \\\\ 0 \\\\ \\vdots \\\\ 0 \\end{bmatrix}\n",
    "\\Bigg|^2\n",
    "\\\\\n",
    "&= \\bigg| \\frac{1}{\\sqrt{2}} \\bigg|^2\n",
    "\\\\\n",
    "&= \\frac{1}{2}\n",
    "\\end{align*}"
   ]
  },
  {
   "cell_type": "markdown",
   "id": "c3074e6a-61e5-471d-9dd1-14230db85f42",
   "metadata": {},
   "source": [
    "## 1.7.1. Medición proyectiva\n",
    "\n",
    "Para obtener la probabilidad de que el registro esté en uno de los estados base, lo que hacemos es proyectar el estado $|GHZ\\rangle$ al subespacio de dicho estado base. A esto se le conoce también como **medición proyectiva**.\n",
    "\n",
    "Formalmente, una medición proyectiva que tiene $m$ posibles resultados está dada por una colección de proyectores $\\{ P_0, \\dots, P_{m-1} \\}$ que actúan en el mismo espacio vectorial que el estado a medir, son ortogonales entre si ($P_iP_j = 0$ para cada par distinto de proyectores), y donde la suma de los proyectores es igual a la identidad:\n",
    "\\begin{align*}\n",
    "\\sum_{j=0}^{m-1} P_j = I\n",
    "\\end{align*}\n",
    "\n",
    "Al aplicar esta medición, obtenemos el resultado $j$ con probabilidad:\n",
    "\\begin{align*}\n",
    "\\Pr [ j ] &= \\langle \\psi| P_j |\\psi\\rangle\n",
    "\\end{align*}\n",
    "\n",
    "Y el estado del sistema cuántico inmediatamente después de la medición es:\n",
    "\\begin{align*}\n",
    "\\frac{P_j |\\psi\\rangle }{\\sqrt{\\Pr [ j ]}}\n",
    "\\end{align*}"
   ]
  },
  {
   "cell_type": "markdown",
   "id": "56f3dbe2-01c1-46cf-80aa-a31848ba527c",
   "metadata": {},
   "source": [
    "Notemos que siempre podemos escribir un sistema cuántico en la base computacional como $\\psi = \\sum_{j=0}^{n-1} \\alpha_j |j\\rangle$. Entonces, medir $|\\psi \\rangle$ en la base computacional es equivalente a la medición proyectiva donde $m=N$ y $P_j = | j \\rangle \\langle j |$. De tal forma que:\n",
    "\\begin{align*}\n",
    "\\Pr [ j ] = \\langle \\psi| P_j |\\psi\\rangle =\n",
    " \\langle \\psi | j \\rangle  \\langle j | \\psi \\rangle =\n",
    "\\alpha_j^* \\alpha_j =\n",
    "\\big| \\alpha_j \\big|^2 =\n",
    "\\big|  \\langle \\psi | j \\rangle \\big|^2\n",
    "\\end{align*}\n",
    "\n",
    "Y después de la medición, $|\\psi\\rangle$ colapsa al estado base $|j \\rangle$:\n",
    "\n",
    "\\begin{align*}\n",
    "\\frac{P_j |\\psi\\rangle }{\\sqrt{\\Pr [ j ]}} =\n",
    "\\frac{\\alpha_j |j\\rangle }{\\sqrt{|  \\langle \\psi | j \\rangle |^2}} =\n",
    "\\frac{\\alpha_j |j\\rangle }{|  \\langle \\psi | j \\rangle |} =\n",
    "\\frac{\\alpha_j |j\\rangle }{| \\alpha_j |} =\n",
    "\\frac{\\alpha_j}{| \\alpha_j |} |j\\rangle =\n",
    "e^{i\\theta} |j\\rangle =\n",
    "|j\\rangle\n",
    "\\end{align*}"
   ]
  },
  {
   "cell_type": "code",
   "execution_count": 5,
   "id": "cd64f96a-cfa9-4d0a-bbf4-2fc65e2f1366",
   "metadata": {},
   "outputs": [
    {
     "data": {
      "text/plain": [
       "{'|00><00|': array([[1, 0, 0, 0],\n",
       "        [0, 0, 0, 0],\n",
       "        [0, 0, 0, 0],\n",
       "        [0, 0, 0, 0]]),\n",
       " '|01><01|': array([[0, 0, 0, 0],\n",
       "        [0, 1, 0, 0],\n",
       "        [0, 0, 0, 0],\n",
       "        [0, 0, 0, 0]]),\n",
       " '|10><10|': array([[0, 0, 0, 0],\n",
       "        [0, 0, 0, 0],\n",
       "        [0, 0, 1, 0],\n",
       "        [0, 0, 0, 0]]),\n",
       " '|11><11|': array([[0, 0, 0, 0],\n",
       "        [0, 0, 0, 0],\n",
       "        [0, 0, 0, 0],\n",
       "        [0, 0, 0, 1]])}"
      ]
     },
     "execution_count": 5,
     "metadata": {},
     "output_type": "execute_result"
    }
   ],
   "source": [
    "# Los proyectores de medición en la base computacional para un sistema de\n",
    "# 2 qubits son:\n",
    "proyectores_2_qubits = {}\n",
    "for nombre_estado, estado_base in base_2_qubits.items():\n",
    "    ket = nombre_estado\n",
    "    bra = f\"<{nombre_estado[1:3]}|\"\n",
    "    proyectores_2_qubits[f\"{ket}{bra}\"] = np.outer(estado_base, estado_base.conj().T)\n",
    "proyectores_2_qubits"
   ]
  },
  {
   "cell_type": "markdown",
   "id": "2954751c-335e-455f-b58e-03e18407d4cf",
   "metadata": {},
   "source": [
    "<div class=\"alert alert-block alert-info\">\n",
    "    <b>📝 Ejercicio 1.7.e1 📝</b><br>\n",
    "    Escribe una función que recibe una colección de matrices y un número $n$, y regresa <code>True</code> si y solo si las matrices forman un conjunto válido de proyectores para realizar una medición proyectiva sobre un estado cuántico de $n$ qubits.\n",
    "</div>"
   ]
  },
  {
   "cell_type": "code",
   "execution_count": null,
   "id": "fece8f94-1b0a-4775-b14e-f999dfc8d320",
   "metadata": {},
   "outputs": [],
   "source": [
    "from typing import List\n",
    "\n",
    "def matrices_son_proyectores_validos_para_n_qubits(\n",
    "    matrices: List[np.ndarray],\n",
    "    n: int\n",
    ") -> bool:\n",
    "    # Escribe tu código aquí\n",
    "    pass\n",
    "\n",
    "# verificación\n",
    "assert matrices_son_proyectores_validos_para_n_qubits(\n",
    "    matrices=list(proyectores_2_qubits.values()),\n",
    "    n=2\n",
    ") "
   ]
  },
  {
   "cell_type": "markdown",
   "id": "4de77c87-469a-4353-add3-01f3d57dcf9a",
   "metadata": {},
   "source": [
    "## 1.7.2. Medición parcial de registros cuánticos\n",
    "\n",
    "El producto tensorial también se puede usar para construir operadores proyectivos de medición:\n",
    "\\begin{align*}\n",
    "( | 0 \\rangle \\langle 0 | ) \\otimes ( | 1 \\rangle \\langle 1 | ) = | 0\\otimes1 \\rangle \\langle 0\\otimes1 | = | 01 \\rangle \\langle 01 |\n",
    "\\end{align*}"
   ]
  },
  {
   "cell_type": "code",
   "execution_count": 7,
   "id": "b844a34b-b935-462d-898d-1e0b79246a6c",
   "metadata": {},
   "outputs": [
    {
     "data": {
      "text/plain": [
       "array([[0, 0, 0, 0],\n",
       "       [0, 1, 0, 0],\n",
       "       [0, 0, 0, 0],\n",
       "       [0, 0, 0, 0]])"
      ]
     },
     "execution_count": 7,
     "metadata": {},
     "output_type": "execute_result"
    }
   ],
   "source": [
    "proyector_01 = proyectores_2_qubits[\"|01><01|\"]\n",
    "proyector_01"
   ]
  },
  {
   "cell_type": "code",
   "execution_count": 8,
   "id": "c3e0bcf9-ab74-4f02-8ef5-cbf0376b494f",
   "metadata": {},
   "outputs": [
    {
     "data": {
      "text/plain": [
       "array([[0, 0, 0, 0],\n",
       "       [0, 1, 0, 0],\n",
       "       [0, 0, 0, 0],\n",
       "       [0, 0, 0, 0]])"
      ]
     },
     "execution_count": 8,
     "metadata": {},
     "output_type": "execute_result"
    }
   ],
   "source": [
    "ketbra_01 = np.kron(np.outer(ket_0, ket_0.conj().T), np.outer(ket_1, ket_1.conj().T))\n",
    "ketbra_01"
   ]
  },
  {
   "cell_type": "code",
   "execution_count": 9,
   "id": "d7358321-596f-4bb7-a090-15e3767cd2f7",
   "metadata": {},
   "outputs": [],
   "source": [
    "assert np.allclose(proyector_01, ketbra_01)"
   ]
  },
  {
   "cell_type": "markdown",
   "id": "4f374ada-d12e-43e1-ab64-4baf8e14fa80",
   "metadata": {},
   "source": [
    "Si queremos medir solo un subconjunto de los $n$ qubits de un sistema cuántico, lo que hacemos es crear proyectores que usan el operador identidad $I$ para el subespacio de los qubits que no queremos medir. Por ejemplo, si tenemos el siguiente sistema de 3 qubits:\n",
    "\\begin{align*}\n",
    "|\\psi_{ABC} \\rangle =\n",
    "\\bigg( \\frac{1}{\\sqrt{2}} |0_A\\rangle - \\frac{1}{\\sqrt{2}} |1_A \\rangle \\bigg) \\otimes |0_B \\rangle \\otimes |1_C \\rangle =\n",
    "\\frac{1}{\\sqrt{2}} \\bigg( |0_A 0_B 1_C \\rangle - |1_A 0_B 1_C \\rangle \\bigg) =\n",
    "\\frac{1}{\\sqrt{2}} \\bigg( |001\\rangle - |101 \\rangle \\bigg)\n",
    "\\end{align*}\n",
    "\n",
    "Y queremos saber la probabilidad de medir el primer qubit $A$ en 1 y el tercer qubit $C$ en 0, podemos crear el proyector $P_{1I0}$ y medir $|\\psi_{ABC} \\rangle$:\n",
    "\\begin{align*}\n",
    "P_{1I0} &= | 1_A \\rangle \\langle 1_A | \\otimes I \\otimes | 0_C \\rangle \\langle 0_C | \\\\\n",
    "&= | 1_A \\rangle \\langle 1_A | \\otimes ( | 0_B \\rangle \\langle 0_B | + | 1_B \\rangle \\langle 1_B | ) \\otimes | 0_C \\rangle \\langle 0_C | \\\\\n",
    "&= ( | 1_A \\rangle \\langle 1_A | \\otimes | 0_B \\rangle \\langle 0_B | + | 1_A \\rangle \\langle 1_A | \\otimes | 1_B \\rangle \\langle 1_B | ) \\otimes | 0_C \\rangle \\langle 0_C | \\\\\n",
    "&= ( | 1_A 0_B \\rangle \\langle 1_A 0_B | + | 1_A 1_B \\rangle \\langle 1_A 1_B | ) \\otimes | 0_C \\rangle \\langle 0_C | \\\\\n",
    "&= | 1_A 0_B 0_C \\rangle \\langle 1_A 0_B 0_C | + | 1_A 1_B 0_C \\rangle \\langle 1_A 1_B 0_C | \\\\\n",
    "&= | 100 \\rangle \\langle 100 | + | 110 \\rangle \\langle 110 | \\\\ \\\\\n",
    "\\Pr[ A=|1\\rangle, C=|0 \\rangle ] &= \\langle \\psi_{ABC} | P_{1I0} | \\psi_{ABC} \\rangle \\\\\n",
    "&= \\langle \\psi_{ABC} | \\big( | 100 \\rangle \\langle 100 | + | 110 \\rangle \\langle 110 | \\big) |\\psi_{ABC} \\rangle \\\\\n",
    "&= \\frac{1}{2} \\big( \\langle 001| - \\langle 101| \\big) \\big( | 100 \\rangle \\langle 100 | + | 110 \\rangle \\langle 110 | \\big) \\big( |001\\rangle - |101 \\rangle \\big)  \\\\ \n",
    "&= 0\\\\\n",
    "\\end{align*}"
   ]
  },
  {
   "cell_type": "code",
   "execution_count": 10,
   "id": "273ea756-5d5d-4877-8ac6-ca33da116474",
   "metadata": {},
   "outputs": [
    {
     "data": {
      "text/plain": [
       "array([[0.]])"
      ]
     },
     "execution_count": 10,
     "metadata": {},
     "output_type": "execute_result"
    }
   ],
   "source": [
    "# Creamos el sistema de 3 qubits\n",
    "psi_ABC = np.kron(\n",
    "    np.kron((ket_0 - ket_1)/np.sqrt(2), ket_0),\n",
    "    ket_1)\n",
    "\n",
    "# Creamos el proyector que nos da la probabilidad de medir el sistema\n",
    "# en el estado con el qubit A=|0>, y el qubit C=\\1>\n",
    "p_1I0 = np.kron(\n",
    "    np.kron(np.outer(ket_1, ket_1.conj().T), np.eye(2)),\n",
    "    np.outer(ket_0, ket_0.conj().T)\n",
    ")\n",
    "\n",
    "# Calculamos la probabilidad\n",
    "pr_A1_C0 = np.dot(\n",
    "    np.dot(psi_ABC.conj().T, p_1I0),\n",
    "    psi_ABC\n",
    ")\n",
    "pr_A1_C0"
   ]
  },
  {
   "cell_type": "markdown",
   "id": "5cab57b4-4f32-49f3-935f-dbe1a735eb28",
   "metadata": {},
   "source": [
    "<div class=\"alert alert-block alert-info\">\n",
    "    <b>📝 Ejercicio 1.7.e2 📝</b><br>\n",
    "    Crea los proyectores necesarios y calcula la probabilidad de medir $|\\psi_{ABC} \\rangle$ en los estados:\n",
    "    <ul>\n",
    "        <li>qubit $A$ en $|0\\rangle$ y qubit $C$ en $|0 \\rangle$</li>\n",
    "        <li>qubit $A$ en $|0\\rangle$ y qubit $C$ en $|1 \\rangle$</li>\n",
    "        <li>qubit $A$ en $|1\\rangle$ y qubit $C$ en $|1 \\rangle$</li>\n",
    "    </ul>\n",
    "</div>"
   ]
  },
  {
   "cell_type": "code",
   "execution_count": null,
   "id": "ce7e9745-96de-4cc6-a670-7368e6991ec2",
   "metadata": {},
   "outputs": [],
   "source": [
    "# proyectores\n",
    "p_0I0 = ...\n",
    "p_0I1 = ...\n",
    "p_1I1 = ...\n",
    "\n",
    "# probabilidad de medir A=\\0>, C=\\0>\n",
    "pr_A0_C0 = ...\n",
    "# probabilidad de medir A=\\0>, C=\\1>\n",
    "pr_A0_C1 = ...\n",
    "# probabilidad de medir A=\\1>, C=\\1>\n",
    "pr_A1_C1 = ..."
   ]
  },
  {
   "cell_type": "markdown",
   "id": "171ecadf-2b6b-4d84-907b-88ac77e890bc",
   "metadata": {},
   "source": [
    "<div class=\"alert alert-block alert-info\">\n",
    "    <b>📝 Ejercicio 1.7.e3📝</b><br>\n",
    "    Usando la función <code>matrices_son_proyectores_validos_para_n_qubits</code> verifica que el conjunto $\\{ P_{0I0}, P_{0I1}, P_{1I0}, P_{1I1} \\} $ forma un conjunto válido de proyectores para estados cuánticos de 3 qubits.\n",
    "</div>"
   ]
  },
  {
   "cell_type": "code",
   "execution_count": null,
   "id": "ada32f5a-862c-4455-bccf-1509b75cf90a",
   "metadata": {},
   "outputs": [],
   "source": [
    "assert matrices_son_proyectores_validos_para_n_qubits(\n",
    "    matrices=...,\n",
    "    n=...\n",
    ")"
   ]
  },
  {
   "attachments": {},
   "cell_type": "markdown",
   "id": "95dbb078-e07b-4fd5-8ba9-12ca0c1d0eb9",
   "metadata": {},
   "source": [
    "### Slido 4\n",
    "\n",
    "| link | código |\n",
    "| --- | --- |\n",
    "| [https://app.sli.do/event/5nQULAUkrBfDiQUXhWREqS](https://app.sli.do/event/5nQULAUkrBfDiQUXhWREqS) | **2233 695** |"
   ]
  },
  {
   "cell_type": "markdown",
   "id": "66755f3f-3a8d-40f5-b690-88f610dc2649",
   "metadata": {},
   "source": [
    "# 1.8. Otra forma de escribir compuertas cuánticas\n",
    "\n",
    "Como vimos en la sección anterior, los operadores cuánticos se pueden escribir usando el producto externo de los distintos vectores base (en nuestro caso, la base computacional). La identidad es por ejemplo:\n",
    "\n",
    "\\begin{align*}\n",
    "I &= | 0 \\rangle \\langle 0 | + | 1 \\rangle \\langle 1 | \\\\\n",
    "&= \\begin{bmatrix} 1 \\\\ 0 \\end{bmatrix} \\begin{bmatrix} 1 & 0 \\end{bmatrix}\n",
    "+ \\begin{bmatrix} 0 \\\\ 1 \\end{bmatrix} \\begin{bmatrix} 0 & 1 \\end{bmatrix} \\\\\n",
    "&= \\begin{bmatrix} 1 & 0 \\\\ 0 & 0 \\end{bmatrix} + \\begin{bmatrix} 0 & 0 \\\\ 0 & 1 \\end{bmatrix} \\\\\n",
    "&= \\begin{bmatrix} 1 & 0 \\\\ 0 & 1 \\end{bmatrix}\n",
    "\\end{align*}\n",
    "\n",
    "Dado que en la mecánica cuántica todos los operadores deben ser lineales, para especificar completamente un operador basta con decir cómo afecta a cada uno de los estados base que generan un espacio vectorial. $I = | 0 \\rangle \\langle 0 | + | 1 \\rangle \\langle 1 |$ nos dice que al aplicar $I$ a cualquier qubit: $|0 \\rangle \\rightarrow |0 \\rangle$, y $|1 \\rangle \\rightarrow |1 \\rangle$. Es decir, el operador identidad $I$ no modifica los estados base, por lo tanto $I| \\psi \\rangle = |\\psi \\rangle$."
   ]
  },
  {
   "cell_type": "markdown",
   "id": "e920ec12-50f5-48c9-b7ae-e6c691a4fc0f",
   "metadata": {},
   "source": [
    "Aplicar el operador Pauli $Z$, actúa de la siguiente manera:\n",
    "\\begin{align*}\n",
    "Z|0\\rangle = |0 \\rangle, \\space \\space \\space Z|1 \\rangle = -|1 \\rangle\n",
    "\\end{align*}\n",
    "\n",
    "O, usando la notación del producto externo: $\\space \\space \\space Z = | 0 \\rangle \\langle 0 | - | 1 \\rangle \\langle 1 |$."
   ]
  },
  {
   "cell_type": "markdown",
   "id": "59f5d855-6b5e-49ba-8079-234f466f1d1a",
   "metadata": {},
   "source": [
    "Por último, el operador Pauli $X$ que invierte los estados $|0\\rangle$ y $|1 \\rangle$, se puede escribir como:\n",
    "\\begin{align*}\n",
    "X = | 0 \\rangle \\langle 1 | + | 1 \\rangle \\langle 0 |\n",
    "\\end{align*}"
   ]
  },
  {
   "cell_type": "code",
   "execution_count": 11,
   "id": "d6fae8af-4888-4382-877b-d4b95d737a35",
   "metadata": {},
   "outputs": [],
   "source": [
    "# diccionario de compuertas de 1 qubit\n",
    "compuertas_1q = {\n",
    "    \"I\": np.outer(ket_0, ket_0.conj().T) + np.outer(ket_1, ket_1.conj().T),\n",
    "    \"Z\": np.outer(ket_0, ket_0.conj().T) - np.outer(ket_1, ket_1.conj().T),\n",
    "    \"X\": np.outer(ket_0, ket_1.conj().T) + np.outer(ket_1, ket_0.conj().T),\n",
    "}"
   ]
  },
  {
   "cell_type": "markdown",
   "id": "60772cff-eb51-453f-94d2-a03a4b3ceb85",
   "metadata": {},
   "source": [
    "<div class=\"alert alert-block alert-info\">\n",
    "    <b>📝 Ejercicio 1.8.e1📝</b><br>\n",
    "    Añade al diccionario <code>compuertas_1q</code>, las compuertas: $Y, S, T, H$.\n",
    "Escribiéndolas usando la notación del producto externo de los estados $|0\\rangle$ y $|0 \\rangle$.\n",
    "</div>"
   ]
  },
  {
   "cell_type": "code",
   "execution_count": null,
   "id": "3910015a-0fd4-49d0-b5db-c138f34af0c6",
   "metadata": {},
   "outputs": [],
   "source": [
    "compuertas_1q[\"Y\"] = ...\n",
    "compuertas_1q[\"S\"] = ...\n",
    "compuertas_1q[\"T\"] = ...\n",
    "compuertas_1q[\"H\"] = ..."
   ]
  }
 ],
 "metadata": {
  "celltoolbar": "Slideshow",
  "kernelspec": {
   "display_name": "Python 3 (ipykernel)",
   "language": "python",
   "name": "python3"
  },
  "language_info": {
   "codemirror_mode": {
    "name": "ipython",
    "version": 3
   },
   "file_extension": ".py",
   "mimetype": "text/x-python",
   "name": "python",
   "nbconvert_exporter": "python",
   "pygments_lexer": "ipython3",
   "version": "3.10.13"
  }
 },
 "nbformat": 4,
 "nbformat_minor": 5
}
