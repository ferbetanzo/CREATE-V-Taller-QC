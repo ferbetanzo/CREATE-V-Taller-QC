{
 "cells": [
  {
   "cell_type": "markdown",
   "id": "afdc1ced-d77d-49e9-b4ae-5297db2ab845",
   "metadata": {},
   "source": [
    "# Pre-requisitos\n",
    "\n",
    "El presente taller asume que los asistentes están suficientemente familiarizados con los temas que se enlistan a continuación. "
   ]
  },
  {
   "cell_type": "markdown",
   "id": "7c083858-6b81-41e0-97ce-4b657fd463d1",
   "metadata": {
    "jp-MarkdownHeadingCollapsed": true
   },
   "source": [
    "## Álgebra lineal\n",
    "- Vectores\n",
    "    * Dependencia lineal de vectores\n",
    "    * Producto interno/externo\n",
    "    * Ortogonalidad\n",
    "- Espacio vectorial\n",
    "    * Base de un espacio vectorial\n",
    "    * Ortonormalidad\n",
    "- Matrices\n",
    "    * Autovalores (_eigenvalues_) y autovectores (_eigenvectors_)\n",
    "    * Exponenciación de matrices"
   ]
  },
  {
   "cell_type": "markdown",
   "id": "028d187f-4259-498c-afc4-e82a0f003f50",
   "metadata": {},
   "source": [
    "## Números complejos\n",
    "- Representación en el plano complejo\n",
    "- Representación polar\n",
    "- Conjugado complejo\n",
    "- Valor absoluto o módulo de un número complejo\n"
   ]
  }
 ],
 "metadata": {
  "kernelspec": {
   "display_name": "Python 3 (ipykernel)",
   "language": "python",
   "name": "python3"
  },
  "language_info": {
   "codemirror_mode": {
    "name": "ipython",
    "version": 3
   },
   "file_extension": ".py",
   "mimetype": "text/x-python",
   "name": "python",
   "nbconvert_exporter": "python",
   "pygments_lexer": "ipython3",
   "version": "3.10.13"
  }
 },
 "nbformat": 4,
 "nbformat_minor": 5
}
