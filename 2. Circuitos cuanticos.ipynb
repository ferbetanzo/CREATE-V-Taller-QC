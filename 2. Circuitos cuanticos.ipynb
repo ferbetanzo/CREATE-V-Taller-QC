{
 "cells": [
  {
   "cell_type": "markdown",
   "id": "65dd5220-10b6-41fa-9ccb-7f52d23ac48e",
   "metadata": {
    "slideshow": {
     "slide_type": "slide"
    }
   },
   "source": [
    "# 2.1. Circuitos clásicos\n",
    "\n",
    "Un circuito *booleano* es un grafo dirigido y acíclico con:\n",
    "\n",
    "- $n$ nodos de entrada correspondientes a los $n$ bits de la entrada.\n",
    "- Nodos de compuertas $AND$, $NOT$, $OR$.\n",
    "- Uno o más nodos de salida."
   ]
  },
  {
   "attachments": {},
   "cell_type": "markdown",
   "id": "6f966058-bfeb-48f4-96fd-bf4a47e29d71",
   "metadata": {},
   "source": [
    "Es decir, un circuito clásico tiene una forma como:\n",
    "\n",
    "![Boolean_circuit.jpg](https://upload.wikimedia.org/wikipedia/en/d/df/Three_input_Boolean_circuit.jpg)\n"
   ]
  },
  {
   "cell_type": "markdown",
   "id": "a656d90b-5eb3-4814-b48e-3b65fb0d9bd5",
   "metadata": {},
   "source": [
    "Decimos que un circuito **computa** una función *booleana* $f: \\{0,1\\}^m \\rightarrow \\{0,1\\}^m$ si los nodos de salida contienen el valor correcto $f(x)$ para cada entrada $x \\in \\{0,1\\}^n$."
   ]
  },
  {
   "cell_type": "markdown",
   "id": "6065c171-a2f6-4638-899d-a1c64598c827",
   "metadata": {},
   "source": [
    "# 2.2. Circuitos cuánticos\n",
    "\n",
    "Son una generalización de los circuitos clásicos, donde: \n",
    "- Los nodos de entrada son qubits (normalmente inicializados en $| 0 \\rangle$.\n",
    "- Las compuertas $AND$, $NOT$, $OR$ son reemplazadas por compuertas cuánticas básicas.\n",
    "- Los nodos de salida corresponden a los resultados de medir el nodo de entrada correspondiente (información clásica).\n",
    "\n",
    "Usando `pytket`, podemos definir un circuito cuántico sencillo así:"
   ]
  },
  {
   "cell_type": "code",
   "execution_count": 1,
   "id": "aee13e8b-5852-415a-a071-a9132f964465",
   "metadata": {
    "editable": true,
    "slideshow": {
     "slide_type": ""
    },
    "tags": []
   },
   "outputs": [
    {
     "data": {
      "text/html": [
       "\n",
       "\n",
       "\n",
       "\n",
       "\n",
       "\n",
       "<div style=\"resize: vertical; overflow: auto; height: 400px; display: block\">\n",
       "    <iframe srcdoc=\"\n",
       "&lt;!DOCTYPE html&gt;\n",
       "&lt;html lang=&#34;en&#34;&gt;\n",
       "&lt;head&gt;\n",
       "    &lt;meta charset=&#34;UTF-8&#34;&gt;\n",
       "    &lt;!-- Download Vue 3--&gt;\n",
       "&lt;script type=&#34;application/javascript&#34; src=&#34;https://cdn.jsdelivr.net/npm/vue@3&#34;&gt;&lt;/script&gt;\n",
       "&lt;!-- Download Circuit Renderer with styles --&gt;\n",
       "&lt;script type=&#34;application/javascript&#34; src=&#34;https://unpkg.com/pytket-circuit-renderer@0.7/dist/pytket-circuit-renderer.umd.js&#34;&gt;&lt;/script&gt;\n",
       "&lt;link rel=&#34;stylesheet&#34; href=&#34;https://unpkg.com/pytket-circuit-renderer@0.7/dist/pytket-circuit-renderer.css&#34;&gt;\n",
       "&lt;/head&gt;\n",
       "&lt;body&gt;\n",
       "\n",
       "\n",
       "\n",
       "    &lt;div id=&#34;circuit-display-vue-container-fc3d8318-9c72-4232-bfe5-aaa7ea2d74b4&#34; class=&#34;pytket-circuit-display-container&#34;&gt;\n",
       "        &lt;div style=&#34;display: none&#34;&gt;\n",
       "            &lt;div id=&#34;circuit-json-to-display&#34;&gt;{&#34;bits&#34;: [], &#34;commands&#34;: [{&#34;args&#34;: [[&#34;q&#34;, [0]]], &#34;op&#34;: {&#34;type&#34;: &#34;H&#34;}}, {&#34;args&#34;: [[&#34;q&#34;, [1]]], &#34;op&#34;: {&#34;type&#34;: &#34;Z&#34;}}, {&#34;args&#34;: [[&#34;q&#34;, [0]]], &#34;op&#34;: {&#34;type&#34;: &#34;X&#34;}}, {&#34;args&#34;: [[&#34;q&#34;, [0]], [&#34;q&#34;, [1]]], &#34;op&#34;: {&#34;type&#34;: &#34;CX&#34;}}], &#34;created_qubits&#34;: [], &#34;discarded_qubits&#34;: [], &#34;implicit_permutation&#34;: [[[&#34;q&#34;, [0]], [&#34;q&#34;, [0]]], [[&#34;q&#34;, [1]], [&#34;q&#34;, [1]]], [[&#34;q&#34;, [2]], [&#34;q&#34;, [2]]]], &#34;phase&#34;: &#34;0.0&#34;, &#34;qubits&#34;: [[&#34;q&#34;, [0]], [&#34;q&#34;, [1]], [&#34;q&#34;, [2]]]}&lt;/div&gt;\n",
       "        &lt;/div&gt;\n",
       "        &lt;circuit-display-container\n",
       "                :circuit-element-str=&#34;&#39;#circuit-json-to-display&#39;&#34;\n",
       "                :init-render-options=&#34;initRenderOptions&#34;\n",
       "        &gt;&lt;/circuit-display-container&gt;\n",
       "    &lt;/div&gt;\n",
       "    &lt;script type=&#34;application/javascript&#34;&gt;\n",
       "      const circuitRendererUid = &#34;fc3d8318-9c72-4232-bfe5-aaa7ea2d74b4&#34;;\n",
       "      const displayOptions = JSON.parse(&#39;{}&#39;);\n",
       "\n",
       "      // Script to initialise the circuit renderer app\n",
       "\n",
       "const { createApp } = Vue;\n",
       "const circuitDisplayContainer = window[&#34;pytket-circuit-renderer&#34;].default;\n",
       "// Init variables to be shared between circuit display instances\n",
       "if (typeof window.pytketCircuitDisplays === &#34;undefined&#34;) {\n",
       "    window.pytketCircuitDisplays = {};\n",
       "}\n",
       "// Create the root Vue component\n",
       "const app = createApp({\n",
       "    delimiters: [&#39;[[#&#39;, &#39;#]]&#39;],\n",
       "    components: { circuitDisplayContainer },\n",
       "    data () {\n",
       "      return {\n",
       "        initRenderOptions: displayOptions,\n",
       "      }\n",
       "    }\n",
       "})\n",
       "app.config.unwrapInjectedRef = true;\n",
       "app.mount(&#34;#circuit-display-vue-container-&#34;+circuitRendererUid);\n",
       "window.pytketCircuitDisplays[circuitRendererUid] = app;\n",
       "    &lt;/script&gt;\n",
       "\n",
       "\n",
       "\n",
       "&lt;/body&gt;\n",
       "&lt;/html&gt;\n",
       "\"\n",
       "            width=\"100%\" height=\"100%\"\n",
       "            style=\"border: none; outline: none; overflow: auto\"></iframe>\n",
       "</div>\n",
       "\n"
      ],
      "text/plain": [
       "<IPython.core.display.HTML object>"
      ]
     },
     "metadata": {},
     "output_type": "display_data"
    }
   ],
   "source": [
    "from pytket import Circuit\n",
    "from pytket.circuit.display import render_circuit_jupyter\n",
    "\n",
    "\n",
    "circ = Circuit(3)\n",
    "circ.H(0).X(0)\n",
    "circ.Z(1)\n",
    "circ.CX(0,1)\n",
    "\n",
    "render_circuit_jupyter(circ)"
   ]
  },
  {
   "cell_type": "code",
   "execution_count": 2,
   "id": "891da721-0505-408f-a47e-ee0c3cd8e2eb",
   "metadata": {},
   "outputs": [
    {
     "data": {
      "image/svg+xml": [
       "<?xml version=\"1.0\" encoding=\"UTF-8\" standalone=\"no\"?>\n",
       "<!DOCTYPE svg PUBLIC \"-//W3C//DTD SVG 1.1//EN\"\n",
       " \"http://www.w3.org/Graphics/SVG/1.1/DTD/svg11.dtd\">\n",
       "<!-- Generated by graphviz version 2.43.0 (0)\n",
       " -->\n",
       "<!-- Title: Circuit Pages: 1 -->\n",
       "<svg width=\"184pt\" height=\"105pt\"\n",
       " viewBox=\"0.00 0.00 184.00 105.00\" xmlns=\"http://www.w3.org/2000/svg\" xmlns:xlink=\"http://www.w3.org/1999/xlink\">\n",
       "<g id=\"graph0\" class=\"graph\" transform=\"scale(1 1) rotate(0) translate(4 101)\">\n",
       "<title>Circuit</title>\n",
       "<polygon fill=\"white\" stroke=\"transparent\" points=\"-4,4 -4,-101 180,-101 180,4 -4,4\"/>\n",
       "<g id=\"clust1\" class=\"cluster\">\n",
       "<title>cluster_q_inputs</title>\n",
       "<path fill=\"lightgrey\" stroke=\"lightgrey\" d=\"M18.53,-12C18.53,-12 23.07,-12 23.07,-12 25.33,-12 27.6,-14.27 27.6,-16.53 27.6,-16.53 27.6,-51.47 27.6,-51.47 27.6,-53.73 25.33,-56 23.07,-56 23.07,-56 18.53,-56 18.53,-56 16.27,-56 14,-53.73 14,-51.47 14,-51.47 14,-16.53 14,-16.53 14,-14.27 16.27,-12 18.53,-12\"/>\n",
       "</g>\n",
       "<g id=\"clust4\" class=\"cluster\">\n",
       "<title>cluster_q_outputs</title>\n",
       "<path fill=\"lightgrey\" stroke=\"lightgrey\" d=\"M158.93,-8C158.93,-8 163.47,-8 163.47,-8 165.73,-8 168,-10.27 168,-12.53 168,-12.53 168,-47.47 168,-47.47 168,-49.73 165.73,-52 163.47,-52 163.47,-52 158.93,-52 158.93,-52 156.67,-52 154.4,-49.73 154.4,-47.47 154.4,-47.47 154.4,-12.53 154.4,-12.53 154.4,-10.27 156.67,-8 158.93,-8\"/>\n",
       "</g>\n",
       "<g id=\"clust7\" class=\"cluster\">\n",
       "<title>cluster_6</title>\n",
       "<path fill=\"lightblue\" stroke=\"lightblue\" d=\"M48.13,-51C48.13,-51 56.67,-51 56.67,-51 60.93,-51 65.2,-55.27 65.2,-59.53 65.2,-59.53 65.2,-75.47 65.2,-75.47 65.2,-79.73 60.93,-84 56.67,-84 56.67,-84 48.13,-84 48.13,-84 43.87,-84 39.6,-79.73 39.6,-75.47 39.6,-75.47 39.6,-59.53 39.6,-59.53 39.6,-55.27 43.87,-51 48.13,-51\"/>\n",
       "<text text-anchor=\"middle\" x=\"52.4\" y=\"-72\" font-family=\"Times,serif\" font-size=\"10.00\">H</text>\n",
       "</g>\n",
       "<g id=\"clust8\" class=\"cluster\">\n",
       "<title>cluster_7</title>\n",
       "<path fill=\"lightblue\" stroke=\"lightblue\" d=\"M84.73,-56C84.73,-56 92.27,-56 92.27,-56 96.03,-56 99.8,-59.77 99.8,-63.53 99.8,-63.53 99.8,-81.47 99.8,-81.47 99.8,-85.23 96.03,-89 92.27,-89 92.27,-89 84.73,-89 84.73,-89 80.97,-89 77.2,-85.23 77.2,-81.47 77.2,-81.47 77.2,-63.53 77.2,-63.53 77.2,-59.77 80.97,-56 84.73,-56\"/>\n",
       "<text text-anchor=\"middle\" x=\"88.5\" y=\"-77\" font-family=\"Times,serif\" font-size=\"10.00\">X</text>\n",
       "</g>\n",
       "<g id=\"clust9\" class=\"cluster\">\n",
       "<title>cluster_8</title>\n",
       "<path fill=\"lightblue\" stroke=\"lightblue\" d=\"M84.73,-23C84.73,-23 92.27,-23 92.27,-23 96.03,-23 99.8,-26.77 99.8,-30.53 99.8,-30.53 99.8,-48.47 99.8,-48.47 99.8,-52.23 96.03,-56 92.27,-56 92.27,-56 84.73,-56 84.73,-56 80.97,-56 77.2,-52.23 77.2,-48.47 77.2,-48.47 77.2,-30.53 77.2,-30.53 77.2,-26.77 80.97,-23 84.73,-23\"/>\n",
       "<text text-anchor=\"middle\" x=\"88.5\" y=\"-44\" font-family=\"Times,serif\" font-size=\"10.00\">Z</text>\n",
       "</g>\n",
       "<g id=\"clust10\" class=\"cluster\">\n",
       "<title>cluster_9</title>\n",
       "<path fill=\"lightblue\" stroke=\"lightblue\" d=\"M122,-23C122,-23 132.2,-23 132.2,-23 137.3,-23 142.4,-28.1 142.4,-33.2 142.4,-33.2 142.4,-60.8 142.4,-60.8 142.4,-65.9 137.3,-71 132.2,-71 132.2,-71 122,-71 122,-71 116.9,-71 111.8,-65.9 111.8,-60.8 111.8,-60.8 111.8,-33.2 111.8,-33.2 111.8,-28.1 116.9,-23 122,-23\"/>\n",
       "<text text-anchor=\"middle\" x=\"127.1\" y=\"-59\" font-family=\"Times,serif\" font-size=\"10.00\">CX</text>\n",
       "</g>\n",
       "<!-- (0, 0) -->\n",
       "<g id=\"node1\" class=\"node\">\n",
       "<title>(0, 0)</title>\n",
       "<ellipse fill=\"blue\" stroke=\"blue\" cx=\"20.8\" cy=\"-49\" rx=\"1.8\" ry=\"1.8\"/>\n",
       "<text text-anchor=\"middle\" x=\"9.5\" y=\"-40.8\" font-family=\"Courier,monospace\" font-size=\"8.00\">q[0]</text>\n",
       "</g>\n",
       "<!-- (6, 0) -->\n",
       "<g id=\"node7\" class=\"node\">\n",
       "<title>(6, 0)</title>\n",
       "<ellipse fill=\"black\" stroke=\"black\" cx=\"52.4\" cy=\"-58\" rx=\"1.8\" ry=\"1.8\"/>\n",
       "</g>\n",
       "<!-- (0, 0)&#45;&gt;(6, 0) -->\n",
       "<g id=\"edge1\" class=\"edge\">\n",
       "<title>(0, 0)&#45;&gt;(6, 0)</title>\n",
       "<path fill=\"none\" stroke=\"blue\" d=\"M23.07,-49.39C27.41,-50.71 41.71,-55.05 48.18,-57.02\"/>\n",
       "<polygon fill=\"blue\" stroke=\"blue\" points=\"50.42,-57.7 48.17,-58.2 49.46,-57.41 48.5,-57.12 48.5,-57.12 48.5,-57.12 49.46,-57.41 48.83,-56.04 50.42,-57.7 50.42,-57.7\"/>\n",
       "</g>\n",
       "<!-- (2, 0) -->\n",
       "<g id=\"node2\" class=\"node\">\n",
       "<title>(2, 0)</title>\n",
       "<ellipse fill=\"blue\" stroke=\"blue\" cx=\"20.8\" cy=\"-34\" rx=\"1.8\" ry=\"1.8\"/>\n",
       "<text text-anchor=\"middle\" x=\"9.5\" y=\"-25.8\" font-family=\"Courier,monospace\" font-size=\"8.00\">q[1]</text>\n",
       "</g>\n",
       "<!-- (8, 0) -->\n",
       "<g id=\"node9\" class=\"node\">\n",
       "<title>(8, 0)</title>\n",
       "<ellipse fill=\"black\" stroke=\"black\" cx=\"88\" cy=\"-30\" rx=\"1.8\" ry=\"1.8\"/>\n",
       "</g>\n",
       "<!-- (2, 0)&#45;&gt;(8, 0) -->\n",
       "<g id=\"edge2\" class=\"edge\">\n",
       "<title>(2, 0)&#45;&gt;(8, 0)</title>\n",
       "<path fill=\"none\" stroke=\"blue\" d=\"M22.93,-33.93C30.35,-33.48 72.11,-30.91 83.9,-30.19\"/>\n",
       "<polygon fill=\"blue\" stroke=\"blue\" points=\"86.03,-30.06 84.11,-31.3 85.04,-30.12 84.04,-30.18 84.04,-30.18 84.04,-30.18 85.04,-30.12 83.97,-29.06 86.03,-30.06 86.03,-30.06\"/>\n",
       "</g>\n",
       "<!-- (4, 0) -->\n",
       "<g id=\"node3\" class=\"node\">\n",
       "<title>(4, 0)</title>\n",
       "<ellipse fill=\"blue\" stroke=\"blue\" cx=\"20.8\" cy=\"-19\" rx=\"1.8\" ry=\"1.8\"/>\n",
       "<text text-anchor=\"middle\" x=\"9.5\" y=\"-10.8\" font-family=\"Courier,monospace\" font-size=\"8.00\">q[2]</text>\n",
       "</g>\n",
       "<!-- (5, 0) -->\n",
       "<g id=\"node6\" class=\"node\">\n",
       "<title>(5, 0)</title>\n",
       "<ellipse fill=\"blue\" stroke=\"blue\" cx=\"161.2\" cy=\"-15\" rx=\"1.8\" ry=\"1.8\"/>\n",
       "<text text-anchor=\"middle\" x=\"149.9\" y=\"-6.8\" font-family=\"Courier,monospace\" font-size=\"8.00\">q[2]</text>\n",
       "</g>\n",
       "<!-- (4, 0)&#45;&gt;(5, 0) -->\n",
       "<g id=\"edge3\" class=\"edge\">\n",
       "<title>(4, 0)&#45;&gt;(5, 0)</title>\n",
       "<path fill=\"none\" stroke=\"blue\" d=\"M22.68,-18.97C33.39,-18.66 138.13,-15.64 157.22,-15.09\"/>\n",
       "<polygon fill=\"blue\" stroke=\"blue\" points=\"159.4,-15.02 157.43,-16.21 158.4,-15.05 157.4,-15.08 157.4,-15.08 157.4,-15.08 158.4,-15.05 157.36,-13.96 159.4,-15.02 159.4,-15.02\"/>\n",
       "</g>\n",
       "<!-- (1, 0) -->\n",
       "<g id=\"node4\" class=\"node\">\n",
       "<title>(1, 0)</title>\n",
       "<ellipse fill=\"blue\" stroke=\"blue\" cx=\"161.2\" cy=\"-45\" rx=\"1.8\" ry=\"1.8\"/>\n",
       "<text text-anchor=\"middle\" x=\"149.9\" y=\"-36.8\" font-family=\"Courier,monospace\" font-size=\"8.00\">q[0]</text>\n",
       "</g>\n",
       "<!-- (3, 0) -->\n",
       "<g id=\"node5\" class=\"node\">\n",
       "<title>(3, 0)</title>\n",
       "<ellipse fill=\"blue\" stroke=\"blue\" cx=\"161.2\" cy=\"-30\" rx=\"1.8\" ry=\"1.8\"/>\n",
       "<text text-anchor=\"middle\" x=\"149.9\" y=\"-21.8\" font-family=\"Courier,monospace\" font-size=\"8.00\">q[1]</text>\n",
       "</g>\n",
       "<!-- (7, 0) -->\n",
       "<g id=\"node8\" class=\"node\">\n",
       "<title>(7, 0)</title>\n",
       "<ellipse fill=\"black\" stroke=\"black\" cx=\"88\" cy=\"-63\" rx=\"1.8\" ry=\"1.8\"/>\n",
       "</g>\n",
       "<!-- (6, 0)&#45;&gt;(7, 0) -->\n",
       "<g id=\"edge4\" class=\"edge\">\n",
       "<title>(6, 0)&#45;&gt;(7, 0)</title>\n",
       "<path fill=\"none\" stroke=\"blue\" d=\"M54.23,-58.12C58.26,-58.72 75.91,-61.35 83.51,-62.48\"/>\n",
       "<polygon fill=\"blue\" stroke=\"blue\" points=\"85.8,-62.82 83.66,-63.64 84.82,-62.67 83.83,-62.53 83.83,-62.53 83.83,-62.53 84.82,-62.67 83.99,-61.41 85.8,-62.82 85.8,-62.82\"/>\n",
       "</g>\n",
       "<!-- (9, 0) -->\n",
       "<g id=\"node10\" class=\"node\">\n",
       "<title>(9, 0)</title>\n",
       "<ellipse fill=\"black\" stroke=\"black\" cx=\"126.6\" cy=\"-45\" rx=\"1.8\" ry=\"1.8\"/>\n",
       "<text text-anchor=\"middle\" x=\"121.8\" y=\"-36.8\" font-family=\"Helvetica,sans-Serif\" font-size=\"8.00\">0</text>\n",
       "</g>\n",
       "<!-- (7, 0)&#45;&gt;(9, 0) -->\n",
       "<g id=\"edge5\" class=\"edge\">\n",
       "<title>(7, 0)&#45;&gt;(9, 0)</title>\n",
       "<path fill=\"none\" stroke=\"blue\" d=\"M89.9,-62.56C94.37,-60.36 114.2,-50.61 122.22,-46.66\"/>\n",
       "<polygon fill=\"blue\" stroke=\"blue\" points=\"124.3,-45.64 123,-47.53 123.4,-46.08 122.5,-46.52 122.5,-46.52 122.5,-46.52 123.4,-46.08 122.01,-45.51 124.3,-45.64 124.3,-45.64\"/>\n",
       "</g>\n",
       "<!-- (9, 1) -->\n",
       "<g id=\"node11\" class=\"node\">\n",
       "<title>(9, 1)</title>\n",
       "<ellipse fill=\"black\" stroke=\"black\" cx=\"126.6\" cy=\"-30\" rx=\"1.8\" ry=\"1.8\"/>\n",
       "<text text-anchor=\"middle\" x=\"121.8\" y=\"-21.8\" font-family=\"Helvetica,sans-Serif\" font-size=\"8.00\">1</text>\n",
       "</g>\n",
       "<!-- (8, 0)&#45;&gt;(9, 1) -->\n",
       "<g id=\"edge6\" class=\"edge\">\n",
       "<title>(8, 0)&#45;&gt;(9, 1)</title>\n",
       "<path fill=\"none\" stroke=\"blue\" d=\"M89.9,-30C94.37,-30 114.2,-30 122.22,-30\"/>\n",
       "<polygon fill=\"blue\" stroke=\"blue\" points=\"124.3,-30 122.3,-31.13 123.3,-30 122.3,-30 122.3,-30 122.3,-30 123.3,-30 122.3,-28.88 124.3,-30 124.3,-30\"/>\n",
       "</g>\n",
       "<!-- (9, 0)&#45;&gt;(1, 0) -->\n",
       "<g id=\"edge8\" class=\"edge\">\n",
       "<title>(9, 0)&#45;&gt;(1, 0)</title>\n",
       "<path fill=\"none\" stroke=\"blue\" d=\"M128.41,-45C132.32,-45 149.44,-45 156.81,-45\"/>\n",
       "<polygon fill=\"blue\" stroke=\"blue\" points=\"159.04,-45 157.04,-46.13 158.04,-45 157.04,-45 157.04,-45 157.04,-45 158.04,-45 157.04,-43.88 159.04,-45 159.04,-45\"/>\n",
       "</g>\n",
       "<!-- (9, 1)&#45;&gt;(3, 0) -->\n",
       "<g id=\"edge7\" class=\"edge\">\n",
       "<title>(9, 1)&#45;&gt;(3, 0)</title>\n",
       "<path fill=\"none\" stroke=\"blue\" d=\"M128.41,-30C132.32,-30 149.44,-30 156.81,-30\"/>\n",
       "<polygon fill=\"blue\" stroke=\"blue\" points=\"159.04,-30 157.04,-31.13 158.04,-30 157.04,-30 157.04,-30 157.04,-30 158.04,-30 157.04,-28.88 159.04,-30 159.04,-30\"/>\n",
       "</g>\n",
       "</g>\n",
       "</svg>\n"
      ],
      "text/plain": [
       "<graphviz.graphs.Digraph at 0x7f9c2736efe0>"
      ]
     },
     "execution_count": 2,
     "metadata": {},
     "output_type": "execute_result"
    }
   ],
   "source": [
    "from pytket.utils import Graph\n",
    "Graph(circ).get_DAG()"
   ]
  },
  {
   "cell_type": "markdown",
   "id": "5bb3b8d8-3f23-4880-90e5-e1ed63102aff",
   "metadata": {},
   "source": [
    "En un circuito cuántico cada línea representa un qubit, el cual se transforma al pasar por las distintas compuertas de izquierda a derecha. O, en otras palabras, el tiempo fluye de izquierda a derecha."
   ]
  },
  {
   "cell_type": "markdown",
   "id": "4bd9cec9-a45d-4ce0-b1a7-301268380539",
   "metadata": {},
   "source": [
    "Como vimos antes, las compuertas que actúan sobre distintos qubits y se pueden ejecutar al mismo tiempo, se pueden *componer* tomando el producto tensorial de las mismas. En el circuito anterior, $H$ afecta a al qubit $q[0]$, mientras que $Z$ se aplica a $q[1]$ y el tercer qubit no es afectado. Entonces, el operador que actúa sobre el sistema cuántico de 3 qubits es:\n",
    "\n",
    "\\begin{align*}\n",
    "H \\otimes Z \\otimes I\n",
    "\\end{align*}"
   ]
  },
  {
   "cell_type": "markdown",
   "id": "da96d05b-7311-4d91-9f94-42e755251ae6",
   "metadata": {},
   "source": [
    "Por otro lado, las compuertas que afecten a un qubit se deben aplicar en secuencia, es decir, se multiplican los operadores.\n",
    "\n",
    "Por ejemplo, al qubit $q[0]$ en la imagen anterior, primero se le aplica un $H$, después $X$ y al final se usa de control para un $CNOT$ (recordemos que el cubit de control de un $CNOT$ no sufre cambios). Entonces al final de aplicar el circuito, el qubit $q[0]$ termina en el estado:\n",
    "\n",
    "\\begin{align*}\n",
    "| q_{0_{final}} \\rangle = I Z  H | q_0 \\rangle\n",
    "\\end{align*}"
   ]
  },
  {
   "cell_type": "markdown",
   "id": "abf4d2a8-b435-4861-947a-c0e0b7661833",
   "metadata": {},
   "source": [
    "<div class=\"alert alert-block alert-success\">\n",
    "    <b>💡 Recuerda 💡</b>\n",
    "    <br>\n",
    "    Al escribir los operadores o compuertas que afectan a un qubit, se hace en el sentido contrario a como se ven en el circuito.\n",
    "</div>"
   ]
  },
  {
   "cell_type": "markdown",
   "id": "16adadf4-cf15-4a16-bd97-30b50ed468f4",
   "metadata": {},
   "source": [
    "# 2.2.1. ⚠️ Accediendo a la información ⚠️\n",
    "\n",
    "Para fines de _debugging_, cuando simulamos un circuito cuántico en una computadora clásica, podemos acceder al estado del sistema."
   ]
  },
  {
   "cell_type": "code",
   "execution_count": 3,
   "id": "96a59be1-ab5b-4fe4-834e-346ae83dfd07",
   "metadata": {},
   "outputs": [
    {
     "data": {
      "text/plain": [
       "array([0.70710678+0.j, 0.        +0.j, 0.        +0.j, 0.        +0.j,\n",
       "       0.        +0.j, 0.        +0.j, 0.70710678+0.j, 0.        +0.j])"
      ]
     },
     "execution_count": 3,
     "metadata": {},
     "output_type": "execute_result"
    }
   ],
   "source": [
    "circ.get_statevector()"
   ]
  },
  {
   "cell_type": "code",
   "execution_count": 4,
   "id": "f3b308fa-e6b5-4b85-b9a1-8e51018a9b94",
   "metadata": {},
   "outputs": [
    {
     "data": {
      "text/plain": [
       "array([[ 0.70710678+0.j,  0.        +0.j,  0.        +0.j,\n",
       "         0.        +0.j, -0.70710678+0.j,  0.        +0.j,\n",
       "         0.        +0.j,  0.        +0.j],\n",
       "       [ 0.        +0.j,  0.70710678+0.j,  0.        +0.j,\n",
       "         0.        +0.j,  0.        +0.j, -0.70710678+0.j,\n",
       "         0.        +0.j,  0.        +0.j],\n",
       "       [ 0.        +0.j,  0.        +0.j, -0.70710678+0.j,\n",
       "         0.        +0.j,  0.        +0.j,  0.        +0.j,\n",
       "         0.70710678+0.j,  0.        +0.j],\n",
       "       [ 0.        +0.j,  0.        +0.j,  0.        +0.j,\n",
       "        -0.70710678+0.j,  0.        +0.j,  0.        +0.j,\n",
       "         0.        +0.j,  0.70710678+0.j],\n",
       "       [ 0.        +0.j,  0.        +0.j, -0.70710678+0.j,\n",
       "         0.        +0.j,  0.        +0.j,  0.        +0.j,\n",
       "        -0.70710678+0.j,  0.        +0.j],\n",
       "       [ 0.        +0.j,  0.        +0.j,  0.        +0.j,\n",
       "        -0.70710678+0.j,  0.        +0.j,  0.        +0.j,\n",
       "         0.        +0.j, -0.70710678+0.j],\n",
       "       [ 0.70710678+0.j,  0.        +0.j,  0.        +0.j,\n",
       "         0.        +0.j,  0.70710678+0.j,  0.        +0.j,\n",
       "         0.        +0.j,  0.        +0.j],\n",
       "       [ 0.        +0.j,  0.70710678+0.j,  0.        +0.j,\n",
       "         0.        +0.j,  0.        +0.j,  0.70710678+0.j,\n",
       "         0.        +0.j,  0.        +0.j]])"
      ]
     },
     "execution_count": 4,
     "metadata": {},
     "output_type": "execute_result"
    }
   ],
   "source": [
    "circ.get_unitary()"
   ]
  },
  {
   "cell_type": "markdown",
   "id": "e5b5bcfb-1cfd-4d06-92b0-d94da25f1841",
   "metadata": {},
   "source": [
    "## 2.3. Medición\n",
    "\n",
    "Para obtener el resultado de un algoritmo cuántico lo que hacemos es medir u observar el estado de uno o más qubits, normalmente en la base computacional. Dicha medición nos dará un bit de información clásica ${0, 1}$, dependiendo en qué estado fue encontrado. Una medición de múltiples qubits entonces genera una cadena de números binarios."
   ]
  },
  {
   "cell_type": "code",
   "execution_count": 5,
   "id": "0e7d8037-2593-4dd2-a68e-8ef31e8f43ce",
   "metadata": {},
   "outputs": [
    {
     "data": {
      "text/html": [
       "\n",
       "\n",
       "\n",
       "\n",
       "\n",
       "\n",
       "<div style=\"resize: vertical; overflow: auto; height: 400px; display: block\">\n",
       "    <iframe srcdoc=\"\n",
       "&lt;!DOCTYPE html&gt;\n",
       "&lt;html lang=&#34;en&#34;&gt;\n",
       "&lt;head&gt;\n",
       "    &lt;meta charset=&#34;UTF-8&#34;&gt;\n",
       "    &lt;!-- Download Vue 3--&gt;\n",
       "&lt;script type=&#34;application/javascript&#34; src=&#34;https://cdn.jsdelivr.net/npm/vue@3&#34;&gt;&lt;/script&gt;\n",
       "&lt;!-- Download Circuit Renderer with styles --&gt;\n",
       "&lt;script type=&#34;application/javascript&#34; src=&#34;https://unpkg.com/pytket-circuit-renderer@0.7/dist/pytket-circuit-renderer.umd.js&#34;&gt;&lt;/script&gt;\n",
       "&lt;link rel=&#34;stylesheet&#34; href=&#34;https://unpkg.com/pytket-circuit-renderer@0.7/dist/pytket-circuit-renderer.css&#34;&gt;\n",
       "&lt;/head&gt;\n",
       "&lt;body&gt;\n",
       "\n",
       "\n",
       "\n",
       "    &lt;div id=&#34;circuit-display-vue-container-7309de27-406e-4ed9-a753-7390a9f07adf&#34; class=&#34;pytket-circuit-display-container&#34;&gt;\n",
       "        &lt;div style=&#34;display: none&#34;&gt;\n",
       "            &lt;div id=&#34;circuit-json-to-display&#34;&gt;{&#34;bits&#34;: [[&#34;c&#34;, [0]], [&#34;c&#34;, [1]], [&#34;c&#34;, [2]]], &#34;commands&#34;: [{&#34;args&#34;: [[&#34;q&#34;, [2]], [&#34;c&#34;, [2]]], &#34;op&#34;: {&#34;type&#34;: &#34;Measure&#34;}}, {&#34;args&#34;: [[&#34;q&#34;, [0]]], &#34;op&#34;: {&#34;type&#34;: &#34;H&#34;}}, {&#34;args&#34;: [[&#34;q&#34;, [1]]], &#34;op&#34;: {&#34;type&#34;: &#34;Z&#34;}}, {&#34;args&#34;: [[&#34;q&#34;, [0]]], &#34;op&#34;: {&#34;type&#34;: &#34;X&#34;}}, {&#34;args&#34;: [[&#34;q&#34;, [0]], [&#34;q&#34;, [1]]], &#34;op&#34;: {&#34;type&#34;: &#34;CX&#34;}}, {&#34;args&#34;: [[&#34;q&#34;, [0]], [&#34;c&#34;, [0]]], &#34;op&#34;: {&#34;type&#34;: &#34;Measure&#34;}}, {&#34;args&#34;: [[&#34;q&#34;, [1]], [&#34;c&#34;, [1]]], &#34;op&#34;: {&#34;type&#34;: &#34;Measure&#34;}}], &#34;created_qubits&#34;: [], &#34;discarded_qubits&#34;: [], &#34;implicit_permutation&#34;: [[[&#34;q&#34;, [0]], [&#34;q&#34;, [0]]], [[&#34;q&#34;, [1]], [&#34;q&#34;, [1]]], [[&#34;q&#34;, [2]], [&#34;q&#34;, [2]]]], &#34;phase&#34;: &#34;0.0&#34;, &#34;qubits&#34;: [[&#34;q&#34;, [0]], [&#34;q&#34;, [1]], [&#34;q&#34;, [2]]]}&lt;/div&gt;\n",
       "        &lt;/div&gt;\n",
       "        &lt;circuit-display-container\n",
       "                :circuit-element-str=&#34;&#39;#circuit-json-to-display&#39;&#34;\n",
       "                :init-render-options=&#34;initRenderOptions&#34;\n",
       "        &gt;&lt;/circuit-display-container&gt;\n",
       "    &lt;/div&gt;\n",
       "    &lt;script type=&#34;application/javascript&#34;&gt;\n",
       "      const circuitRendererUid = &#34;7309de27-406e-4ed9-a753-7390a9f07adf&#34;;\n",
       "      const displayOptions = JSON.parse(&#39;{}&#39;);\n",
       "\n",
       "      // Script to initialise the circuit renderer app\n",
       "\n",
       "const { createApp } = Vue;\n",
       "const circuitDisplayContainer = window[&#34;pytket-circuit-renderer&#34;].default;\n",
       "// Init variables to be shared between circuit display instances\n",
       "if (typeof window.pytketCircuitDisplays === &#34;undefined&#34;) {\n",
       "    window.pytketCircuitDisplays = {};\n",
       "}\n",
       "// Create the root Vue component\n",
       "const app = createApp({\n",
       "    delimiters: [&#39;[[#&#39;, &#39;#]]&#39;],\n",
       "    components: { circuitDisplayContainer },\n",
       "    data () {\n",
       "      return {\n",
       "        initRenderOptions: displayOptions,\n",
       "      }\n",
       "    }\n",
       "})\n",
       "app.config.unwrapInjectedRef = true;\n",
       "app.mount(&#34;#circuit-display-vue-container-&#34;+circuitRendererUid);\n",
       "window.pytketCircuitDisplays[circuitRendererUid] = app;\n",
       "    &lt;/script&gt;\n",
       "\n",
       "\n",
       "\n",
       "&lt;/body&gt;\n",
       "&lt;/html&gt;\n",
       "\"\n",
       "            width=\"100%\" height=\"100%\"\n",
       "            style=\"border: none; outline: none; overflow: auto\"></iframe>\n",
       "</div>\n",
       "\n"
      ],
      "text/plain": [
       "<IPython.core.display.HTML object>"
      ]
     },
     "metadata": {},
     "output_type": "display_data"
    }
   ],
   "source": [
    "circ.measure_all()\n",
    "render_circuit_jupyter(circ)"
   ]
  },
  {
   "cell_type": "markdown",
   "id": "4fdb7190-9a02-441a-98e4-1c88fb8f0c70",
   "metadata": {},
   "source": [
    "## 2.4. Control clásico\n",
    "\n",
    "En algoritmos como los necesarios para realizar correción de errores, se deben aplicar compuertas cuánticas dependiendo del resultado obtenido al medir otros qubits."
   ]
  },
  {
   "cell_type": "code",
   "execution_count": 6,
   "id": "8cba9b1e-48f2-4408-ae79-0ce3e360be0e",
   "metadata": {},
   "outputs": [
    {
     "data": {
      "text/html": [
       "\n",
       "\n",
       "\n",
       "\n",
       "\n",
       "\n",
       "<div style=\"resize: vertical; overflow: auto; height: 400px; display: block\">\n",
       "    <iframe srcdoc=\"\n",
       "&lt;!DOCTYPE html&gt;\n",
       "&lt;html lang=&#34;en&#34;&gt;\n",
       "&lt;head&gt;\n",
       "    &lt;meta charset=&#34;UTF-8&#34;&gt;\n",
       "    &lt;!-- Download Vue 3--&gt;\n",
       "&lt;script type=&#34;application/javascript&#34; src=&#34;https://cdn.jsdelivr.net/npm/vue@3&#34;&gt;&lt;/script&gt;\n",
       "&lt;!-- Download Circuit Renderer with styles --&gt;\n",
       "&lt;script type=&#34;application/javascript&#34; src=&#34;https://unpkg.com/pytket-circuit-renderer@0.7/dist/pytket-circuit-renderer.umd.js&#34;&gt;&lt;/script&gt;\n",
       "&lt;link rel=&#34;stylesheet&#34; href=&#34;https://unpkg.com/pytket-circuit-renderer@0.7/dist/pytket-circuit-renderer.css&#34;&gt;\n",
       "&lt;/head&gt;\n",
       "&lt;body&gt;\n",
       "\n",
       "\n",
       "\n",
       "    &lt;div id=&#34;circuit-display-vue-container-7eac7d28-0540-4fa4-90a9-522dfa84268d&#34; class=&#34;pytket-circuit-display-container&#34;&gt;\n",
       "        &lt;div style=&#34;display: none&#34;&gt;\n",
       "            &lt;div id=&#34;circuit-json-to-display&#34;&gt;{&#34;bits&#34;: [[&#34;c&#34;, [0]], [&#34;c&#34;, [1]], [&#34;c&#34;, [2]]], &#34;commands&#34;: [{&#34;args&#34;: [[&#34;q&#34;, [2]], [&#34;c&#34;, [2]]], &#34;op&#34;: {&#34;type&#34;: &#34;Measure&#34;}}, {&#34;args&#34;: [[&#34;q&#34;, [0]]], &#34;op&#34;: {&#34;type&#34;: &#34;H&#34;}}, {&#34;args&#34;: [[&#34;q&#34;, [1]]], &#34;op&#34;: {&#34;type&#34;: &#34;Z&#34;}}, {&#34;args&#34;: [[&#34;q&#34;, [0]]], &#34;op&#34;: {&#34;type&#34;: &#34;X&#34;}}, {&#34;args&#34;: [[&#34;q&#34;, [0]], [&#34;q&#34;, [1]]], &#34;op&#34;: {&#34;type&#34;: &#34;CX&#34;}}, {&#34;args&#34;: [[&#34;q&#34;, [0]], [&#34;c&#34;, [0]]], &#34;op&#34;: {&#34;type&#34;: &#34;Measure&#34;}}, {&#34;args&#34;: [[&#34;q&#34;, [1]], [&#34;c&#34;, [1]]], &#34;op&#34;: {&#34;type&#34;: &#34;Measure&#34;}}], &#34;created_qubits&#34;: [], &#34;discarded_qubits&#34;: [], &#34;implicit_permutation&#34;: [[[&#34;q&#34;, [0]], [&#34;q&#34;, [0]]], [[&#34;q&#34;, [1]], [&#34;q&#34;, [1]]], [[&#34;q&#34;, [2]], [&#34;q&#34;, [2]]]], &#34;phase&#34;: &#34;0.0&#34;, &#34;qubits&#34;: [[&#34;q&#34;, [0]], [&#34;q&#34;, [1]], [&#34;q&#34;, [2]]]}&lt;/div&gt;\n",
       "        &lt;/div&gt;\n",
       "        &lt;circuit-display-container\n",
       "                :circuit-element-str=&#34;&#39;#circuit-json-to-display&#39;&#34;\n",
       "                :init-render-options=&#34;initRenderOptions&#34;\n",
       "        &gt;&lt;/circuit-display-container&gt;\n",
       "    &lt;/div&gt;\n",
       "    &lt;script type=&#34;application/javascript&#34;&gt;\n",
       "      const circuitRendererUid = &#34;7eac7d28-0540-4fa4-90a9-522dfa84268d&#34;;\n",
       "      const displayOptions = JSON.parse(&#39;{}&#39;);\n",
       "\n",
       "      // Script to initialise the circuit renderer app\n",
       "\n",
       "const { createApp } = Vue;\n",
       "const circuitDisplayContainer = window[&#34;pytket-circuit-renderer&#34;].default;\n",
       "// Init variables to be shared between circuit display instances\n",
       "if (typeof window.pytketCircuitDisplays === &#34;undefined&#34;) {\n",
       "    window.pytketCircuitDisplays = {};\n",
       "}\n",
       "// Create the root Vue component\n",
       "const app = createApp({\n",
       "    delimiters: [&#39;[[#&#39;, &#39;#]]&#39;],\n",
       "    components: { circuitDisplayContainer },\n",
       "    data () {\n",
       "      return {\n",
       "        initRenderOptions: displayOptions,\n",
       "      }\n",
       "    }\n",
       "})\n",
       "app.config.unwrapInjectedRef = true;\n",
       "app.mount(&#34;#circuit-display-vue-container-&#34;+circuitRendererUid);\n",
       "window.pytketCircuitDisplays[circuitRendererUid] = app;\n",
       "    &lt;/script&gt;\n",
       "\n",
       "\n",
       "\n",
       "&lt;/body&gt;\n",
       "&lt;/html&gt;\n",
       "\"\n",
       "            width=\"100%\" height=\"100%\"\n",
       "            style=\"border: none; outline: none; overflow: auto\"></iframe>\n",
       "</div>\n",
       "\n"
      ],
      "text/plain": [
       "<IPython.core.display.HTML object>"
      ]
     },
     "metadata": {},
     "output_type": "display_data"
    }
   ],
   "source": [
    "copia_circ = circ.copy()\n",
    "copia_circ.Z(2, condition_bits=[0], condition_value=1)\n",
    "copia_circ.X(2, condition_bits=[1], condition_value=1)\n",
    "render_circuit_jupyter(circ)"
   ]
  },
  {
   "cell_type": "markdown",
   "id": "3b358c45-4914-4754-80e3-9db1344261c6",
   "metadata": {},
   "source": [
    "# 2.5. Simulación"
   ]
  },
  {
   "cell_type": "markdown",
   "id": "b22b95eb-60bc-4785-ab10-d22cfe39aaf7",
   "metadata": {},
   "source": [
    "`pytket` es una librería que permite crear circuitos cuánticos y compilarlos. No tiene la capacidad de ejecutar simulaciones cuánticas."
   ]
  },
  {
   "cell_type": "code",
   "execution_count": 7,
   "id": "e5da6836-0ff6-474d-9b57-2680f9d3a32b",
   "metadata": {},
   "outputs": [
    {
     "ename": "RuntimeError",
     "evalue": "Error trying to simulate circuit Measure q[2] --> c[2];\nH q[0];\nZ q[1];\nX q[0];\nCX q[0], q[1];\nMeasure q[0] --> c[0];\nMeasure q[1] --> c[1];\nPhase (in half-turns): 0.0\n with 3 qubits, 7 commands; U is size 8x8, premultiplying M with 8 rows, 1 cols: Unsupported OpType Measure",
     "output_type": "error",
     "traceback": [
      "\u001b[0;31m---------------------------------------------------------------------------\u001b[0m",
      "\u001b[0;31mRuntimeError\u001b[0m                              Traceback (most recent call last)",
      "Cell \u001b[0;32mIn[7], line 1\u001b[0m\n\u001b[0;32m----> 1\u001b[0m \u001b[43mcirc\u001b[49m\u001b[38;5;241;43m.\u001b[39;49m\u001b[43mget_statevector\u001b[49m\u001b[43m(\u001b[49m\u001b[43m)\u001b[49m\n",
      "\u001b[0;31mRuntimeError\u001b[0m: Error trying to simulate circuit Measure q[2] --> c[2];\nH q[0];\nZ q[1];\nX q[0];\nCX q[0], q[1];\nMeasure q[0] --> c[0];\nMeasure q[1] --> c[1];\nPhase (in half-turns): 0.0\n with 3 qubits, 7 commands; U is size 8x8, premultiplying M with 8 rows, 1 cols: Unsupported OpType Measure"
     ]
    }
   ],
   "source": [
    "circ.get_statevector()"
   ]
  },
  {
   "cell_type": "markdown",
   "id": "954e4c5c-6a10-4efd-967b-af35e6b08fdf",
   "metadata": {},
   "source": [
    "Sin embargo, es un compilador agnóstico que permite ejecutar circuitos cuánticos en los distintos simuladores que existen actualmente. Esto se hace a través de las distintas extensiones `pytket-*`."
   ]
  },
  {
   "cell_type": "markdown",
   "id": "95d16f6d-c41f-4025-b499-97469adcb473",
   "metadata": {},
   "source": [
    "# 2.5.1. El simulador Aer de IBM"
   ]
  },
  {
   "cell_type": "code",
   "execution_count": null,
   "id": "a0cd5e64-e3a8-4ee8-a008-6d341c45c91c",
   "metadata": {},
   "outputs": [],
   "source": [
    "from pytket.extensions.qiskit import AerBackend\n",
    "\n",
    "aer = AerBackend()\n",
    "circ_compilado_aer = aer.get_compiled_circuit(circuit=circ)\n",
    "handle_aer = aer.process_circuit(circuit=circ_compilado_aer, n_shots=10)\n",
    "resultado_aer = aer.get_result(handle_aer)\n"
   ]
  },
  {
   "cell_type": "markdown",
   "id": "7041ac71-8223-48c8-ac13-8696912667d0",
   "metadata": {},
   "source": [
    "Podemos por ejemplo observar cada una de las cadenas binarias obtenidas en cada simulación (_shot_)."
   ]
  },
  {
   "cell_type": "code",
   "execution_count": null,
   "id": "fbbd1d29-51b6-4452-8d92-3c0b0c27c70a",
   "metadata": {},
   "outputs": [],
   "source": [
    "resultado_aer.get_shots()"
   ]
  },
  {
   "cell_type": "markdown",
   "id": "5339ea3e-6cb9-42de-b62b-a4fb974a4b2d",
   "metadata": {},
   "source": [
    "Generalmente, estamos simplemente interesados tener un resumen de los resultados obtenidos."
   ]
  },
  {
   "cell_type": "code",
   "execution_count": null,
   "id": "6db90394-8b12-47b7-a913-e7c4c405abec",
   "metadata": {},
   "outputs": [],
   "source": [
    "resultado_aer.get_counts()"
   ]
  },
  {
   "cell_type": "markdown",
   "id": "de00eb4f-13ed-443c-b159-bfe4c62caf02",
   "metadata": {},
   "source": [
    "# 2.5.2. El simulador Qulacs"
   ]
  },
  {
   "cell_type": "code",
   "execution_count": null,
   "id": "504ffb9e-aeae-469f-8034-afa4c02090f5",
   "metadata": {},
   "outputs": [],
   "source": [
    "from pytket.extensions.qulacs import QulacsBackend\n",
    "\n",
    "qulacs = QulacsBackend()\n",
    "circ_compilado_qulacs = qulacs.get_compiled_circuit(circuit=circ)\n",
    "handle_qulacs = qulacs.process_circuit(circuit=circ_compilado_qulacs, n_shots=10)\n",
    "resultado_qulacs = qulacs.get_result(handle_qulacs)\n",
    "resultado_qulacs.get_counts()"
   ]
  },
  {
   "cell_type": "markdown",
   "id": "76758c45-770a-44ee-81ff-a9d698e0d42a",
   "metadata": {},
   "source": [
    "# 2.6. Un circuito más interesnate"
   ]
  },
  {
   "cell_type": "markdown",
   "id": "3b5d58eb-dd85-4171-b700-1c3b37718a28",
   "metadata": {},
   "source": [
    "<div class=\"alert alert-block alert-info\">\n",
    "    <b>📝 Ejercicio 2.4.e1 📝</b><br>\n",
    "    Usando <code>pytket</code> crea el circuito cuántico de la siguiente imagen.\n",
    "</div>"
   ]
  },
  {
   "cell_type": "markdown",
   "id": "99feff31-a6ab-48c7-99b9-7bc199c0b88d",
   "metadata": {},
   "source": [
    "\n",
    "![title=\"Quantum_circuit.jpg\"](https://www.researchgate.net/profile/Maximilian_Plenert/publication/281376174/figure/fig6/AS:669946434551845@1536739085660/Quantum-Circuit-for-Quantum-Teleportation.png)"
   ]
  },
  {
   "cell_type": "code",
   "execution_count": null,
   "id": "67e5ca53-0bdb-4e48-8fca-5774fa5e720f",
   "metadata": {
    "scrolled": true
   },
   "outputs": [],
   "source": [
    "# Circuito\n",
    "circuito_ejercicio = Circuit(3)\n",
    "\n",
    "# Compuertas\n",
    "\n",
    "# Medición\n",
    "\n",
    "# Compuertas controladas\n",
    "\n",
    "\n",
    "render_circuit_jupyter(circ)"
   ]
  }
 ],
 "metadata": {
  "kernelspec": {
   "display_name": "Python 3 (ipykernel)",
   "language": "python",
   "name": "python3"
  },
  "language_info": {
   "codemirror_mode": {
    "name": "ipython",
    "version": 3
   },
   "file_extension": ".py",
   "mimetype": "text/x-python",
   "name": "python",
   "nbconvert_exporter": "python",
   "pygments_lexer": "ipython3",
   "version": "3.10.0"
  }
 },
 "nbformat": 4,
 "nbformat_minor": 5
}
