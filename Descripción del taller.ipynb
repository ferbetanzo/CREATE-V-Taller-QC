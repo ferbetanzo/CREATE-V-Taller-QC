{
 "cells": [
  {
   "cell_type": "markdown",
   "id": "78327940-2c74-4733-acce-69dc888751b1",
   "metadata": {},
   "source": [
    "# Objetivo\n",
    "\n",
    "Al final del taller los asistentes deberán ser capaces de analizar cómo funciona un algoritmo o circuito cuántico simple y entender por qué provee una ventaja computacional sobre un algoritmo clásico.\n",
    "\n",
    "El taller básicamente cubre los dos primeros capítulos de las notas de cómputo cuántico de Ronald de Wolf: [\"Quantum Computing: Lecture Notes\"](https://arxiv.org/pdf/1907.09415.pdf)."
   ]
  },
  {
   "cell_type": "markdown",
   "id": "4b4ec285-627e-49bf-b7f7-31b7b2205148",
   "metadata": {},
   "source": [
    "# Formato del taller\n",
    "\n",
    "El taller se da en forma de Jupyter *notebooks*, como ésta que estás leyendo. Aquí puedes encontrar una guía rápida acerca de qué es y cómo funcionan las *notebooks* de Jupyter: [guía de Jupyter](https://bryanzs.medium.com/jupyter-notebook-gu%C3%ADa-de-uso-b%C3%A1sico-297693aef973).\n",
    "\n",
    "A lo largo de la presentación/*notebook*, verás unos *callouts* de diferente color como los siguientes:\n",
    "<div class=\"alert alert-block alert-success\">\n",
    "    <b>💡 Recuerda 💡</b><br>Términos o definiciones que son importantes recordar.\n",
    "</div>\n",
    "<div class=\"alert alert-block alert-info\">\n",
    "    <b>📝 Ejercicio 📝</b><br>Actividades prácticas (escribir código de python que haga algo).\n",
    "</div>"
   ]
  },
  {
   "cell_type": "markdown",
   "id": "029856e3-5298-4b4c-b9dc-4629de1f0d6d",
   "metadata": {},
   "source": [
    "## ¿Cómo seguir el taller?\n",
    "\n",
    "### A. Correr Jupyter localmente\n",
    "1. Asegúrate de tener instalado una versión de python $\\geq 3.10$.\n",
    "2. Clona (o descarga) el repositorio: [https://github.com/ferbetanzo/CREATE-V-Taller-QC](https://github.com/ferbetanzo/CREATE-V-Taller-QC)\n",
    "3. Entra al directorio \"CREATE-V-Taller-QC\"\n",
    "4. En un ambiente de python nuevo (o usando el ambiente global), ejecuta el siguiente comando para instalar las dependencias:\n",
    " ```bash\n",
    "pip install -r requirements.txt\n",
    "```\n",
    "5. Lanza la interfaz web de jupyterlab con:\n",
    "```bash\n",
    "jupyter-lab\n",
    "```"
   ]
  },
  {
   "cell_type": "markdown",
   "id": "cc737652-96f7-4bb8-9068-cfbbe6377152",
   "metadata": {},
   "source": [
    "### B. Usar Google Colab para ejecutar las *notebooks* en la nube\n",
    "1. Para usar Colab necesitas una cuenta de Google válida.\n",
    "2. Ve al repositorio: [https://github.com/ferbetanzo/CREATE-V-Taller-QC](https://github.com/ferbetanzo/CREATE-V-Taller-QC)\n",
    "3. Da click en el botón \"Open in Colab\" de la *notebook* correspondiente.\n",
    "4. Dado que los ambientes de Jupyter en Google Colab son dinámicos, debes asegurarte de instalar las dependencias cada que lanzas un nuevo ambiente. Para esto copia el siguiente texto, pégalo en una celda de código y ejecuta la celda:\n",
    "```bash\n",
    "!pip install pytket==1.25.0 pytket-quantinuum==0.29.0 pytket-qiskit==0.48.0 pytket-qulacs==0.34.0\n",
    "```\n",
    "\n",
    "**Nota:** Los callouts de **Recuerda** y **Ejercicio** antes mencionados no se mostrarán correctamente en Google Colab"
   ]
  },
  {
   "attachments": {},
   "cell_type": "markdown",
   "id": "001e498d-5367-4681-88f5-c8bb46f82466",
   "metadata": {},
   "source": [
    "# Slido\n",
    "\n",
    "Además usaremos la herramienta **slido** para poder hacer cuestionarios interactivos durante las sesiones.\n",
    "\n",
    "Para participar, puedes:\n",
    "1. Descargar la aplicación slido para [Android](https://play.google.com/store/apps/details?id=com.slido.app) o [iOS](https://apps.apple.com/us/app/slido-q-a-and-polling/id954596240), e ingresar el código correspondiente.\n",
    "2. Entrar a la página [slido.com](slido.com) e ingresar el código correspondiente.\n",
    "3. Escanear el código QR que se mostrará en pantalla."
   ]
  },
  {
   "attachments": {},
   "cell_type": "markdown",
   "id": "d9a6ff59-fea9-4c5e-b59e-76a1aafcb07a",
   "metadata": {},
   "source": [
    "| link | código |\n",
    "| --- | --- |\n",
    "| [https://app.sli.do/event/nvYKHJPpGvv75EqyDA4pFn](https://app.sli.do/event/nvYKHJPpGvv75EqyDA4pFn) | **1348 467** |"
   ]
  },
  {
   "cell_type": "markdown",
   "id": "88d7b1ee-ddc8-4d46-b1f6-ac0a35e7dd8a",
   "metadata": {},
   "source": [
    "## A. ¿Qué te viene a la mente cuando escuchas \"cómputo cuántico\"?"
   ]
  },
  {
   "cell_type": "markdown",
   "id": "8065fa06-7f87-470e-a312-3f1fda15adda",
   "metadata": {},
   "source": [
    "## B. ¿Qué tan familiarizado estás con el cómputo cuántico?\n",
    "\n",
    "1. ¿Eso con qué se come?\n",
    "2. Lo escuche por primera vez hoy en la presentación de la mañana.\n",
    "3. He leído/visto acerca del cómputo cuántico en artículos/videos de divulgación científica.\n",
    "4. Conozco la teoría de la mecánica cuántica y/o del cómputo cuántico.\n",
    "5. Entiendo/hago artículos científicos en el tema."
   ]
  }
 ],
 "metadata": {
  "kernelspec": {
   "display_name": "Python 3 (ipykernel)",
   "language": "python",
   "name": "python3"
  },
  "language_info": {
   "codemirror_mode": {
    "name": "ipython",
    "version": 3
   },
   "file_extension": ".py",
   "mimetype": "text/x-python",
   "name": "python",
   "nbconvert_exporter": "python",
   "pygments_lexer": "ipython3",
   "version": "3.10.13"
  }
 },
 "nbformat": 4,
 "nbformat_minor": 5
}
