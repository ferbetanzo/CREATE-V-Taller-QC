{
 "cells": [
  {
   "cell_type": "markdown",
   "id": "4b4ec285-627e-49bf-b7f7-31b7b2205148",
   "metadata": {},
   "source": [
    "# Formato del taller\n",
    "\n",
    "El taller se da en forma de Jupyter *notebooks*, como ésta que estás leyendo. Aquí puedes encontrar una guía rápida acerca de qué es y cómo funcionan las *notebooks* de Jupyter: [guía de Jupyter](https://bryanzs.medium.com/jupyter-notebook-gu%C3%ADa-de-uso-b%C3%A1sico-297693aef973)\n",
    "\n",
    "A lo largo de la presentación/*notebook*, verás unos *callouts* de diferente color como las siguientes:\n",
    "<div class=\"alert alert-block alert-success\">\n",
    "    <b>💡 Recuerda 💡</b><br>Términos o definiciones que son importantes recordar.\n",
    "</div>\n",
    "<div class=\"alert alert-block alert-info\">\n",
    "    <b>📝 Ejercicio 📝</b><br>Actividades prácticas (escribir código de python que haga algo).\n",
    "</div>\n"
   ]
  },
  {
   "cell_type": "markdown",
   "id": "4bbefdac-a536-49df-9f59-df7a44b38fa8",
   "metadata": {},
   "source": [
    "Además, también usaremos la herramienta sli.do para poder recibir respuestas interactivamente durante las sesiones.\n",
    "\n",
    "Para participar, puedes:\n",
    "1. Descargar la aplicación slido para [Android](https://play.google.com/store/apps/details?id=com.slido.app) o [iOS](https://apps.apple.com/us/app/slido-q-a-and-polling/id954596240), e ingresar el código correspondiente.\n",
    "2. Entrar a la página [slido.com](slido.com) e ingresar el código correspondiente.\n",
    "3. Leer el código QR que se mostrará en pantalla."
   ]
  },
  {
   "cell_type": "markdown",
   "id": "029856e3-5298-4b4c-b9dc-4629de1f0d6d",
   "metadata": {},
   "source": [
    "## ¿Cómo seguir el taller?\n",
    "\n",
    "## A. Correr Jupyter localmente\n",
    "1. Asegúrate de tener instalado una versión de python $\\geq 3.10$.\n",
    "2. Clona (o descarga) el repositorio: [https://github.com/ferbetanzo/CREATE-V-Taller-QC](https://github.com/ferbetanzo/CREATE-V-Taller-QC)\n",
    "3. Entra al directorio \"CREATE-V-Taller-QC\"\n",
    "4. En un ambiente de python nuevo (o usando el ambiente global), ejecuta el siguiente comando para instalar las dependencias:\n",
    " ```bash\n",
    "pip install -r requirements.tx\n",
    "```\n",
    "\n",
    "6. Lanza la interfaz web de jupyter con:\n",
    "```bash\n",
    "jupyter notebook\n",
    "```\n",
    "\n",
    "## B. Usar Google Colab para ejecutar las *notebooks* en la nube\n",
    "1. Ve al repositorio: [https://github.com/ferbetanzo/CREATE-V-Taller-QC](https://github.com/ferbetanzo/CREATE-V-Taller-QC)\n",
    "2. Da click en el botón \"Open in Colab\" de la *notebook* correspondiente.\n",
    "3. Dado que los ambientes de Jupyter en Colab son dinámicos, debes asegurarte de instalar las dependencias. Copia el siguiente texto y pégalo en una celda de código:\n",
    "```bash\n",
    "!pip install jupyterlab>=4 pytket==1.25.0 pytket-quantinuum==0.29.0 pytket-qiskit==0.48.0 pytket-qulacs==0.34.0\n",
    "```\n",
    "\n"
   ]
  },
  {
   "cell_type": "code",
   "execution_count": null,
   "id": "34bd3d08-8d2b-4cfd-9b88-b40e62ed88fb",
   "metadata": {},
   "outputs": [],
   "source": []
  }
 ],
 "metadata": {
  "kernelspec": {
   "display_name": "Python 3 (ipykernel)",
   "language": "python",
   "name": "python3"
  },
  "language_info": {
   "codemirror_mode": {
    "name": "ipython",
    "version": 3
   },
   "file_extension": ".py",
   "mimetype": "text/x-python",
   "name": "python",
   "nbconvert_exporter": "python",
   "pygments_lexer": "ipython3",
   "version": "3.10.13"
  }
 },
 "nbformat": 4,
 "nbformat_minor": 5
}
